{
  "nbformat": 4,
  "nbformat_minor": 0,
  "metadata": {
    "colab": {
      "name": "CNN_onlymfcc.ipynb",
      "provenance": [],
      "collapsed_sections": []
    },
    "kernelspec": {
      "name": "python3",
      "display_name": "Python 3"
    }
  },
  "cells": [
    {
      "cell_type": "markdown",
      "metadata": {
        "id": "ip8XID-RBUVF"
      },
      "source": [
        "CNN model trained on 3 second MFCC only feature set "
      ]
    },
    {
      "cell_type": "code",
      "metadata": {
        "colab": {
          "base_uri": "https://localhost:8080/"
        },
        "id": "kiLlD8Zipb7j",
        "outputId": "7995b8db-6cb6-4304-ff6e-1ffc31f26eda"
      },
      "source": [
        "from google.colab import drive\n",
        "drive.mount('/content/drive')"
      ],
      "execution_count": null,
      "outputs": [
        {
          "output_type": "stream",
          "text": [
            "Mounted at /content/drive\n"
          ],
          "name": "stdout"
        }
      ]
    },
    {
      "cell_type": "code",
      "metadata": {
        "id": "hCOrhCuVoc7B"
      },
      "source": [
        "import json\n",
        "import numpy as np\n",
        "from sklearn.model_selection import train_test_split\n",
        "import tensorflow.keras as keras\n",
        "import matplotlib.pyplot as plt\n",
        "import tensorflow as tf\n"
      ],
      "execution_count": null,
      "outputs": []
    },
    {
      "cell_type": "code",
      "metadata": {
        "id": "jKVtMqWTpABV"
      },
      "source": [
        "DATA_PATH ='/content/drive/My Drive/RP/newdata_10.json'"
      ],
      "execution_count": null,
      "outputs": []
    },
    {
      "cell_type": "code",
      "metadata": {
        "id": "8P7MPB8ugcC3"
      },
      "source": [
        "def load_data(data_path):\n",
        "\n",
        "\n",
        "    with open(data_path, \"r\") as fp:\n",
        "        data = json.load(fp)\n",
        "\n",
        "    X = np.array(data[\"mfcc\"])\n",
        "    y = np.array(data[\"labels\"])\n",
        "    z = np.array(data['mapping'])\n",
        "    return X, y, z\n"
      ],
      "execution_count": null,
      "outputs": []
    },
    {
      "cell_type": "code",
      "metadata": {
        "id": "mmcGSRoMgcp5"
      },
      "source": [
        "def plot_history(history):\n",
        "\n",
        "    fig, axs = plt.subplots(2)\n",
        "\n",
        "    # create accuracy sublpot\n",
        "    axs[0].plot(history.history[\"accuracy\"], label=\"train accuracy\")\n",
        "    axs[0].plot(history.history[\"val_accuracy\"], label=\"test accuracy\")\n",
        "    axs[0].set_ylabel(\"Accuracy\")\n",
        "    axs[0].legend(loc=\"lower right\")\n",
        "    axs[0].set_title(\"Accuracy eval\")\n",
        "\n",
        "    # create error sublpot\n",
        "    axs[1].plot(history.history[\"loss\"], label=\"train error\")\n",
        "    axs[1].plot(history.history[\"val_loss\"], label=\"test error\")\n",
        "    axs[1].set_ylabel(\"Error\")\n",
        "    axs[1].set_xlabel(\"Epoch\")\n",
        "    axs[1].legend(loc=\"upper right\")\n",
        "    axs[1].set_title(\"Error eval\")\n",
        "\n",
        "    plt.show()"
      ],
      "execution_count": null,
      "outputs": []
    },
    {
      "cell_type": "code",
      "metadata": {
        "id": "Bue2SqCngf6_"
      },
      "source": [
        "def prepare_datasets(test_size):\n",
        "\n",
        "    # load data\n",
        "    X, y, z = load_data(DATA_PATH)\n",
        "\n",
        "    # create train, validation and test split\n",
        "    X_train, X_test, y_train, y_test = train_test_split(X, y, test_size=test_size)\n",
        "\n",
        "    # add an axis to input sets\n",
        "    X_train = X_train[..., np.newaxis]\n",
        "    X_test = X_test[..., np.newaxis]\n",
        "\n",
        "    return X_train, X_test, y_train,y_test, z\n"
      ],
      "execution_count": null,
      "outputs": []
    },
    {
      "cell_type": "code",
      "metadata": {
        "id": "0a8wCy8Fgh2l"
      },
      "source": [
        "def build_model(input_shape):\n",
        "    model = keras.Sequential()\n",
        "    model.add(keras.layers.Conv2D(32 , (3,3) ,activation = 'relu', input_shape=input_shape))\n",
        "    model.add(keras.layers.MaxPooling2D((3,3),strides=(2,2),padding='same'))\n",
        "    model.add(keras.layers.BatchNormalization())\n",
        "\n",
        "    model.add(keras.layers.Conv2D(64 , (3,3) ,activation = 'relu'))\n",
        "    model.add(keras.layers.MaxPooling2D((3,3),strides=(2,2),padding='same'))\n",
        "    model.add(keras.layers.BatchNormalization())\n",
        "    \n",
        "    model.add(keras.layers.Conv2D(64 , (2,2) ,activation = 'relu'))\n",
        "    model.add(keras.layers.MaxPooling2D((2,2),strides=(2,2),padding='same'))\n",
        "    model.add(keras.layers.BatchNormalization())\n",
        "    \n",
        "    model.add(keras.layers.Flatten())\n",
        "    model.add(keras.layers.Dense(64,activation = 'relu'))\n",
        "    model.add(keras.layers.Dropout(0.3))\n",
        "    model.add(keras.layers.Dense(10,activation='softmax'))\n",
        "    \n",
        "    return model"
      ],
      "execution_count": null,
      "outputs": []
    },
    {
      "cell_type": "code",
      "metadata": {
        "id": "8CeS9_6IgiUg"
      },
      "source": [
        "def predict(model, X, y):\n",
        "    X = X[np.newaxis, ...] # array shape (1, 130, 13, 1)\n",
        "    # perform prediction\n",
        "    prediction = model.predict(X)\n",
        "    # get index with max value\n",
        "    predicted_index = np.argmax(prediction, axis=1)\n",
        "    # get mappings for target and predicted label\n",
        "    target = z[y]\n",
        "    predicted = z[predicted_index]\n",
        "    print(\"Target: {}, Predicted label: {}\".format(target, predicted))"
      ],
      "execution_count": null,
      "outputs": []
    },
    {
      "cell_type": "code",
      "metadata": {
        "id": "wVoN2u8TgmCk"
      },
      "source": [
        "# get train, test splits\n",
        "X_train,X_test, y_train, y_test, z = prepare_datasets(0.2)\n"
      ],
      "execution_count": null,
      "outputs": []
    },
    {
      "cell_type": "code",
      "metadata": {
        "id": "QLWdQlAZgtBF"
      },
      "source": [
        "# create network\n",
        "input_shape = (X_train.shape[1], X_train.shape[2], 1)\n",
        "model = build_model(input_shape)\n"
      ],
      "execution_count": null,
      "outputs": []
    },
    {
      "cell_type": "code",
      "metadata": {
        "id": "a675HQqsgucl",
        "colab": {
          "base_uri": "https://localhost:8080/"
        },
        "outputId": "c3be0047-4bd2-401b-c25e-6f32193a13ab"
      },
      "source": [
        "# compile model\n",
        "optimiser = keras.optimizers.Adam(learning_rate=0.0001)\n",
        "model.compile(optimizer=optimiser,\n",
        "              loss='sparse_categorical_crossentropy',\n",
        "              metrics=['accuracy'])\n",
        "\n",
        "model.summary()"
      ],
      "execution_count": null,
      "outputs": [
        {
          "output_type": "stream",
          "text": [
            "Model: \"sequential\"\n",
            "_________________________________________________________________\n",
            "Layer (type)                 Output Shape              Param #   \n",
            "=================================================================\n",
            "conv2d (Conv2D)              (None, 128, 11, 32)       320       \n",
            "_________________________________________________________________\n",
            "max_pooling2d (MaxPooling2D) (None, 64, 6, 32)         0         \n",
            "_________________________________________________________________\n",
            "batch_normalization (BatchNo (None, 64, 6, 32)         128       \n",
            "_________________________________________________________________\n",
            "conv2d_1 (Conv2D)            (None, 62, 4, 64)         18496     \n",
            "_________________________________________________________________\n",
            "max_pooling2d_1 (MaxPooling2 (None, 31, 2, 64)         0         \n",
            "_________________________________________________________________\n",
            "batch_normalization_1 (Batch (None, 31, 2, 64)         256       \n",
            "_________________________________________________________________\n",
            "conv2d_2 (Conv2D)            (None, 30, 1, 64)         16448     \n",
            "_________________________________________________________________\n",
            "max_pooling2d_2 (MaxPooling2 (None, 15, 1, 64)         0         \n",
            "_________________________________________________________________\n",
            "batch_normalization_2 (Batch (None, 15, 1, 64)         256       \n",
            "_________________________________________________________________\n",
            "flatten (Flatten)            (None, 960)               0         \n",
            "_________________________________________________________________\n",
            "dense (Dense)                (None, 64)                61504     \n",
            "_________________________________________________________________\n",
            "dropout (Dropout)            (None, 64)                0         \n",
            "_________________________________________________________________\n",
            "dense_1 (Dense)              (None, 10)                650       \n",
            "=================================================================\n",
            "Total params: 98,058\n",
            "Trainable params: 97,738\n",
            "Non-trainable params: 320\n",
            "_________________________________________________________________\n"
          ],
          "name": "stdout"
        }
      ]
    },
    {
      "cell_type": "code",
      "metadata": {
        "id": "bYxv3iooRwIV"
      },
      "source": [
        "#from keras.callbacks import EarlyStopping\n",
        "#early_stopping_monitor = EarlyStopping(patience=3)\n",
        "\n",
        "class CustomCallback(tf.keras.callbacks.Callback):\n",
        "    def on_epoch_end(self, epoch, logs=None):\n",
        "        if logs.get('val_accuracy') >= 8e-1:\n",
        "            self.model.stop_training = True\n",
        "callback = CustomCallback()"
      ],
      "execution_count": null,
      "outputs": []
    },
    {
      "cell_type": "code",
      "metadata": {
        "id": "eTy_zMlGgxNC",
        "colab": {
          "base_uri": "https://localhost:8080/"
        },
        "outputId": "7196e826-709c-4292-8937-199cb5791ed6"
      },
      "source": [
        "# train model\n",
        "history = model.fit(X_train, y_train, validation_data=(X_test, y_test), batch_size=32, epochs=50,callbacks=[callback])"
      ],
      "execution_count": null,
      "outputs": [
        {
          "output_type": "stream",
          "text": [
            "Epoch 1/50\n",
            "250/250 [==============================] - 21s 79ms/step - loss: 2.5186 - accuracy: 0.2187 - val_loss: 1.6313 - val_accuracy: 0.4395\n",
            "Epoch 2/50\n",
            "250/250 [==============================] - 19s 77ms/step - loss: 1.6664 - accuracy: 0.4260 - val_loss: 1.3354 - val_accuracy: 0.5425\n",
            "Epoch 3/50\n",
            "250/250 [==============================] - 19s 77ms/step - loss: 1.4345 - accuracy: 0.4965 - val_loss: 1.2213 - val_accuracy: 0.5800\n",
            "Epoch 4/50\n",
            "250/250 [==============================] - 20s 78ms/step - loss: 1.2925 - accuracy: 0.5500 - val_loss: 1.1308 - val_accuracy: 0.5930\n",
            "Epoch 5/50\n",
            "250/250 [==============================] - 19s 77ms/step - loss: 1.1848 - accuracy: 0.5796 - val_loss: 1.0477 - val_accuracy: 0.6325\n",
            "Epoch 6/50\n",
            "250/250 [==============================] - 19s 77ms/step - loss: 1.1054 - accuracy: 0.6140 - val_loss: 1.0143 - val_accuracy: 0.6440\n",
            "Epoch 7/50\n",
            "250/250 [==============================] - 19s 77ms/step - loss: 1.0427 - accuracy: 0.6389 - val_loss: 0.9514 - val_accuracy: 0.6700\n",
            "Epoch 8/50\n",
            "250/250 [==============================] - 19s 76ms/step - loss: 0.9705 - accuracy: 0.6641 - val_loss: 0.9338 - val_accuracy: 0.6710\n",
            "Epoch 9/50\n",
            "250/250 [==============================] - 19s 77ms/step - loss: 0.9251 - accuracy: 0.6759 - val_loss: 0.9014 - val_accuracy: 0.6815\n",
            "Epoch 10/50\n",
            "250/250 [==============================] - 19s 76ms/step - loss: 0.8845 - accuracy: 0.6963 - val_loss: 0.8454 - val_accuracy: 0.7025\n",
            "Epoch 11/50\n",
            "250/250 [==============================] - 19s 76ms/step - loss: 0.8271 - accuracy: 0.7126 - val_loss: 0.8576 - val_accuracy: 0.6945\n",
            "Epoch 12/50\n",
            "250/250 [==============================] - 19s 76ms/step - loss: 0.8063 - accuracy: 0.7246 - val_loss: 0.8142 - val_accuracy: 0.7130\n",
            "Epoch 13/50\n",
            "250/250 [==============================] - 19s 76ms/step - loss: 0.7487 - accuracy: 0.7438 - val_loss: 0.8053 - val_accuracy: 0.7150\n",
            "Epoch 14/50\n",
            "250/250 [==============================] - 19s 76ms/step - loss: 0.7158 - accuracy: 0.7561 - val_loss: 0.7887 - val_accuracy: 0.7165\n",
            "Epoch 15/50\n",
            "250/250 [==============================] - 19s 76ms/step - loss: 0.6957 - accuracy: 0.7549 - val_loss: 0.7456 - val_accuracy: 0.7390\n",
            "Epoch 16/50\n",
            "250/250 [==============================] - 19s 75ms/step - loss: 0.6483 - accuracy: 0.7784 - val_loss: 0.7364 - val_accuracy: 0.7485\n",
            "Epoch 17/50\n",
            "250/250 [==============================] - 19s 75ms/step - loss: 0.6334 - accuracy: 0.7735 - val_loss: 0.7126 - val_accuracy: 0.7535\n",
            "Epoch 18/50\n",
            "250/250 [==============================] - 19s 76ms/step - loss: 0.6010 - accuracy: 0.7978 - val_loss: 0.7165 - val_accuracy: 0.7575\n",
            "Epoch 19/50\n",
            "250/250 [==============================] - 19s 76ms/step - loss: 0.5753 - accuracy: 0.8017 - val_loss: 0.7236 - val_accuracy: 0.7465\n",
            "Epoch 20/50\n",
            "250/250 [==============================] - 19s 75ms/step - loss: 0.5356 - accuracy: 0.8112 - val_loss: 0.7017 - val_accuracy: 0.7645\n",
            "Epoch 21/50\n",
            "250/250 [==============================] - 19s 76ms/step - loss: 0.5280 - accuracy: 0.8192 - val_loss: 0.7263 - val_accuracy: 0.7500\n",
            "Epoch 22/50\n",
            "250/250 [==============================] - 19s 75ms/step - loss: 0.5087 - accuracy: 0.8312 - val_loss: 0.7375 - val_accuracy: 0.7535\n",
            "Epoch 23/50\n",
            "250/250 [==============================] - 19s 75ms/step - loss: 0.4896 - accuracy: 0.8255 - val_loss: 0.6798 - val_accuracy: 0.7650\n",
            "Epoch 24/50\n",
            "250/250 [==============================] - 19s 75ms/step - loss: 0.4535 - accuracy: 0.8409 - val_loss: 0.6628 - val_accuracy: 0.7720\n",
            "Epoch 25/50\n",
            "250/250 [==============================] - 19s 75ms/step - loss: 0.4467 - accuracy: 0.8443 - val_loss: 0.7126 - val_accuracy: 0.7530\n",
            "Epoch 26/50\n",
            "250/250 [==============================] - 19s 75ms/step - loss: 0.4146 - accuracy: 0.8555 - val_loss: 0.6969 - val_accuracy: 0.7590\n",
            "Epoch 27/50\n",
            "250/250 [==============================] - 19s 75ms/step - loss: 0.3910 - accuracy: 0.8699 - val_loss: 0.6650 - val_accuracy: 0.7835\n",
            "Epoch 28/50\n",
            "250/250 [==============================] - 19s 75ms/step - loss: 0.3848 - accuracy: 0.8710 - val_loss: 0.6997 - val_accuracy: 0.7570\n",
            "Epoch 29/50\n",
            "250/250 [==============================] - 19s 75ms/step - loss: 0.3797 - accuracy: 0.8650 - val_loss: 0.6553 - val_accuracy: 0.7770\n",
            "Epoch 30/50\n",
            "250/250 [==============================] - 19s 76ms/step - loss: 0.3653 - accuracy: 0.8715 - val_loss: 0.6739 - val_accuracy: 0.7740\n",
            "Epoch 31/50\n",
            "250/250 [==============================] - 19s 75ms/step - loss: 0.3589 - accuracy: 0.8800 - val_loss: 0.6497 - val_accuracy: 0.7830\n",
            "Epoch 32/50\n",
            "250/250 [==============================] - 19s 75ms/step - loss: 0.3244 - accuracy: 0.8930 - val_loss: 0.6486 - val_accuracy: 0.7855\n",
            "Epoch 33/50\n",
            "250/250 [==============================] - 19s 75ms/step - loss: 0.3150 - accuracy: 0.8955 - val_loss: 0.6780 - val_accuracy: 0.7815\n",
            "Epoch 34/50\n",
            "250/250 [==============================] - 19s 75ms/step - loss: 0.3052 - accuracy: 0.8968 - val_loss: 0.6829 - val_accuracy: 0.7710\n",
            "Epoch 35/50\n",
            "250/250 [==============================] - 19s 75ms/step - loss: 0.2849 - accuracy: 0.9059 - val_loss: 0.6942 - val_accuracy: 0.7705\n",
            "Epoch 36/50\n",
            "250/250 [==============================] - 19s 75ms/step - loss: 0.2744 - accuracy: 0.9081 - val_loss: 0.6598 - val_accuracy: 0.7885\n",
            "Epoch 37/50\n",
            "250/250 [==============================] - 19s 75ms/step - loss: 0.2755 - accuracy: 0.9106 - val_loss: 0.6625 - val_accuracy: 0.7815\n",
            "Epoch 38/50\n",
            "250/250 [==============================] - 19s 75ms/step - loss: 0.2749 - accuracy: 0.9039 - val_loss: 0.6749 - val_accuracy: 0.7770\n",
            "Epoch 39/50\n",
            "250/250 [==============================] - 19s 75ms/step - loss: 0.2564 - accuracy: 0.9141 - val_loss: 0.6759 - val_accuracy: 0.7800\n",
            "Epoch 40/50\n",
            "250/250 [==============================] - 19s 75ms/step - loss: 0.2705 - accuracy: 0.9084 - val_loss: 0.6727 - val_accuracy: 0.7770\n",
            "Epoch 41/50\n",
            "250/250 [==============================] - 19s 75ms/step - loss: 0.2427 - accuracy: 0.9190 - val_loss: 0.6541 - val_accuracy: 0.7895\n",
            "Epoch 42/50\n",
            "250/250 [==============================] - 19s 77ms/step - loss: 0.2297 - accuracy: 0.9297 - val_loss: 0.6772 - val_accuracy: 0.7830\n",
            "Epoch 43/50\n",
            "250/250 [==============================] - 19s 77ms/step - loss: 0.2302 - accuracy: 0.9205 - val_loss: 0.6836 - val_accuracy: 0.7885\n",
            "Epoch 44/50\n",
            "250/250 [==============================] - 19s 77ms/step - loss: 0.1895 - accuracy: 0.9412 - val_loss: 0.6730 - val_accuracy: 0.7905\n",
            "Epoch 45/50\n",
            "250/250 [==============================] - 20s 78ms/step - loss: 0.2027 - accuracy: 0.9346 - val_loss: 0.6966 - val_accuracy: 0.7885\n",
            "Epoch 46/50\n",
            "250/250 [==============================] - 19s 75ms/step - loss: 0.1960 - accuracy: 0.9392 - val_loss: 0.6970 - val_accuracy: 0.7845\n",
            "Epoch 47/50\n",
            "250/250 [==============================] - 19s 75ms/step - loss: 0.1843 - accuracy: 0.9438 - val_loss: 0.6954 - val_accuracy: 0.7790\n",
            "Epoch 48/50\n",
            "250/250 [==============================] - 19s 75ms/step - loss: 0.1920 - accuracy: 0.9391 - val_loss: 0.7307 - val_accuracy: 0.7860\n",
            "Epoch 49/50\n",
            "250/250 [==============================] - 19s 77ms/step - loss: 0.1736 - accuracy: 0.9450 - val_loss: 0.7202 - val_accuracy: 0.7785\n",
            "Epoch 50/50\n",
            "250/250 [==============================] - 20s 79ms/step - loss: 0.1736 - accuracy: 0.9433 - val_loss: 0.7537 - val_accuracy: 0.7720\n"
          ],
          "name": "stdout"
        }
      ]
    },
    {
      "cell_type": "code",
      "metadata": {
        "id": "d-fG_Dm4ibVk",
        "colab": {
          "base_uri": "https://localhost:8080/",
          "height": 294
        },
        "outputId": "0ea2c463-db75-415c-c66f-87f75bf17fc6"
      },
      "source": [
        "# plot accuracy/error for training and validation\n",
        "plot_history(history)"
      ],
      "execution_count": null,
      "outputs": [
        {
          "output_type": "display_data",
          "data": {
            "image/png": "[encoded data removed]",
            "text/plain": [
              "<Figure size 432x288 with 2 Axes>"
            ]
          },
          "metadata": {
            "tags": [],
            "needs_background": "light"
          }
        }
      ]
    },
    {
      "cell_type": "code",
      "metadata": {
        "id": "vB0X2itQiiBc",
        "colab": {
          "base_uri": "https://localhost:8080/"
        },
        "outputId": "ad45ac83-0ad4-46bc-c0e9-b3e897ee946d"
      },
      "source": [
        "# evaluate model on test set\n",
        "test_loss, test_acc = model.evaluate(X_test, y_test, verbose=2)\n",
        "print('\\nTest accuracy:', test_acc)"
      ],
      "execution_count": null,
      "outputs": [
        {
          "output_type": "stream",
          "text": [
            "63/63 - 1s - loss: 0.7537 - accuracy: 0.7720\n",
            "\n",
            "Test accuracy: 0.7720000147819519\n"
          ],
          "name": "stdout"
        }
      ]
    },
    {
      "cell_type": "code",
      "metadata": {
        "id": "vGHVtDkWilUn",
        "colab": {
          "base_uri": "https://localhost:8080/"
        },
        "outputId": "574dcbbd-dd68-4760-bcfa-94dcef5bca5e"
      },
      "source": [
        "# pick a sample to predict from the test set\n",
        "X_to_predict = X_test[100]\n",
        "y_to_predict = y_test[100]\n",
        "\n",
        "\n",
        "# predict sample\n",
        "prediction = predict(model, X_to_predict, y_to_predict)\n"
      ],
      "execution_count": null,
      "outputs": [
        {
          "output_type": "stream",
          "text": [
            "Target: classical, Predicted label: ['classical']\n"
          ],
          "name": "stdout"
        }
      ]
    },
    {
      "cell_type": "code",
      "metadata": {
        "colab": {
          "base_uri": "https://localhost:8080/",
          "height": 328
        },
        "id": "DNSyAD6-jLNt",
        "outputId": "bebb377f-4a5a-4086-e4c0-af014f872e84"
      },
      "source": [
        "#confusion matrix\n",
        "import itertools\n",
        "from itertools import cycle\n",
        "\n",
        "def plot_confusion_matrix(cm, classes,\n",
        "                          normalize=False,\n",
        "                          title='Confusion matrix',\n",
        "                          cmap=plt.cm.Blues):\n",
        "    \"\"\"\n",
        "    This function prints and plots the confusion matrix.\n",
        "    Normalization can be applied by setting `normalize=True`.\n",
        "    \"\"\"\n",
        "    plt.imshow(cm, interpolation='nearest', cmap=cmap)\n",
        "    plt.title(title)\n",
        "    plt.colorbar()\n",
        "    tick_marks = np.arange(len(classes))\n",
        "    plt.xticks(tick_marks, classes, rotation=45)\n",
        "    plt.yticks(tick_marks, classes)\n",
        "\n",
        "    if normalize:\n",
        "        cm = cm.astype('float') / cm.sum(axis=1)[:, np.newaxis]\n",
        "        print(\"Normalized confusion matrix\")\n",
        "    else:\n",
        "        print('Confusion matrix, without normalization')\n",
        "\n",
        "    #print(cm)\n",
        "\n",
        "    thresh = cm.max() / 2.\n",
        "    for i, j in itertools.product(range(cm.shape[0]), range(cm.shape[1])):\n",
        "        plt.text(j, i, cm[i, j],\n",
        "                 horizontalalignment=\"center\",\n",
        "                 color=\"white\" if cm[i, j] > thresh else \"black\")\n",
        "\n",
        "    plt.tight_layout()\n",
        "    plt.ylabel('True label')\n",
        "    plt.xlabel('Predicted label')\n",
        "\n",
        "\n",
        "\n",
        "preds = np.argmax(model.predict(X_test), axis = 1)\n",
        "#y_orig = np.argmax(y_test, axis = 1)\n",
        "\n",
        "from sklearn.metrics import confusion_matrix\n",
        "cm=confusion_matrix(y_test,preds)\n",
        "\n",
        "plot_confusion_matrix(cm,classes=z)\n",
        "                     "
      ],
      "execution_count": null,
      "outputs": [
        {
          "output_type": "stream",
          "text": [
            "Confusion matrix, without normalization\n"
          ],
          "name": "stdout"
        },
        {
          "output_type": "display_data",
          "data": {
            "image/png": "[encoded data removed]",
            "text/plain": [
              "<Figure size 432x288 with 2 Axes>"
            ]
          },
          "metadata": {
            "tags": [],
            "needs_background": "light"
          }
        }
      ]
    }
  ]
}