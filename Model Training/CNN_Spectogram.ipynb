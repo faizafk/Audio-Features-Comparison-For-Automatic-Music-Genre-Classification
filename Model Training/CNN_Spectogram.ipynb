{
  "nbformat": 4,
  "nbformat_minor": 0,
  "metadata": {
    "colab": {
      "name": "CNN_Spectogram.ipynb",
      "provenance": [],
      "collapsed_sections": []
    },
    "kernelspec": {
      "name": "python3",
      "display_name": "Python 3"
    },
    "accelerator": "GPU"
  },
  "cells": [
    {
      "cell_type": "markdown",
      "metadata": {
        "id": "J-zFhh41A6GM"
      },
      "source": [
        " CNN model trained on spectogram images "
      ]
    },
    {
      "cell_type": "code",
      "metadata": {
        "colab": {
          "base_uri": "https://localhost:8080/"
        },
        "id": "K0tsbrnAxDV2",
        "outputId": "1c481a3c-d553-48ac-f091-b535b968631e"
      },
      "source": [
        "from google.colab import drive\n",
        "drive.mount('/content/drive')"
      ],
      "execution_count": null,
      "outputs": [
        {
          "output_type": "stream",
          "text": [
            "Mounted at /content/drive\n"
          ],
          "name": "stdout"
        }
      ]
    },
    {
      "cell_type": "code",
      "metadata": {
        "colab": {
          "base_uri": "https://localhost:8080/"
        },
        "id": "Xf7fWRZhgJiG",
        "outputId": "d66428dc-9286-441f-d2a2-6054b9dbea41"
      },
      "source": [
        "import tensorflow as tf\n",
        "device_name = tf.test.gpu_device_name()\n",
        "if device_name != '/device:GPU:0':\n",
        "  raise SystemError('GPU device not found')\n",
        "print('Found GPU at: {}'.format(device_name))"
      ],
      "execution_count": null,
      "outputs": [
        {
          "output_type": "stream",
          "text": [
            "Found GPU at: /device:GPU:0\n"
          ],
          "name": "stdout"
        }
      ]
    },
    {
      "cell_type": "code",
      "metadata": {
        "id": "HXbNeamYxGGR"
      },
      "source": [
        "import pandas as pd\n",
        "import numpy as np\n",
        "from numpy import argmax\n",
        "import matplotlib.pyplot as plt\n",
        "%matplotlib inline\n",
        "import librosa\n",
        "import librosa.display\n",
        "import IPython.display\n",
        "import random\n",
        "import warnings\n",
        "import os\n",
        "from PIL import Image\n",
        "import pathlib\n",
        "import csv\n",
        "from matplotlib import cm\n",
        "# sklearn Preprocessing\n",
        "from sklearn.model_selection import train_test_split\n",
        "#Keras\n",
        "import keras\n",
        "import warnings\n",
        "warnings.filterwarnings('ignore')\n",
        "from keras import layers\n",
        "from keras.layers import Activation, Dense, Dropout, Conv2D, Flatten, MaxPooling2D, Input, Add\n",
        "from keras.models import Sequential\n",
        "from keras.optimizers import SGD\n",
        "from keras.applications.vgg16 import VGG16\n",
        "from keras.optimizers import Adam\n",
        "\n"
      ],
      "execution_count": null,
      "outputs": []
    },
    {
      "cell_type": "code",
      "metadata": {
        "id": "jSOEiBrjxIyY"
      },
      "source": [
        "song_dir =os.listdir('/content/drive/My Drive/RP/genres')\n",
        "dataset_path ='/content/drive/My Drive/RP/Data.csv'\n",
        "image_dir='/content/drive/MyDrive/RP/img_data/'\n",
        "train_dir=os.listdir('/content/drive/My Drive/RP/data/train')\n",
        "val_dir=os.listdir('/content/drive/My Drive/RP/data/val')\n"
      ],
      "execution_count": null,
      "outputs": []
    },
    {
      "cell_type": "code",
      "metadata": {
        "id": "6xUe7ewfxM23"
      },
      "source": [
        "from keras.preprocessing.image import ImageDataGenerator\n",
        "train_datagen = ImageDataGenerator(\n",
        "        rescale=1./255, # rescale all pixel values from 0-255, so aftre this step all our pixel values are in range (0,1)\n",
        "        shear_range=0.2, #to apply some random tranfromations\n",
        "        zoom_range=0.2, #to apply zoom\n",
        "        horizontal_flip=True) # image will be flipped horiz\n",
        "\n",
        "test_datagen = ImageDataGenerator(rescale=1./255)"
      ],
      "execution_count": null,
      "outputs": []
    },
    {
      "cell_type": "code",
      "metadata": {
        "colab": {
          "base_uri": "https://localhost:8080/"
        },
        "id": "URZIZm-jxNQx",
        "outputId": "a64c1ec4-97cf-4729-94e6-43c4a8d3c578"
      },
      "source": [
        "train_set = train_datagen.flow_from_directory(\n",
        "        '/content/drive/My Drive/RP/data/train',\n",
        "        target_size=(224, 224),\n",
        "        #batch_size=32,\n",
        "        class_mode='categorical',\n",
        "        shuffle = False)\n",
        "test_set = test_datagen.flow_from_directory(\n",
        "        '/content/drive/My Drive/RP/data/val',\n",
        "        target_size=(224, 224),\n",
        "        #batch_size=32,\n",
        "        class_mode='categorical',\n",
        "        shuffle = False )\n"
      ],
      "execution_count": null,
      "outputs": [
        {
          "output_type": "stream",
          "text": [
            "Found 800 images belonging to 10 classes.\n",
            "Found 200 images belonging to 10 classes.\n"
          ],
          "name": "stdout"
        }
      ]
    },
    {
      "cell_type": "code",
      "metadata": {
        "id": "3g3Nou-ZnQl7",
        "colab": {
          "base_uri": "https://localhost:8080/"
        },
        "outputId": "bca03e85-2fa8-40d3-f9e2-7d98ff1d5010"
      },
      "source": [
        "#Transfer learning: The weights in the conv base are kept fixed but the weights in the feed-forward network\n",
        "#are allowed to be tuned to predict the correct genre label\n",
        "\n",
        "vgg_model=VGG16(include_top=True,weights=\"imagenet\",input_shape=(224,224,3),pooling=\"avg\")\n",
        "\n",
        "#top=true cuz we use output layers of model as it is"
      ],
      "execution_count": null,
      "outputs": [
        {
          "output_type": "stream",
          "text": [
            "Downloading data from https://storage.googleapis.com/tensorflow/keras-applications/vgg16/vgg16_weights_tf_dim_ordering_tf_kernels.h5\n",
            "553467904/553467096 [==============================] - 3s 0us/step\n"
          ],
          "name": "stdout"
        }
      ]
    },
    {
      "cell_type": "code",
      "metadata": {
        "id": "wjoCacIbnQ_6"
      },
      "source": [
        "#not be training the weights of the first 16 layers and use it as it is\n",
        "for layer in vgg_model.layers[:16]:\n",
        "    layer.trainable=False"
      ],
      "execution_count": null,
      "outputs": []
    },
    {
      "cell_type": "code",
      "metadata": {
        "colab": {
          "base_uri": "https://localhost:8080/"
        },
        "id": "WIYAXSXEnRBy",
        "outputId": "0d5b0807-b00e-4602-a8fd-123b64407a49"
      },
      "source": [
        "vgg_model.summary()"
      ],
      "execution_count": null,
      "outputs": [
        {
          "output_type": "stream",
          "text": [
            "Model: \"vgg16\"\n",
            "_________________________________________________________________\n",
            "Layer (type)                 Output Shape              Param #   \n",
            "=================================================================\n",
            "input_1 (InputLayer)         [(None, 224, 224, 3)]     0         \n",
            "_________________________________________________________________\n",
            "block1_conv1 (Conv2D)        (None, 224, 224, 64)      1792      \n",
            "_________________________________________________________________\n",
            "block1_conv2 (Conv2D)        (None, 224, 224, 64)      36928     \n",
            "_________________________________________________________________\n",
            "block1_pool (MaxPooling2D)   (None, 112, 112, 64)      0         \n",
            "_________________________________________________________________\n",
            "block2_conv1 (Conv2D)        (None, 112, 112, 128)     73856     \n",
            "_________________________________________________________________\n",
            "block2_conv2 (Conv2D)        (None, 112, 112, 128)     147584    \n",
            "_________________________________________________________________\n",
            "block2_pool (MaxPooling2D)   (None, 56, 56, 128)       0         \n",
            "_________________________________________________________________\n",
            "block3_conv1 (Conv2D)        (None, 56, 56, 256)       295168    \n",
            "_________________________________________________________________\n",
            "block3_conv2 (Conv2D)        (None, 56, 56, 256)       590080    \n",
            "_________________________________________________________________\n",
            "block3_conv3 (Conv2D)        (None, 56, 56, 256)       590080    \n",
            "_________________________________________________________________\n",
            "block3_pool (MaxPooling2D)   (None, 28, 28, 256)       0         \n",
            "_________________________________________________________________\n",
            "block4_conv1 (Conv2D)        (None, 28, 28, 512)       1180160   \n",
            "_________________________________________________________________\n",
            "block4_conv2 (Conv2D)        (None, 28, 28, 512)       2359808   \n",
            "_________________________________________________________________\n",
            "block4_conv3 (Conv2D)        (None, 28, 28, 512)       2359808   \n",
            "_________________________________________________________________\n",
            "block4_pool (MaxPooling2D)   (None, 14, 14, 512)       0         \n",
            "_________________________________________________________________\n",
            "block5_conv1 (Conv2D)        (None, 14, 14, 512)       2359808   \n",
            "_________________________________________________________________\n",
            "block5_conv2 (Conv2D)        (None, 14, 14, 512)       2359808   \n",
            "_________________________________________________________________\n",
            "block5_conv3 (Conv2D)        (None, 14, 14, 512)       2359808   \n",
            "_________________________________________________________________\n",
            "block5_pool (MaxPooling2D)   (None, 7, 7, 512)         0         \n",
            "_________________________________________________________________\n",
            "flatten (Flatten)            (None, 25088)             0         \n",
            "_________________________________________________________________\n",
            "fc1 (Dense)                  (None, 4096)              102764544 \n",
            "_________________________________________________________________\n",
            "fc2 (Dense)                  (None, 4096)              16781312  \n",
            "_________________________________________________________________\n",
            "predictions (Dense)          (None, 1000)              4097000   \n",
            "=================================================================\n",
            "Total params: 138,357,544\n",
            "Trainable params: 128,362,472\n",
            "Non-trainable params: 9,995,072\n",
            "_________________________________________________________________\n"
          ],
          "name": "stdout"
        }
      ]
    },
    {
      "cell_type": "code",
      "metadata": {
        "id": "BFHDap172Df6"
      },
      "source": [
        "from keras.models import Model\n",
        "X= vgg_model.layers[-2].output\n",
        "predictions = Dense(10, activation=\"softmax\")(X)\n",
        "model_final = Model(vgg_model.input,predictions)"
      ],
      "execution_count": null,
      "outputs": []
    },
    {
      "cell_type": "code",
      "metadata": {
        "colab": {
          "base_uri": "https://localhost:8080/"
        },
        "id": "eztobwgz2kC6",
        "outputId": "f241450d-0d23-4695-86bc-8c925be4da2a"
      },
      "source": [
        "model_final.summary()"
      ],
      "execution_count": null,
      "outputs": [
        {
          "output_type": "stream",
          "text": [
            "Model: \"model\"\n",
            "_________________________________________________________________\n",
            "Layer (type)                 Output Shape              Param #   \n",
            "=================================================================\n",
            "input_1 (InputLayer)         [(None, 224, 224, 3)]     0         \n",
            "_________________________________________________________________\n",
            "block1_conv1 (Conv2D)        (None, 224, 224, 64)      1792      \n",
            "_________________________________________________________________\n",
            "block1_conv2 (Conv2D)        (None, 224, 224, 64)      36928     \n",
            "_________________________________________________________________\n",
            "block1_pool (MaxPooling2D)   (None, 112, 112, 64)      0         \n",
            "_________________________________________________________________\n",
            "block2_conv1 (Conv2D)        (None, 112, 112, 128)     73856     \n",
            "_________________________________________________________________\n",
            "block2_conv2 (Conv2D)        (None, 112, 112, 128)     147584    \n",
            "_________________________________________________________________\n",
            "block2_pool (MaxPooling2D)   (None, 56, 56, 128)       0         \n",
            "_________________________________________________________________\n",
            "block3_conv1 (Conv2D)        (None, 56, 56, 256)       295168    \n",
            "_________________________________________________________________\n",
            "block3_conv2 (Conv2D)        (None, 56, 56, 256)       590080    \n",
            "_________________________________________________________________\n",
            "block3_conv3 (Conv2D)        (None, 56, 56, 256)       590080    \n",
            "_________________________________________________________________\n",
            "block3_pool (MaxPooling2D)   (None, 28, 28, 256)       0         \n",
            "_________________________________________________________________\n",
            "block4_conv1 (Conv2D)        (None, 28, 28, 512)       1180160   \n",
            "_________________________________________________________________\n",
            "block4_conv2 (Conv2D)        (None, 28, 28, 512)       2359808   \n",
            "_________________________________________________________________\n",
            "block4_conv3 (Conv2D)        (None, 28, 28, 512)       2359808   \n",
            "_________________________________________________________________\n",
            "block4_pool (MaxPooling2D)   (None, 14, 14, 512)       0         \n",
            "_________________________________________________________________\n",
            "block5_conv1 (Conv2D)        (None, 14, 14, 512)       2359808   \n",
            "_________________________________________________________________\n",
            "block5_conv2 (Conv2D)        (None, 14, 14, 512)       2359808   \n",
            "_________________________________________________________________\n",
            "block5_conv3 (Conv2D)        (None, 14, 14, 512)       2359808   \n",
            "_________________________________________________________________\n",
            "block5_pool (MaxPooling2D)   (None, 7, 7, 512)         0         \n",
            "_________________________________________________________________\n",
            "flatten (Flatten)            (None, 25088)             0         \n",
            "_________________________________________________________________\n",
            "fc1 (Dense)                  (None, 4096)              102764544 \n",
            "_________________________________________________________________\n",
            "fc2 (Dense)                  (None, 4096)              16781312  \n",
            "_________________________________________________________________\n",
            "dense (Dense)                (None, 10)                40970     \n",
            "=================================================================\n",
            "Total params: 134,301,514\n",
            "Trainable params: 124,306,442\n",
            "Non-trainable params: 9,995,072\n",
            "_________________________________________________________________\n"
          ],
          "name": "stdout"
        }
      ]
    },
    {
      "cell_type": "code",
      "metadata": {
        "id": "db1_zJI_narG"
      },
      "source": [
        "\n",
        "model_final.compile(optimizer=Adam(lr=1e-5),loss=\"categorical_crossentropy\",metrics=[\"accuracy\"])"
      ],
      "execution_count": null,
      "outputs": []
    },
    {
      "cell_type": "code",
      "metadata": {
        "colab": {
          "base_uri": "https://localhost:8080/"
        },
        "id": "muaVG4OWnhPs",
        "outputId": "18eeb977-28d6-4518-b3d9-1b6329ee70a7"
      },
      "source": [
        "from keras.callbacks import EarlyStopping\n",
        "#early_stopping_monitor = EarlyStopping(patience=5)\n",
        "epochs=100\n",
        "batch_size=32\n",
        "history = model_final.fit(train_set,validation_data=test_set,epochs=epochs,batch_size=batch_size)"
      ],
      "execution_count": null,
      "outputs": [
        {
          "output_type": "stream",
          "text": [
            "Epoch 1/100\n",
            "25/25 [==============================] - 351s 14s/step - loss: 3.2557 - accuracy: 0.0116 - val_loss: 2.8151 - val_accuracy: 0.1000\n",
            "Epoch 2/100\n",
            "25/25 [==============================] - 14s 541ms/step - loss: 3.2329 - accuracy: 0.0029 - val_loss: 2.4332 - val_accuracy: 0.1000\n",
            "Epoch 3/100\n",
            "25/25 [==============================] - 14s 541ms/step - loss: 2.5159 - accuracy: 0.1194 - val_loss: 2.2652 - val_accuracy: 0.2200\n",
            "Epoch 4/100\n",
            "25/25 [==============================] - 14s 541ms/step - loss: 2.5207 - accuracy: 0.1041 - val_loss: 2.1964 - val_accuracy: 0.2450\n",
            "Epoch 5/100\n",
            "25/25 [==============================] - 14s 542ms/step - loss: 2.2626 - accuracy: 0.2306 - val_loss: 2.0406 - val_accuracy: 0.3400\n",
            "Epoch 6/100\n",
            "25/25 [==============================] - 14s 541ms/step - loss: 2.3414 - accuracy: 0.1840 - val_loss: 1.9021 - val_accuracy: 0.3650\n",
            "Epoch 7/100\n",
            "25/25 [==============================] - 14s 541ms/step - loss: 2.0302 - accuracy: 0.3248 - val_loss: 1.7856 - val_accuracy: 0.2600\n",
            "Epoch 8/100\n",
            "25/25 [==============================] - 14s 553ms/step - loss: 1.8174 - accuracy: 0.3297 - val_loss: 1.7513 - val_accuracy: 0.3500\n",
            "Epoch 9/100\n",
            "25/25 [==============================] - 14s 545ms/step - loss: 1.8728 - accuracy: 0.3894 - val_loss: 1.6394 - val_accuracy: 0.3900\n",
            "Epoch 10/100\n",
            "25/25 [==============================] - 14s 541ms/step - loss: 1.7567 - accuracy: 0.3071 - val_loss: 1.6320 - val_accuracy: 0.3900\n",
            "Epoch 11/100\n",
            "25/25 [==============================] - 14s 541ms/step - loss: 1.6241 - accuracy: 0.4599 - val_loss: 1.6239 - val_accuracy: 0.3900\n",
            "Epoch 12/100\n",
            "25/25 [==============================] - 14s 549ms/step - loss: 1.9289 - accuracy: 0.2309 - val_loss: 1.5474 - val_accuracy: 0.4700\n",
            "Epoch 13/100\n",
            "25/25 [==============================] - 14s 543ms/step - loss: 1.4521 - accuracy: 0.5226 - val_loss: 1.5288 - val_accuracy: 0.4200\n",
            "Epoch 14/100\n",
            "25/25 [==============================] - 14s 544ms/step - loss: 1.7037 - accuracy: 0.3436 - val_loss: 1.4273 - val_accuracy: 0.5100\n",
            "Epoch 15/100\n",
            "25/25 [==============================] - 14s 546ms/step - loss: 1.6082 - accuracy: 0.3686 - val_loss: 1.3895 - val_accuracy: 0.5150\n",
            "Epoch 16/100\n",
            "25/25 [==============================] - 14s 540ms/step - loss: 1.3496 - accuracy: 0.5287 - val_loss: 1.4187 - val_accuracy: 0.4700\n",
            "Epoch 17/100\n",
            "25/25 [==============================] - 14s 541ms/step - loss: 1.5288 - accuracy: 0.4373 - val_loss: 1.3846 - val_accuracy: 0.5000\n",
            "Epoch 18/100\n",
            "25/25 [==============================] - 14s 543ms/step - loss: 1.5097 - accuracy: 0.4648 - val_loss: 1.3955 - val_accuracy: 0.5150\n",
            "Epoch 19/100\n",
            "25/25 [==============================] - 14s 544ms/step - loss: 1.4197 - accuracy: 0.4793 - val_loss: 1.3885 - val_accuracy: 0.4750\n",
            "Epoch 20/100\n",
            "25/25 [==============================] - 14s 545ms/step - loss: 1.5845 - accuracy: 0.3642 - val_loss: 1.3400 - val_accuracy: 0.5150\n",
            "Epoch 21/100\n",
            "25/25 [==============================] - 14s 541ms/step - loss: 1.3483 - accuracy: 0.5117 - val_loss: 1.3114 - val_accuracy: 0.5350\n",
            "Epoch 22/100\n",
            "25/25 [==============================] - 14s 543ms/step - loss: 1.3208 - accuracy: 0.4795 - val_loss: 1.4206 - val_accuracy: 0.4850\n",
            "Epoch 23/100\n",
            "25/25 [==============================] - 14s 541ms/step - loss: 1.2720 - accuracy: 0.5729 - val_loss: 1.2552 - val_accuracy: 0.5600\n",
            "Epoch 24/100\n",
            "25/25 [==============================] - 14s 544ms/step - loss: 1.4286 - accuracy: 0.4540 - val_loss: 1.2800 - val_accuracy: 0.5550\n",
            "Epoch 25/100\n",
            "25/25 [==============================] - 14s 541ms/step - loss: 1.1201 - accuracy: 0.6070 - val_loss: 1.2595 - val_accuracy: 0.5100\n",
            "Epoch 26/100\n",
            "25/25 [==============================] - 14s 544ms/step - loss: 1.2598 - accuracy: 0.5567 - val_loss: 1.2749 - val_accuracy: 0.6100\n",
            "Epoch 27/100\n",
            "25/25 [==============================] - 14s 540ms/step - loss: 1.1784 - accuracy: 0.5810 - val_loss: 1.2222 - val_accuracy: 0.5650\n",
            "Epoch 28/100\n",
            "25/25 [==============================] - 14s 540ms/step - loss: 1.3433 - accuracy: 0.4986 - val_loss: 1.1871 - val_accuracy: 0.6200\n",
            "Epoch 29/100\n",
            "25/25 [==============================] - 14s 543ms/step - loss: 1.1187 - accuracy: 0.6063 - val_loss: 1.1856 - val_accuracy: 0.6200\n",
            "Epoch 30/100\n",
            "25/25 [==============================] - 14s 539ms/step - loss: 1.2235 - accuracy: 0.5564 - val_loss: 1.1734 - val_accuracy: 0.5950\n",
            "Epoch 31/100\n",
            "25/25 [==============================] - 14s 554ms/step - loss: 1.1665 - accuracy: 0.5939 - val_loss: 1.1482 - val_accuracy: 0.6350\n",
            "Epoch 32/100\n",
            "25/25 [==============================] - 14s 543ms/step - loss: 1.3453 - accuracy: 0.4557 - val_loss: 1.1878 - val_accuracy: 0.5900\n",
            "Epoch 33/100\n",
            "25/25 [==============================] - 14s 541ms/step - loss: 1.4107 - accuracy: 0.4548 - val_loss: 1.1535 - val_accuracy: 0.6050\n",
            "Epoch 34/100\n",
            "25/25 [==============================] - 14s 544ms/step - loss: 1.1567 - accuracy: 0.5584 - val_loss: 1.2121 - val_accuracy: 0.5500\n",
            "Epoch 35/100\n",
            "25/25 [==============================] - 14s 540ms/step - loss: 1.0935 - accuracy: 0.6412 - val_loss: 1.1397 - val_accuracy: 0.6300\n",
            "Epoch 36/100\n",
            "25/25 [==============================] - 14s 539ms/step - loss: 0.9187 - accuracy: 0.6697 - val_loss: 1.2519 - val_accuracy: 0.5450\n",
            "Epoch 37/100\n",
            "25/25 [==============================] - 14s 544ms/step - loss: 1.0516 - accuracy: 0.5915 - val_loss: 1.0947 - val_accuracy: 0.6400\n",
            "Epoch 38/100\n",
            "25/25 [==============================] - 14s 542ms/step - loss: 1.0642 - accuracy: 0.6322 - val_loss: 1.1769 - val_accuracy: 0.6200\n",
            "Epoch 39/100\n",
            "25/25 [==============================] - 14s 541ms/step - loss: 1.0156 - accuracy: 0.6381 - val_loss: 1.2090 - val_accuracy: 0.5550\n",
            "Epoch 40/100\n",
            "25/25 [==============================] - 14s 540ms/step - loss: 0.9392 - accuracy: 0.6464 - val_loss: 1.0903 - val_accuracy: 0.6750\n",
            "Epoch 41/100\n",
            "25/25 [==============================] - 14s 539ms/step - loss: 0.8470 - accuracy: 0.6900 - val_loss: 1.1322 - val_accuracy: 0.6200\n",
            "Epoch 42/100\n",
            "25/25 [==============================] - 14s 541ms/step - loss: 1.0739 - accuracy: 0.5879 - val_loss: 1.1003 - val_accuracy: 0.6150\n",
            "Epoch 43/100\n",
            "25/25 [==============================] - 14s 543ms/step - loss: 0.9377 - accuracy: 0.6609 - val_loss: 1.0725 - val_accuracy: 0.6450\n",
            "Epoch 44/100\n",
            "25/25 [==============================] - 14s 542ms/step - loss: 0.9080 - accuracy: 0.6966 - val_loss: 1.2004 - val_accuracy: 0.5750\n",
            "Epoch 45/100\n",
            "25/25 [==============================] - 14s 542ms/step - loss: 0.7963 - accuracy: 0.7340 - val_loss: 1.0482 - val_accuracy: 0.6350\n",
            "Epoch 46/100\n",
            "25/25 [==============================] - 14s 553ms/step - loss: 1.0443 - accuracy: 0.5721 - val_loss: 1.1275 - val_accuracy: 0.6000\n",
            "Epoch 47/100\n",
            "25/25 [==============================] - 14s 553ms/step - loss: 0.7829 - accuracy: 0.7003 - val_loss: 1.1043 - val_accuracy: 0.6450\n",
            "Epoch 48/100\n",
            "25/25 [==============================] - 14s 565ms/step - loss: 0.7440 - accuracy: 0.7275 - val_loss: 1.0592 - val_accuracy: 0.6400\n",
            "Epoch 49/100\n",
            "25/25 [==============================] - 14s 556ms/step - loss: 0.9536 - accuracy: 0.6111 - val_loss: 1.1386 - val_accuracy: 0.6200\n",
            "Epoch 50/100\n",
            "25/25 [==============================] - 14s 543ms/step - loss: 0.6204 - accuracy: 0.7811 - val_loss: 1.1035 - val_accuracy: 0.6150\n",
            "Epoch 51/100\n",
            "25/25 [==============================] - 14s 542ms/step - loss: 0.8769 - accuracy: 0.6938 - val_loss: 1.1272 - val_accuracy: 0.6350\n",
            "Epoch 52/100\n",
            "25/25 [==============================] - 14s 545ms/step - loss: 0.9037 - accuracy: 0.6850 - val_loss: 1.0771 - val_accuracy: 0.6400\n",
            "Epoch 53/100\n",
            "25/25 [==============================] - 14s 543ms/step - loss: 0.9300 - accuracy: 0.6468 - val_loss: 1.1559 - val_accuracy: 0.5950\n",
            "Epoch 54/100\n",
            "25/25 [==============================] - 14s 551ms/step - loss: 0.8595 - accuracy: 0.6893 - val_loss: 1.0016 - val_accuracy: 0.6850\n",
            "Epoch 55/100\n",
            "25/25 [==============================] - 14s 547ms/step - loss: 0.6516 - accuracy: 0.7559 - val_loss: 1.1085 - val_accuracy: 0.6500\n",
            "Epoch 56/100\n",
            "25/25 [==============================] - 14s 548ms/step - loss: 0.7296 - accuracy: 0.7502 - val_loss: 1.0635 - val_accuracy: 0.6350\n",
            "Epoch 57/100\n",
            "25/25 [==============================] - 14s 544ms/step - loss: 0.8577 - accuracy: 0.6452 - val_loss: 1.1142 - val_accuracy: 0.6300\n",
            "Epoch 58/100\n",
            "25/25 [==============================] - 14s 541ms/step - loss: 0.7823 - accuracy: 0.7002 - val_loss: 1.0701 - val_accuracy: 0.6250\n",
            "Epoch 59/100\n",
            "25/25 [==============================] - 14s 542ms/step - loss: 0.6896 - accuracy: 0.7543 - val_loss: 1.0372 - val_accuracy: 0.6500\n",
            "Epoch 60/100\n",
            "25/25 [==============================] - 14s 543ms/step - loss: 0.6196 - accuracy: 0.7811 - val_loss: 1.0630 - val_accuracy: 0.6300\n",
            "Epoch 61/100\n",
            "25/25 [==============================] - 14s 557ms/step - loss: 0.5717 - accuracy: 0.8054 - val_loss: 1.0241 - val_accuracy: 0.6750\n",
            "Epoch 62/100\n",
            "25/25 [==============================] - 14s 554ms/step - loss: 0.5732 - accuracy: 0.8055 - val_loss: 1.0146 - val_accuracy: 0.6650\n",
            "Epoch 63/100\n",
            "25/25 [==============================] - 14s 559ms/step - loss: 0.6438 - accuracy: 0.7569 - val_loss: 1.0520 - val_accuracy: 0.6600\n",
            "Epoch 64/100\n",
            "25/25 [==============================] - 14s 552ms/step - loss: 0.6182 - accuracy: 0.7736 - val_loss: 1.1450 - val_accuracy: 0.5900\n",
            "Epoch 65/100\n",
            "25/25 [==============================] - 14s 547ms/step - loss: 0.7169 - accuracy: 0.7354 - val_loss: 1.1615 - val_accuracy: 0.6050\n",
            "Epoch 66/100\n",
            "25/25 [==============================] - 14s 546ms/step - loss: 0.5168 - accuracy: 0.8193 - val_loss: 1.0237 - val_accuracy: 0.6850\n",
            "Epoch 67/100\n",
            "25/25 [==============================] - 14s 547ms/step - loss: 0.5437 - accuracy: 0.8151 - val_loss: 1.1739 - val_accuracy: 0.6100\n",
            "Epoch 68/100\n",
            "25/25 [==============================] - 14s 550ms/step - loss: 0.6940 - accuracy: 0.7440 - val_loss: 1.1218 - val_accuracy: 0.6100\n",
            "Epoch 69/100\n",
            "25/25 [==============================] - 14s 544ms/step - loss: 0.7888 - accuracy: 0.7188 - val_loss: 1.0299 - val_accuracy: 0.6750\n",
            "Epoch 70/100\n",
            "25/25 [==============================] - 14s 547ms/step - loss: 0.5028 - accuracy: 0.8192 - val_loss: 1.1529 - val_accuracy: 0.5850\n",
            "Epoch 71/100\n",
            "25/25 [==============================] - 14s 544ms/step - loss: 0.6683 - accuracy: 0.7410 - val_loss: 1.0536 - val_accuracy: 0.6550\n",
            "Epoch 72/100\n",
            "25/25 [==============================] - 14s 548ms/step - loss: 0.4547 - accuracy: 0.8526 - val_loss: 1.0361 - val_accuracy: 0.6650\n",
            "Epoch 73/100\n",
            "25/25 [==============================] - 14s 546ms/step - loss: 0.6665 - accuracy: 0.7488 - val_loss: 1.0739 - val_accuracy: 0.6550\n",
            "Epoch 74/100\n",
            "25/25 [==============================] - 14s 545ms/step - loss: 0.4877 - accuracy: 0.8466 - val_loss: 1.0695 - val_accuracy: 0.6600\n",
            "Epoch 75/100\n",
            "25/25 [==============================] - 14s 548ms/step - loss: 0.4846 - accuracy: 0.8274 - val_loss: 1.0098 - val_accuracy: 0.7000\n",
            "Epoch 76/100\n",
            "25/25 [==============================] - 14s 558ms/step - loss: 0.5665 - accuracy: 0.7893 - val_loss: 1.1002 - val_accuracy: 0.6500\n",
            "Epoch 77/100\n",
            "25/25 [==============================] - 14s 555ms/step - loss: 0.6068 - accuracy: 0.7879 - val_loss: 1.1255 - val_accuracy: 0.6600\n",
            "Epoch 78/100\n",
            "25/25 [==============================] - 14s 545ms/step - loss: 0.5694 - accuracy: 0.7868 - val_loss: 1.1284 - val_accuracy: 0.6700\n",
            "Epoch 79/100\n",
            "25/25 [==============================] - 14s 549ms/step - loss: 0.5479 - accuracy: 0.8048 - val_loss: 0.9847 - val_accuracy: 0.7100\n",
            "Epoch 80/100\n",
            "25/25 [==============================] - 14s 541ms/step - loss: 0.4564 - accuracy: 0.8651 - val_loss: 1.0218 - val_accuracy: 0.6850\n",
            "Epoch 81/100\n",
            "25/25 [==============================] - 14s 543ms/step - loss: 0.4010 - accuracy: 0.8511 - val_loss: 1.2471 - val_accuracy: 0.5900\n",
            "Epoch 82/100\n",
            "25/25 [==============================] - 14s 541ms/step - loss: 0.4791 - accuracy: 0.8335 - val_loss: 1.2333 - val_accuracy: 0.6200\n",
            "Epoch 83/100\n",
            "25/25 [==============================] - 14s 544ms/step - loss: 0.4101 - accuracy: 0.8633 - val_loss: 1.0272 - val_accuracy: 0.6500\n",
            "Epoch 84/100\n",
            "25/25 [==============================] - 14s 544ms/step - loss: 0.3464 - accuracy: 0.9041 - val_loss: 0.9556 - val_accuracy: 0.7300\n",
            "Epoch 85/100\n",
            "25/25 [==============================] - 14s 543ms/step - loss: 0.3494 - accuracy: 0.8880 - val_loss: 1.2105 - val_accuracy: 0.6600\n",
            "Epoch 86/100\n",
            "25/25 [==============================] - 14s 541ms/step - loss: 0.4580 - accuracy: 0.8488 - val_loss: 1.1036 - val_accuracy: 0.6250\n",
            "Epoch 87/100\n",
            "25/25 [==============================] - 14s 542ms/step - loss: 0.2982 - accuracy: 0.9075 - val_loss: 1.0741 - val_accuracy: 0.6750\n",
            "Epoch 88/100\n",
            "25/25 [==============================] - 14s 541ms/step - loss: 0.3720 - accuracy: 0.8819 - val_loss: 1.0354 - val_accuracy: 0.6550\n",
            "Epoch 89/100\n",
            "25/25 [==============================] - 14s 544ms/step - loss: 0.4386 - accuracy: 0.8533 - val_loss: 1.1709 - val_accuracy: 0.6150\n",
            "Epoch 90/100\n",
            "25/25 [==============================] - 14s 542ms/step - loss: 0.4702 - accuracy: 0.8210 - val_loss: 1.0052 - val_accuracy: 0.6950\n",
            "Epoch 91/100\n",
            "25/25 [==============================] - 14s 541ms/step - loss: 0.4240 - accuracy: 0.8401 - val_loss: 1.0308 - val_accuracy: 0.6950\n",
            "Epoch 92/100\n",
            "25/25 [==============================] - 14s 541ms/step - loss: 0.3914 - accuracy: 0.8817 - val_loss: 0.9916 - val_accuracy: 0.6850\n",
            "Epoch 93/100\n",
            "25/25 [==============================] - 14s 539ms/step - loss: 0.3700 - accuracy: 0.8817 - val_loss: 0.9813 - val_accuracy: 0.7250\n",
            "Epoch 94/100\n",
            "25/25 [==============================] - 14s 541ms/step - loss: 0.3330 - accuracy: 0.8918 - val_loss: 1.1137 - val_accuracy: 0.6650\n",
            "Epoch 95/100\n",
            "25/25 [==============================] - 14s 542ms/step - loss: 0.2998 - accuracy: 0.9060 - val_loss: 1.0134 - val_accuracy: 0.6950\n",
            "Epoch 96/100\n",
            "25/25 [==============================] - 14s 544ms/step - loss: 0.3456 - accuracy: 0.8953 - val_loss: 1.0843 - val_accuracy: 0.6750\n",
            "Epoch 97/100\n",
            "25/25 [==============================] - 14s 540ms/step - loss: 0.2877 - accuracy: 0.8871 - val_loss: 1.0708 - val_accuracy: 0.6750\n",
            "Epoch 98/100\n",
            "25/25 [==============================] - 14s 539ms/step - loss: 0.3379 - accuracy: 0.8745 - val_loss: 1.1426 - val_accuracy: 0.6350\n",
            "Epoch 99/100\n",
            "25/25 [==============================] - 14s 548ms/step - loss: 0.3464 - accuracy: 0.8758 - val_loss: 1.1426 - val_accuracy: 0.6500\n",
            "Epoch 100/100\n",
            "25/25 [==============================] - 14s 540ms/step - loss: 0.3173 - accuracy: 0.9223 - val_loss: 1.0117 - val_accuracy: 0.7100\n"
          ],
          "name": "stdout"
        }
      ]
    },
    {
      "cell_type": "code",
      "metadata": {
        "colab": {
          "base_uri": "https://localhost:8080/",
          "height": 295
        },
        "id": "wst9snAOPgv3",
        "outputId": "4cf37fa1-ddf0-4113-a5bd-e9edab89596e"
      },
      "source": [
        "def plot_history(history):\n",
        "    \"\"\"Plots accuracy/loss for training/validation set as a function of the epochs\n",
        "        :param history: Training history of model\n",
        "        :return:\n",
        "    \"\"\"\n",
        "\n",
        "    fig, axs = plt.subplots(2)\n",
        "\n",
        "    # create accuracy sublpot\n",
        "    axs[0].plot(history.history[\"accuracy\"], label=\"train accuracy\")\n",
        "    axs[0].plot(history.history[\"val_accuracy\"], label=\"test accuracy\")\n",
        "    axs[0].set_ylabel(\"Accuracy\")\n",
        "    axs[0].legend(loc=\"lower right\")\n",
        "    axs[0].set_title(\"Accuracy eval\")\n",
        "\n",
        "    # create error sublpot\n",
        "    axs[1].plot(history.history[\"loss\"], label=\"train error\")\n",
        "    axs[1].plot(history.history[\"val_loss\"], label=\"test error\")\n",
        "    axs[1].set_ylabel(\"Error\")\n",
        "    axs[1].set_xlabel(\"Epoch\")\n",
        "    axs[1].legend(loc=\"upper right\")\n",
        "    axs[1].set_title(\"Error eval\")\n",
        "\n",
        "    plt.show()\n",
        "\n",
        "plot_history(history)"
      ],
      "execution_count": null,
      "outputs": [
        {
          "output_type": "display_data",
          "data": {
            "image/png": "[encoded data removed]",
            "text/plain": [
              "<Figure size 432x288 with 2 Axes>"
            ]
          },
          "metadata": {
            "tags": [],
            "needs_background": "light"
          }
        }
      ]
    },
    {
      "cell_type": "markdown",
      "metadata": {
        "id": "izk_MKXzQ0V_"
      },
      "source": [
        "Predicitons"
      ]
    },
    {
      "cell_type": "code",
      "metadata": {
        "colab": {
          "base_uri": "https://localhost:8080/"
        },
        "id": "a-xiScJWRHPx",
        "outputId": "0cf95698-f733-4c9b-c9c6-437b16f029c2"
      },
      "source": [
        "test_set.reset()\n",
        "pred = model_final.predict_generator(test_set, steps=50, verbose=1)\n",
        "predicted_class_indices=np.argmax(pred,axis=1)\n",
        "\n",
        "labels = (train_set.class_indices)\n",
        "labels = dict((v,k) for k,v in labels.items())\n",
        "predictions = [labels[k] for k in predicted_class_indices]\n",
        "predictions = predictions[:200]\n",
        "filenames=test_set.filenames\n",
        "\n",
        "print(len(filenames), len(predictions))"
      ],
      "execution_count": null,
      "outputs": [
        {
          "output_type": "stream",
          "text": [
            " 7/50 [===>..........................] - ETA: 8sWARNING:tensorflow:Your input ran out of data; interrupting training. Make sure that your dataset or generator can generate at least `steps_per_epoch * epochs` batches (in this case, 50 batches). You may need to use the repeat() function when building your dataset.\n",
            "50/50 [==============================] - 1s 24ms/step\n",
            "200 200\n"
          ],
          "name": "stdout"
        }
      ]
    },
    {
      "cell_type": "code",
      "metadata": {
        "id": "KS5rgOoxSOSt"
      },
      "source": [
        "results=pd.DataFrame({\"Filename\":filenames,\n",
        "                      \"Predictions\":predictions})\n",
        "results.to_csv(\"prediction_results.csv\",index=False)"
      ],
      "execution_count": null,
      "outputs": []
    },
    {
      "cell_type": "code",
      "metadata": {
        "colab": {
          "base_uri": "https://localhost:8080/",
          "height": 419
        },
        "id": "OJgAjMP8TaeY",
        "outputId": "2a726f64-d75f-409d-fd1b-46101a035759"
      },
      "source": [
        "pd.read_csv('prediction_results.csv')"
      ],
      "execution_count": null,
      "outputs": [
        {
          "output_type": "execute_result",
          "data": {
            "text/html": [
              "<div>\n",
              "<style scoped>\n",
              "    .dataframe tbody tr th:only-of-type {\n",
              "        vertical-align: middle;\n",
              "    }\n",
              "\n",
              "    .dataframe tbody tr th {\n",
              "        vertical-align: top;\n",
              "    }\n",
              "\n",
              "    .dataframe thead th {\n",
              "        text-align: right;\n",
              "    }\n",
              "</style>\n",
              "<table border=\"1\" class=\"dataframe\">\n",
              "  <thead>\n",
              "    <tr style=\"text-align: right;\">\n",
              "      <th></th>\n",
              "      <th>Filename</th>\n",
              "      <th>Predictions</th>\n",
              "    </tr>\n",
              "  </thead>\n",
              "  <tbody>\n",
              "    <tr>\n",
              "      <th>0</th>\n",
              "      <td>blues/blues00013.png</td>\n",
              "      <td>blues</td>\n",
              "    </tr>\n",
              "    <tr>\n",
              "      <th>1</th>\n",
              "      <td>blues/blues00021.png</td>\n",
              "      <td>blues</td>\n",
              "    </tr>\n",
              "    <tr>\n",
              "      <th>2</th>\n",
              "      <td>blues/blues00026.png</td>\n",
              "      <td>blues</td>\n",
              "    </tr>\n",
              "    <tr>\n",
              "      <th>3</th>\n",
              "      <td>blues/blues00039.png</td>\n",
              "      <td>jazz</td>\n",
              "    </tr>\n",
              "    <tr>\n",
              "      <th>4</th>\n",
              "      <td>blues/blues00042.png</td>\n",
              "      <td>blues</td>\n",
              "    </tr>\n",
              "    <tr>\n",
              "      <th>...</th>\n",
              "      <td>...</td>\n",
              "      <td>...</td>\n",
              "    </tr>\n",
              "    <tr>\n",
              "      <th>195</th>\n",
              "      <td>rock/rock00084.png</td>\n",
              "      <td>rock</td>\n",
              "    </tr>\n",
              "    <tr>\n",
              "      <th>196</th>\n",
              "      <td>rock/rock00088.png</td>\n",
              "      <td>metal</td>\n",
              "    </tr>\n",
              "    <tr>\n",
              "      <th>197</th>\n",
              "      <td>rock/rock00090.png</td>\n",
              "      <td>blues</td>\n",
              "    </tr>\n",
              "    <tr>\n",
              "      <th>198</th>\n",
              "      <td>rock/rock00093.png</td>\n",
              "      <td>metal</td>\n",
              "    </tr>\n",
              "    <tr>\n",
              "      <th>199</th>\n",
              "      <td>rock/rock00096.png</td>\n",
              "      <td>blues</td>\n",
              "    </tr>\n",
              "  </tbody>\n",
              "</table>\n",
              "<p>200 rows × 2 columns</p>\n",
              "</div>"
            ],
            "text/plain": [
              "                 Filename Predictions\n",
              "0    blues/blues00013.png       blues\n",
              "1    blues/blues00021.png       blues\n",
              "2    blues/blues00026.png       blues\n",
              "3    blues/blues00039.png        jazz\n",
              "4    blues/blues00042.png       blues\n",
              "..                    ...         ...\n",
              "195    rock/rock00084.png        rock\n",
              "196    rock/rock00088.png       metal\n",
              "197    rock/rock00090.png       blues\n",
              "198    rock/rock00093.png       metal\n",
              "199    rock/rock00096.png       blues\n",
              "\n",
              "[200 rows x 2 columns]"
            ]
          },
          "metadata": {
            "tags": []
          },
          "execution_count": 33
        }
      ]
    },
    {
      "cell_type": "code",
      "metadata": {
        "colab": {
          "base_uri": "https://localhost:8080/"
        },
        "id": "kMK1W6byT0wt",
        "outputId": "a52acdc3-1ac5-4f24-9c83-951ea90a6a9b"
      },
      "source": [
        "#true labels\n",
        "label_index=test_generator.classes\n",
        "true_label=[labels[i] for i in label_index]\n",
        "print(labels)"
      ],
      "execution_count": null,
      "outputs": [
        {
          "output_type": "stream",
          "text": [
            "{0: 'blues', 1: 'classical', 2: 'country', 3: 'disco', 4: 'hiphop', 5: 'jazz', 6: 'metal', 7: 'pop', 8: 'reggae', 9: 'rock'}\n"
          ],
          "name": "stdout"
        }
      ]
    },
    {
      "cell_type": "code",
      "metadata": {
        "colab": {
          "base_uri": "https://localhost:8080/",
          "height": 404
        },
        "id": "WqskNaulSGQv",
        "outputId": "7fd394d6-c4b7-4411-9b4f-c95176ad0b6d"
      },
      "source": [
        "from sklearn.metrics import confusion_matrix,auc,classification_report\n",
        "import seaborn as sn\n",
        "\n",
        "#confusion matrix\n",
        "mat=confusion_matrix(true_label,predictions)\n",
        "\n",
        "df=pd.DataFrame(mat,index=list(test_generator.class_indices),columns=list(test_generator.class_indices))\n",
        "plt.figure(figsize=(10,6))\n",
        "sn.set(font_scale=1.4)\n",
        "sn.heatmap(mat,annot=True,linewidths=.5)\n",
        "plt.xlabel('Predicted')\n",
        "plt.ylabel('Actual')\n",
        "plt.show()"
      ],
      "execution_count": null,
      "outputs": [
        {
          "output_type": "display_data",
          "data": {
            "image/png": "[encoded data removed]",
            "text/plain": [
              "<Figure size 720x432 with 2 Axes>"
            ]
          },
          "metadata": {
            "tags": [],
            "needs_background": "light"
          }
        }
      ]
    },
    {
      "cell_type": "code",
      "metadata": {
        "colab": {
          "base_uri": "https://localhost:8080/"
        },
        "id": "j1BqYN9gSKJw",
        "outputId": "d49dd077-d495-40f2-ceec-2d523f5d9b84"
      },
      "source": [
        "\n",
        "print (classification_report(true_label,predictions))"
      ],
      "execution_count": null,
      "outputs": [
        {
          "output_type": "stream",
          "text": [
            "              precision    recall  f1-score   support\n",
            "\n",
            "       blues       0.63      0.60      0.62        20\n",
            "   classical       0.86      0.95      0.90        20\n",
            "     country       0.74      0.70      0.72        20\n",
            "       disco       0.61      0.55      0.58        20\n",
            "      hiphop       0.94      0.80      0.86        20\n",
            "        jazz       0.67      0.80      0.73        20\n",
            "       metal       0.90      0.90      0.90        20\n",
            "         pop       0.68      0.95      0.79        20\n",
            "      reggae       0.60      0.45      0.51        20\n",
            "        rock       0.44      0.40      0.42        20\n",
            "\n",
            "    accuracy                           0.71       200\n",
            "   macro avg       0.71      0.71      0.70       200\n",
            "weighted avg       0.71      0.71      0.70       200\n",
            "\n"
          ],
          "name": "stdout"
        }
      ]
    }
  ]
}