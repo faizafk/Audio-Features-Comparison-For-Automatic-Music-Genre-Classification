{
  "nbformat": 4,
  "nbformat_minor": 0,
  "metadata": {
    "colab": {
      "name": "NN_allfeatures_3sec.ipynb",
      "provenance": [],
      "collapsed_sections": []
    },
    "kernelspec": {
      "name": "python3",
      "display_name": "Python 3"
    }
  },
  "cells": [
    {
      "cell_type": "markdown",
      "metadata": {
        "id": "ZmxXPrqCmYfc"
      },
      "source": [
        "Neural Network trained on 3 second feature set\n"
      ]
    },
    {
      "cell_type": "code",
      "metadata": {
        "colab": {
          "base_uri": "https://localhost:8080/"
        },
        "id": "H25-lI0MmX4W",
        "outputId": "7744d01c-35db-46bc-d4ef-5d6b1c70eca6"
      },
      "source": [
        "from google.colab import drive\n",
        "drive.mount('/content/drive')"
      ],
      "execution_count": null,
      "outputs": [
        {
          "output_type": "stream",
          "text": [
            "Mounted at /content/drive\n"
          ],
          "name": "stdout"
        }
      ]
    },
    {
      "cell_type": "code",
      "metadata": {
        "id": "PHsvd22Jmac0"
      },
      "source": [
        "import pandas as pd\n",
        "import numpy as np\n",
        "import matplotlib.pyplot as plt\n",
        "import os\n",
        "import seaborn as sns\n",
        "%matplotlib inline\n",
        "import csv\n",
        "\n",
        "# sklearn\n",
        "from sklearn.model_selection import train_test_split\n",
        "from sklearn.preprocessing import LabelEncoder, StandardScaler\n",
        "from sklearn import preprocessing"
      ],
      "execution_count": null,
      "outputs": []
    },
    {
      "cell_type": "code",
      "metadata": {
        "id": "g2JMFElXmqh9"
      },
      "source": [
        "song_dir =os.listdir('/content/drive/My Drive/RP/genres')"
      ],
      "execution_count": null,
      "outputs": []
    },
    {
      "cell_type": "code",
      "metadata": {
        "id": "Zc1aOZhznA-o",
        "colab": {
          "base_uri": "https://localhost:8080/",
          "height": 246
        },
        "outputId": "3fc91f04-8ce4-4777-c7a7-e686dc068345"
      },
      "source": [
        "dataset_path ='/content/drive/My Drive/Colab Notebooks/RP/feature extraction/25.3/Data_10seg.csv'\n",
        "\n",
        "master_data = pd.read_csv(dataset_path) \n",
        "master_data.head()\n",
        "\n"
      ],
      "execution_count": null,
      "outputs": [
        {
          "output_type": "execute_result",
          "data": {
            "text/html": [
              "<div>\n",
              "<style scoped>\n",
              "    .dataframe tbody tr th:only-of-type {\n",
              "        vertical-align: middle;\n",
              "    }\n",
              "\n",
              "    .dataframe tbody tr th {\n",
              "        vertical-align: top;\n",
              "    }\n",
              "\n",
              "    .dataframe thead th {\n",
              "        text-align: right;\n",
              "    }\n",
              "</style>\n",
              "<table border=\"1\" class=\"dataframe\">\n",
              "  <thead>\n",
              "    <tr style=\"text-align: right;\">\n",
              "      <th></th>\n",
              "      <th>centroid_max</th>\n",
              "      <th>centroid_min</th>\n",
              "      <th>centroid_mean</th>\n",
              "      <th>centroid_std</th>\n",
              "      <th>centroid_kurtosis</th>\n",
              "      <th>centroid_skew</th>\n",
              "      <th>rolloff_max</th>\n",
              "      <th>rolloff_min</th>\n",
              "      <th>rolloff_mean</th>\n",
              "      <th>rolloff_std</th>\n",
              "      <th>rolloff_kurtosis</th>\n",
              "      <th>rolloff_skew</th>\n",
              "      <th>flux_max</th>\n",
              "      <th>flux_min</th>\n",
              "      <th>flux_mean</th>\n",
              "      <th>flux_std</th>\n",
              "      <th>flux_kurtosis</th>\n",
              "      <th>flux_skew</th>\n",
              "      <th>rmse_max</th>\n",
              "      <th>rmse_min</th>\n",
              "      <th>rmse_mean</th>\n",
              "      <th>rmse_std</th>\n",
              "      <th>rmse_kurtosis</th>\n",
              "      <th>rmse_skew</th>\n",
              "      <th>zcr_max</th>\n",
              "      <th>zcr_min</th>\n",
              "      <th>zcr_mean</th>\n",
              "      <th>zcr_std</th>\n",
              "      <th>zcr_kurtosis</th>\n",
              "      <th>zcr_skew</th>\n",
              "      <th>contrast_max</th>\n",
              "      <th>contrast_min</th>\n",
              "      <th>contrast_mean</th>\n",
              "      <th>contrast_std</th>\n",
              "      <th>contrast_kurtosis</th>\n",
              "      <th>contrast_skew</th>\n",
              "      <th>bandwidth_max</th>\n",
              "      <th>bandwidth_min</th>\n",
              "      <th>bandwidth_mean</th>\n",
              "      <th>bandwidth_std</th>\n",
              "      <th>...</th>\n",
              "      <th>mfcc_6_std</th>\n",
              "      <th>mfcc_6_kurtosis</th>\n",
              "      <th>mfcc_6_skew</th>\n",
              "      <th>mfcc_7_max</th>\n",
              "      <th>mfcc_7_min</th>\n",
              "      <th>mfcc_7_mean</th>\n",
              "      <th>mfcc_7_std</th>\n",
              "      <th>mfcc_7_kurtosis</th>\n",
              "      <th>mfcc_7_skew</th>\n",
              "      <th>mfcc_8_max</th>\n",
              "      <th>mfcc_8_min</th>\n",
              "      <th>mfcc_8_mean</th>\n",
              "      <th>mfcc_8_std</th>\n",
              "      <th>mfcc_8_kurtosis</th>\n",
              "      <th>mfcc_8_skew</th>\n",
              "      <th>mfcc_9_max</th>\n",
              "      <th>mfcc_9_min</th>\n",
              "      <th>mfcc_9_mean</th>\n",
              "      <th>mfcc_9_std</th>\n",
              "      <th>mfcc_9_kurtosis</th>\n",
              "      <th>mfcc_9_skew</th>\n",
              "      <th>mfcc_10_max</th>\n",
              "      <th>mfcc_10_min</th>\n",
              "      <th>mfcc_10_mean</th>\n",
              "      <th>mfcc_10_std</th>\n",
              "      <th>mfcc_10_kurtosis</th>\n",
              "      <th>mfcc_10_skew</th>\n",
              "      <th>mfcc_11_max</th>\n",
              "      <th>mfcc_11_min</th>\n",
              "      <th>mfcc_11_mean</th>\n",
              "      <th>mfcc_11_std</th>\n",
              "      <th>mfcc_11_kurtosis</th>\n",
              "      <th>mfcc_11_skew</th>\n",
              "      <th>mfcc_12_max</th>\n",
              "      <th>mfcc_12_min</th>\n",
              "      <th>mfcc_12_mean</th>\n",
              "      <th>mfcc_12_std</th>\n",
              "      <th>mfcc_12_kurtosis</th>\n",
              "      <th>mfcc_12_skew</th>\n",
              "      <th>genre</th>\n",
              "    </tr>\n",
              "  </thead>\n",
              "  <tbody>\n",
              "    <tr>\n",
              "      <th>0</th>\n",
              "      <td>2968.610553</td>\n",
              "      <td>849.658283</td>\n",
              "      <td>1544.599741</td>\n",
              "      <td>375.803588</td>\n",
              "      <td>1.831593</td>\n",
              "      <td>0.885106</td>\n",
              "      <td>5124.902344</td>\n",
              "      <td>1152.026367</td>\n",
              "      <td>2923.463604</td>\n",
              "      <td>885.025317</td>\n",
              "      <td>-0.580839</td>\n",
              "      <td>0.136526</td>\n",
              "      <td>8.759687</td>\n",
              "      <td>0.0</td>\n",
              "      <td>1.673339</td>\n",
              "      <td>2.042800</td>\n",
              "      <td>2.179828</td>\n",
              "      <td>1.733197</td>\n",
              "      <td>0.133169</td>\n",
              "      <td>0.021886</td>\n",
              "      <td>0.080475</td>\n",
              "      <td>0.025623</td>\n",
              "      <td>-0.657055</td>\n",
              "      <td>-0.079778</td>\n",
              "      <td>0.190918</td>\n",
              "      <td>0.036133</td>\n",
              "      <td>0.086009</td>\n",
              "      <td>0.028843</td>\n",
              "      <td>2.138670</td>\n",
              "      <td>1.110720</td>\n",
              "      <td>45.732313</td>\n",
              "      <td>8.504636</td>\n",
              "      <td>21.857460</td>\n",
              "      <td>6.934282</td>\n",
              "      <td>0.460795</td>\n",
              "      <td>0.903689</td>\n",
              "      <td>1988.241864</td>\n",
              "      <td>1186.624526</td>\n",
              "      <td>1578.929816</td>\n",
              "      <td>198.308260</td>\n",
              "      <td>...</td>\n",
              "      <td>7.343157</td>\n",
              "      <td>0.279836</td>\n",
              "      <td>-0.245533</td>\n",
              "      <td>16.085646</td>\n",
              "      <td>-21.092693</td>\n",
              "      <td>-0.045477</td>\n",
              "      <td>7.397243</td>\n",
              "      <td>-0.263076</td>\n",
              "      <td>-0.234852</td>\n",
              "      <td>4.270060</td>\n",
              "      <td>-32.617149</td>\n",
              "      <td>-14.467911</td>\n",
              "      <td>7.470672</td>\n",
              "      <td>-0.471515</td>\n",
              "      <td>0.129063</td>\n",
              "      <td>35.907036</td>\n",
              "      <td>-11.864138</td>\n",
              "      <td>3.204973</td>\n",
              "      <td>8.351996</td>\n",
              "      <td>2.065392</td>\n",
              "      <td>1.171183</td>\n",
              "      <td>19.338140</td>\n",
              "      <td>-32.714924</td>\n",
              "      <td>-19.285934</td>\n",
              "      <td>8.435503</td>\n",
              "      <td>7.219372</td>\n",
              "      <td>2.304931</td>\n",
              "      <td>28.912182</td>\n",
              "      <td>-12.308210</td>\n",
              "      <td>2.815688</td>\n",
              "      <td>8.808426</td>\n",
              "      <td>-0.260792</td>\n",
              "      <td>0.575162</td>\n",
              "      <td>12.387854</td>\n",
              "      <td>-28.359610</td>\n",
              "      <td>-10.360458</td>\n",
              "      <td>10.190949</td>\n",
              "      <td>-0.724335</td>\n",
              "      <td>0.354533</td>\n",
              "      <td>blues</td>\n",
              "    </tr>\n",
              "    <tr>\n",
              "      <th>1</th>\n",
              "      <td>4429.203787</td>\n",
              "      <td>907.213204</td>\n",
              "      <td>2388.580024</td>\n",
              "      <td>905.798802</td>\n",
              "      <td>-0.714752</td>\n",
              "      <td>0.241953</td>\n",
              "      <td>6890.625000</td>\n",
              "      <td>1367.358398</td>\n",
              "      <td>4544.582520</td>\n",
              "      <td>1599.046449</td>\n",
              "      <td>-0.827402</td>\n",
              "      <td>-0.498110</td>\n",
              "      <td>8.783724</td>\n",
              "      <td>0.0</td>\n",
              "      <td>1.362969</td>\n",
              "      <td>1.329510</td>\n",
              "      <td>9.201735</td>\n",
              "      <td>2.577901</td>\n",
              "      <td>0.288371</td>\n",
              "      <td>0.013944</td>\n",
              "      <td>0.112698</td>\n",
              "      <td>0.069025</td>\n",
              "      <td>-0.434302</td>\n",
              "      <td>0.681183</td>\n",
              "      <td>0.365723</td>\n",
              "      <td>0.033691</td>\n",
              "      <td>0.147994</td>\n",
              "      <td>0.080016</td>\n",
              "      <td>-0.294200</td>\n",
              "      <td>0.735440</td>\n",
              "      <td>54.700207</td>\n",
              "      <td>7.934002</td>\n",
              "      <td>22.485827</td>\n",
              "      <td>9.107351</td>\n",
              "      <td>1.708504</td>\n",
              "      <td>1.423087</td>\n",
              "      <td>2555.903287</td>\n",
              "      <td>1244.600989</td>\n",
              "      <td>1967.856374</td>\n",
              "      <td>346.393644</td>\n",
              "      <td>...</td>\n",
              "      <td>13.217931</td>\n",
              "      <td>-0.062808</td>\n",
              "      <td>-0.812195</td>\n",
              "      <td>25.972910</td>\n",
              "      <td>-23.918947</td>\n",
              "      <td>7.619702</td>\n",
              "      <td>10.936044</td>\n",
              "      <td>-0.794936</td>\n",
              "      <td>-0.228306</td>\n",
              "      <td>21.045078</td>\n",
              "      <td>-43.906151</td>\n",
              "      <td>-18.526569</td>\n",
              "      <td>15.031443</td>\n",
              "      <td>0.118298</td>\n",
              "      <td>0.817024</td>\n",
              "      <td>30.541256</td>\n",
              "      <td>-19.761093</td>\n",
              "      <td>6.837147</td>\n",
              "      <td>11.492730</td>\n",
              "      <td>-0.580217</td>\n",
              "      <td>-0.381661</td>\n",
              "      <td>0.232399</td>\n",
              "      <td>-36.592163</td>\n",
              "      <td>-17.526182</td>\n",
              "      <td>8.070435</td>\n",
              "      <td>-0.502971</td>\n",
              "      <td>-0.172180</td>\n",
              "      <td>24.164585</td>\n",
              "      <td>-25.312050</td>\n",
              "      <td>-5.920010</td>\n",
              "      <td>8.267508</td>\n",
              "      <td>0.725408</td>\n",
              "      <td>0.270310</td>\n",
              "      <td>19.701296</td>\n",
              "      <td>-21.291504</td>\n",
              "      <td>-3.452553</td>\n",
              "      <td>10.564160</td>\n",
              "      <td>-0.824106</td>\n",
              "      <td>0.241367</td>\n",
              "      <td>blues</td>\n",
              "    </tr>\n",
              "    <tr>\n",
              "      <th>2</th>\n",
              "      <td>3920.272603</td>\n",
              "      <td>1033.019916</td>\n",
              "      <td>2097.306892</td>\n",
              "      <td>641.573280</td>\n",
              "      <td>-0.537890</td>\n",
              "      <td>0.391426</td>\n",
              "      <td>6793.725586</td>\n",
              "      <td>1604.223633</td>\n",
              "      <td>4234.007474</td>\n",
              "      <td>1380.422189</td>\n",
              "      <td>-1.120051</td>\n",
              "      <td>-0.069798</td>\n",
              "      <td>12.446646</td>\n",
              "      <td>0.0</td>\n",
              "      <td>1.622100</td>\n",
              "      <td>2.203782</td>\n",
              "      <td>7.413245</td>\n",
              "      <td>2.599538</td>\n",
              "      <td>0.228752</td>\n",
              "      <td>0.010686</td>\n",
              "      <td>0.097500</td>\n",
              "      <td>0.060494</td>\n",
              "      <td>-0.820085</td>\n",
              "      <td>0.524261</td>\n",
              "      <td>0.270508</td>\n",
              "      <td>0.030762</td>\n",
              "      <td>0.107741</td>\n",
              "      <td>0.046625</td>\n",
              "      <td>1.098290</td>\n",
              "      <td>1.133656</td>\n",
              "      <td>47.703467</td>\n",
              "      <td>7.770299</td>\n",
              "      <td>21.436428</td>\n",
              "      <td>8.704255</td>\n",
              "      <td>1.395805</td>\n",
              "      <td>1.407812</td>\n",
              "      <td>2657.946803</td>\n",
              "      <td>1342.833693</td>\n",
              "      <td>1965.804096</td>\n",
              "      <td>299.918228</td>\n",
              "      <td>...</td>\n",
              "      <td>10.595219</td>\n",
              "      <td>2.919454</td>\n",
              "      <td>-1.232423</td>\n",
              "      <td>31.932796</td>\n",
              "      <td>-9.238714</td>\n",
              "      <td>11.541316</td>\n",
              "      <td>10.228969</td>\n",
              "      <td>-1.151476</td>\n",
              "      <td>-0.025551</td>\n",
              "      <td>10.531494</td>\n",
              "      <td>-43.282532</td>\n",
              "      <td>-19.102686</td>\n",
              "      <td>13.371345</td>\n",
              "      <td>-0.935848</td>\n",
              "      <td>0.282861</td>\n",
              "      <td>22.897808</td>\n",
              "      <td>-7.069962</td>\n",
              "      <td>6.450355</td>\n",
              "      <td>8.402604</td>\n",
              "      <td>-1.137287</td>\n",
              "      <td>0.101380</td>\n",
              "      <td>-2.642356</td>\n",
              "      <td>-35.036060</td>\n",
              "      <td>-18.482765</td>\n",
              "      <td>7.005689</td>\n",
              "      <td>-0.535371</td>\n",
              "      <td>-0.211210</td>\n",
              "      <td>18.304348</td>\n",
              "      <td>-17.814165</td>\n",
              "      <td>-1.694399</td>\n",
              "      <td>6.966511</td>\n",
              "      <td>-0.179246</td>\n",
              "      <td>0.425301</td>\n",
              "      <td>16.281624</td>\n",
              "      <td>-26.752865</td>\n",
              "      <td>-6.195611</td>\n",
              "      <td>8.952841</td>\n",
              "      <td>-0.399917</td>\n",
              "      <td>0.148912</td>\n",
              "      <td>blues</td>\n",
              "    </tr>\n",
              "    <tr>\n",
              "      <th>3</th>\n",
              "      <td>3041.000699</td>\n",
              "      <td>1072.820372</td>\n",
              "      <td>1990.354892</td>\n",
              "      <td>518.423250</td>\n",
              "      <td>-1.102732</td>\n",
              "      <td>-0.114362</td>\n",
              "      <td>5921.630859</td>\n",
              "      <td>1722.656250</td>\n",
              "      <td>3912.665828</td>\n",
              "      <td>1143.723499</td>\n",
              "      <td>-1.013715</td>\n",
              "      <td>-0.411620</td>\n",
              "      <td>10.960407</td>\n",
              "      <td>0.0</td>\n",
              "      <td>1.704432</td>\n",
              "      <td>2.023815</td>\n",
              "      <td>4.507105</td>\n",
              "      <td>2.091851</td>\n",
              "      <td>0.197585</td>\n",
              "      <td>0.039848</td>\n",
              "      <td>0.102549</td>\n",
              "      <td>0.039995</td>\n",
              "      <td>-0.481531</td>\n",
              "      <td>0.561519</td>\n",
              "      <td>0.250000</td>\n",
              "      <td>0.057129</td>\n",
              "      <td>0.116095</td>\n",
              "      <td>0.041049</td>\n",
              "      <td>1.555917</td>\n",
              "      <td>1.277675</td>\n",
              "      <td>47.919475</td>\n",
              "      <td>5.914184</td>\n",
              "      <td>21.976961</td>\n",
              "      <td>8.148538</td>\n",
              "      <td>0.874961</td>\n",
              "      <td>1.120064</td>\n",
              "      <td>2318.260773</td>\n",
              "      <td>1169.677329</td>\n",
              "      <td>1767.231727</td>\n",
              "      <td>296.499584</td>\n",
              "      <td>...</td>\n",
              "      <td>8.654659</td>\n",
              "      <td>-0.426573</td>\n",
              "      <td>-0.394457</td>\n",
              "      <td>35.603943</td>\n",
              "      <td>-14.904453</td>\n",
              "      <td>5.250053</td>\n",
              "      <td>11.874259</td>\n",
              "      <td>-0.306106</td>\n",
              "      <td>0.715131</td>\n",
              "      <td>17.805515</td>\n",
              "      <td>-44.041222</td>\n",
              "      <td>-13.371712</td>\n",
              "      <td>13.097857</td>\n",
              "      <td>0.051051</td>\n",
              "      <td>-0.004489</td>\n",
              "      <td>30.755449</td>\n",
              "      <td>-8.647285</td>\n",
              "      <td>8.999457</td>\n",
              "      <td>10.627526</td>\n",
              "      <td>-1.143588</td>\n",
              "      <td>0.059382</td>\n",
              "      <td>14.695620</td>\n",
              "      <td>-39.088749</td>\n",
              "      <td>-16.158850</td>\n",
              "      <td>11.131076</td>\n",
              "      <td>0.567498</td>\n",
              "      <td>0.618732</td>\n",
              "      <td>36.378136</td>\n",
              "      <td>-22.306435</td>\n",
              "      <td>-2.934959</td>\n",
              "      <td>9.948435</td>\n",
              "      <td>1.407511</td>\n",
              "      <td>0.954926</td>\n",
              "      <td>16.734924</td>\n",
              "      <td>-38.155708</td>\n",
              "      <td>-10.727824</td>\n",
              "      <td>10.449316</td>\n",
              "      <td>0.253907</td>\n",
              "      <td>-0.304331</td>\n",
              "      <td>blues</td>\n",
              "    </tr>\n",
              "    <tr>\n",
              "      <th>4</th>\n",
              "      <td>2582.259716</td>\n",
              "      <td>1136.751574</td>\n",
              "      <td>1775.045960</td>\n",
              "      <td>368.089842</td>\n",
              "      <td>-0.697733</td>\n",
              "      <td>0.239601</td>\n",
              "      <td>4909.570312</td>\n",
              "      <td>1841.088867</td>\n",
              "      <td>3369.035269</td>\n",
              "      <td>878.707561</td>\n",
              "      <td>-0.948146</td>\n",
              "      <td>0.026148</td>\n",
              "      <td>10.462497</td>\n",
              "      <td>0.0</td>\n",
              "      <td>1.651959</td>\n",
              "      <td>1.781661</td>\n",
              "      <td>4.954813</td>\n",
              "      <td>2.011756</td>\n",
              "      <td>0.202687</td>\n",
              "      <td>0.010180</td>\n",
              "      <td>0.107310</td>\n",
              "      <td>0.047805</td>\n",
              "      <td>-0.880490</td>\n",
              "      <td>-0.256602</td>\n",
              "      <td>0.196777</td>\n",
              "      <td>0.051270</td>\n",
              "      <td>0.108136</td>\n",
              "      <td>0.030439</td>\n",
              "      <td>-0.590550</td>\n",
              "      <td>0.235296</td>\n",
              "      <td>45.598187</td>\n",
              "      <td>6.156325</td>\n",
              "      <td>22.101997</td>\n",
              "      <td>7.628566</td>\n",
              "      <td>0.403960</td>\n",
              "      <td>0.850184</td>\n",
              "      <td>2065.829586</td>\n",
              "      <td>1254.696659</td>\n",
              "      <td>1628.030813</td>\n",
              "      <td>197.419967</td>\n",
              "      <td>...</td>\n",
              "      <td>8.520137</td>\n",
              "      <td>-0.503384</td>\n",
              "      <td>-0.355891</td>\n",
              "      <td>21.209450</td>\n",
              "      <td>-19.788561</td>\n",
              "      <td>-0.682424</td>\n",
              "      <td>7.827484</td>\n",
              "      <td>0.009075</td>\n",
              "      <td>0.179452</td>\n",
              "      <td>12.773609</td>\n",
              "      <td>-25.867569</td>\n",
              "      <td>-11.713437</td>\n",
              "      <td>7.771341</td>\n",
              "      <td>-0.231430</td>\n",
              "      <td>0.462922</td>\n",
              "      <td>16.103363</td>\n",
              "      <td>-14.360972</td>\n",
              "      <td>1.324580</td>\n",
              "      <td>6.665946</td>\n",
              "      <td>-0.312956</td>\n",
              "      <td>0.082657</td>\n",
              "      <td>20.518749</td>\n",
              "      <td>-37.072231</td>\n",
              "      <td>-14.564986</td>\n",
              "      <td>8.992465</td>\n",
              "      <td>2.212126</td>\n",
              "      <td>0.763335</td>\n",
              "      <td>34.176933</td>\n",
              "      <td>-19.906822</td>\n",
              "      <td>5.671341</td>\n",
              "      <td>11.178269</td>\n",
              "      <td>-0.216035</td>\n",
              "      <td>0.025465</td>\n",
              "      <td>21.034733</td>\n",
              "      <td>-33.137451</td>\n",
              "      <td>-7.822312</td>\n",
              "      <td>11.187980</td>\n",
              "      <td>-0.286160</td>\n",
              "      <td>0.185768</td>\n",
              "      <td>blues</td>\n",
              "    </tr>\n",
              "  </tbody>\n",
              "</table>\n",
              "<p>5 rows × 133 columns</p>\n",
              "</div>"
            ],
            "text/plain": [
              "   centroid_max  centroid_min  ...  mfcc_12_skew  genre\n",
              "0   2968.610553    849.658283  ...      0.354533  blues\n",
              "1   4429.203787    907.213204  ...      0.241367  blues\n",
              "2   3920.272603   1033.019916  ...      0.148912  blues\n",
              "3   3041.000699   1072.820372  ...     -0.304331  blues\n",
              "4   2582.259716   1136.751574  ...      0.185768  blues\n",
              "\n",
              "[5 rows x 133 columns]"
            ]
          },
          "metadata": {
            "tags": []
          },
          "execution_count": 4
        }
      ]
    },
    {
      "cell_type": "code",
      "metadata": {
        "id": "36fHAQ4EjiNc",
        "colab": {
          "base_uri": "https://localhost:8080/"
        },
        "outputId": "e4e128fe-6aab-4ca1-8d24-8d37e526ca8a"
      },
      "source": [
        "master_data.shape"
      ],
      "execution_count": null,
      "outputs": [
        {
          "output_type": "execute_result",
          "data": {
            "text/plain": [
              "(10000, 133)"
            ]
          },
          "metadata": {
            "tags": []
          },
          "execution_count": 5
        }
      ]
    },
    {
      "cell_type": "code",
      "metadata": {
        "id": "U4-L9iN_qRFs"
      },
      "source": [
        "\n",
        "y = master_data['genre']\n",
        "X = master_data.drop(columns=['genre'])"
      ],
      "execution_count": null,
      "outputs": []
    },
    {
      "cell_type": "code",
      "metadata": {
        "id": "7INBvnhtRs2j"
      },
      "source": [
        "#scaling data\n",
        "\n",
        "#scale = StandardScaler()\n",
        "#x_scaled = pd.DataFrame(scale.fit_transform(X), columns = X.columns)\n",
        "\n",
        "#transform all the values in range between (0 to 1) .... x = [(value - min)/(Max- Min)]\n",
        "\n",
        "min_max_scaler = preprocessing.MinMaxScaler()\n",
        "x_scaled = pd.DataFrame(min_max_scaler.fit_transform(X))"
      ],
      "execution_count": null,
      "outputs": []
    },
    {
      "cell_type": "code",
      "metadata": {
        "id": "rLhMdtCLRuzw"
      },
      "source": [
        "#x_scaled.head()"
      ],
      "execution_count": null,
      "outputs": []
    },
    {
      "cell_type": "code",
      "metadata": {
        "id": "jdxgROsLkdrm"
      },
      "source": [
        "\n",
        "#encode the genres:\n",
        "encoder = LabelEncoder()\n",
        "y_enc = encoder.fit_transform(y)"
      ],
      "execution_count": null,
      "outputs": []
    },
    {
      "cell_type": "code",
      "metadata": {
        "id": "ETYrt7IS-vLj"
      },
      "source": [
        "#y_enc\n",
        "#genre_list.head()"
      ],
      "execution_count": null,
      "outputs": []
    },
    {
      "cell_type": "code",
      "metadata": {
        "id": "m5svzLb1q6D3"
      },
      "source": [
        "x_train, x_test, y_train, y_test = train_test_split(x_scaled, y_enc, test_size=0.2)"
      ],
      "execution_count": null,
      "outputs": []
    },
    {
      "cell_type": "markdown",
      "metadata": {
        "id": "G3JPWNM-j-3t"
      },
      "source": [
        "check to see if equal segments of the song are in train and test - in prescribed ratio"
      ]
    },
    {
      "cell_type": "code",
      "metadata": {
        "id": "hA-LbIsvrBo2",
        "colab": {
          "base_uri": "https://localhost:8080/"
        },
        "outputId": "c05fb180-f18e-40b0-d446-dd8483249f5b"
      },
      "source": [
        "len(y_train)"
      ],
      "execution_count": null,
      "outputs": [
        {
          "output_type": "execute_result",
          "data": {
            "text/plain": [
              "8000"
            ]
          },
          "metadata": {
            "tags": []
          },
          "execution_count": 12
        }
      ]
    },
    {
      "cell_type": "code",
      "metadata": {
        "id": "YAqE_brSrCJ-",
        "colab": {
          "base_uri": "https://localhost:8080/"
        },
        "outputId": "6b6db346-608c-4b7d-9ce8-7df7b1b5cf7d"
      },
      "source": [
        "len(y_test)"
      ],
      "execution_count": null,
      "outputs": [
        {
          "output_type": "execute_result",
          "data": {
            "text/plain": [
              "2000"
            ]
          },
          "metadata": {
            "tags": []
          },
          "execution_count": 13
        }
      ]
    },
    {
      "cell_type": "markdown",
      "metadata": {
        "id": "kACSLWomTzGN"
      },
      "source": [
        "Implementing Neural Network\n"
      ]
    },
    {
      "cell_type": "code",
      "metadata": {
        "id": "xm7iS4g0T4zp"
      },
      "source": [
        "from keras import models\n",
        "from keras import layers\n",
        "\n",
        "model = models.Sequential()\n",
        "model.add(layers.Dense(512, activation='relu', input_shape=(x_train.shape[1],)))\n",
        "\n",
        "model.add(layers.Dense(256, activation='relu'))\n",
        "\n",
        "model.add(layers.Dense(128, activation='relu'))\n",
        "\n",
        "model.add(layers.Dense(64, activation='relu'))\n",
        "\n",
        "model.add(layers.Dense(10, activation='softmax'))\n",
        "\n",
        "#activation - ‘softmax’ (makes the output sum up to 1 so the output can be interpreted as probabilities)\n"
      ],
      "execution_count": null,
      "outputs": []
    },
    {
      "cell_type": "code",
      "metadata": {
        "id": "rzhm3PtYXLb5",
        "colab": {
          "base_uri": "https://localhost:8080/"
        },
        "outputId": "306dd333-0936-4498-9c5e-fac153c9dc6f"
      },
      "source": [
        "model.compile(optimizer='adam',\n",
        "              loss='sparse_categorical_crossentropy',\n",
        "              metrics=['accuracy'])\n",
        "model.summary()"
      ],
      "execution_count": null,
      "outputs": [
        {
          "output_type": "stream",
          "text": [
            "Model: \"sequential\"\n",
            "_________________________________________________________________\n",
            "Layer (type)                 Output Shape              Param #   \n",
            "=================================================================\n",
            "dense (Dense)                (None, 512)               68096     \n",
            "_________________________________________________________________\n",
            "dense_1 (Dense)              (None, 256)               131328    \n",
            "_________________________________________________________________\n",
            "dense_2 (Dense)              (None, 128)               32896     \n",
            "_________________________________________________________________\n",
            "dense_3 (Dense)              (None, 64)                8256      \n",
            "_________________________________________________________________\n",
            "dense_4 (Dense)              (None, 10)                650       \n",
            "=================================================================\n",
            "Total params: 241,226\n",
            "Trainable params: 241,226\n",
            "Non-trainable params: 0\n",
            "_________________________________________________________________\n"
          ],
          "name": "stdout"
        }
      ]
    },
    {
      "cell_type": "code",
      "metadata": {
        "id": "U2-exYF7X7-7",
        "colab": {
          "base_uri": "https://localhost:8080/"
        },
        "outputId": "2a968fa7-7846-4dec-d911-478d12539f1f"
      },
      "source": [
        "from keras.callbacks import EarlyStopping\n",
        "#set early stopping monitor so the model stops training when it won't improve anymore\n",
        "early_stopping_monitor = EarlyStopping(patience=3)\n",
        "\n",
        "history = model.fit(x_train,y_train,validation_data=(x_test, y_test),epochs=30,batch_size=32, callbacks=[early_stopping_monitor])"
      ],
      "execution_count": null,
      "outputs": [
        {
          "output_type": "stream",
          "text": [
            "Epoch 1/30\n",
            "250/250 [==============================] - 3s 8ms/step - loss: 1.7499 - accuracy: 0.3427 - val_loss: 1.1659 - val_accuracy: 0.5770\n",
            "Epoch 2/30\n",
            "250/250 [==============================] - 1s 6ms/step - loss: 1.1643 - accuracy: 0.5640 - val_loss: 1.0819 - val_accuracy: 0.6010\n",
            "Epoch 3/30\n",
            "250/250 [==============================] - 1s 6ms/step - loss: 0.9753 - accuracy: 0.6532 - val_loss: 0.9518 - val_accuracy: 0.6585\n",
            "Epoch 4/30\n",
            "250/250 [==============================] - 1s 6ms/step - loss: 0.9117 - accuracy: 0.6768 - val_loss: 0.8974 - val_accuracy: 0.6845\n",
            "Epoch 5/30\n",
            "250/250 [==============================] - 1s 6ms/step - loss: 0.8554 - accuracy: 0.6870 - val_loss: 0.8302 - val_accuracy: 0.7155\n",
            "Epoch 6/30\n",
            "250/250 [==============================] - 1s 6ms/step - loss: 0.7805 - accuracy: 0.7146 - val_loss: 0.8275 - val_accuracy: 0.7110\n",
            "Epoch 7/30\n",
            "250/250 [==============================] - 1s 5ms/step - loss: 0.7434 - accuracy: 0.7341 - val_loss: 0.7659 - val_accuracy: 0.7335\n",
            "Epoch 8/30\n",
            "250/250 [==============================] - 1s 6ms/step - loss: 0.7164 - accuracy: 0.7393 - val_loss: 0.7991 - val_accuracy: 0.7160\n",
            "Epoch 9/30\n",
            "250/250 [==============================] - 1s 6ms/step - loss: 0.6991 - accuracy: 0.7545 - val_loss: 0.7276 - val_accuracy: 0.7470\n",
            "Epoch 10/30\n",
            "250/250 [==============================] - 1s 5ms/step - loss: 0.6419 - accuracy: 0.7770 - val_loss: 0.6867 - val_accuracy: 0.7665\n",
            "Epoch 11/30\n",
            "250/250 [==============================] - 1s 5ms/step - loss: 0.6656 - accuracy: 0.7668 - val_loss: 0.6874 - val_accuracy: 0.7640\n",
            "Epoch 12/30\n",
            "250/250 [==============================] - 1s 5ms/step - loss: 0.6484 - accuracy: 0.7694 - val_loss: 0.8071 - val_accuracy: 0.7170\n",
            "Epoch 13/30\n",
            "250/250 [==============================] - 1s 5ms/step - loss: 0.6269 - accuracy: 0.7793 - val_loss: 0.7613 - val_accuracy: 0.7360\n"
          ],
          "name": "stdout"
        }
      ]
    },
    {
      "cell_type": "code",
      "metadata": {
        "id": "S96eH81ffS-p",
        "colab": {
          "base_uri": "https://localhost:8080/",
          "height": 294
        },
        "outputId": "e3c7c7a2-4275-4286-aaa4-a9ac73becc55"
      },
      "source": [
        "def plot_history(history):\n",
        "    \"\"\"Plots accuracy/loss for training/validation set as a function of the epochs\n",
        "        :param history: Training history of model\n",
        "        :return:\n",
        "    \"\"\"\n",
        "\n",
        "    fig, axs = plt.subplots(2)\n",
        "\n",
        "    # create accuracy sublpot\n",
        "    axs[0].plot(history.history[\"accuracy\"], label=\"train accuracy\")\n",
        "    axs[0].plot(history.history[\"val_accuracy\"], label=\"test accuracy\")\n",
        "    axs[0].set_ylabel(\"Accuracy\")\n",
        "    axs[0].legend(loc=\"lower right\")\n",
        "    axs[0].set_title(\"Accuracy eval\")\n",
        "\n",
        "    # create error sublpot\n",
        "    axs[1].plot(history.history[\"loss\"], label=\"train error\")\n",
        "    axs[1].plot(history.history[\"val_loss\"], label=\"test error\")\n",
        "    axs[1].set_ylabel(\"Error\")\n",
        "    axs[1].set_xlabel(\"Epoch\")\n",
        "    axs[1].legend(loc=\"upper right\")\n",
        "    axs[1].set_title(\"Error eval\")\n",
        "\n",
        "    plt.show()\n",
        "\n",
        "plot_history(history)"
      ],
      "execution_count": null,
      "outputs": [
        {
          "output_type": "display_data",
          "data": {
            "image/png": "[encoded data removed]",
            "text/plain": [
              "<Figure size 432x288 with 2 Axes>"
            ]
          },
          "metadata": {
            "tags": [],
            "needs_background": "light"
          }
        }
      ]
    },
    {
      "cell_type": "code",
      "metadata": {
        "id": "ss1nUI184cfK",
        "colab": {
          "base_uri": "https://localhost:8080/"
        },
        "outputId": "a54935b7-3cf3-468c-d3aa-d5792f953a3c"
      },
      "source": [
        "from keras import models, layers, regularizers\n",
        "from keras import layers\n",
        "\n",
        "model = models.Sequential()\n",
        "model.add(layers.Dense(512, activation='relu', input_shape=(x_train.shape[1],)))\n",
        "\n",
        "model.add(layers.Dense(256, activation='relu'))\n",
        "layers.Dropout(0.3),\n",
        "\n",
        "model.add(layers.Dense(128, activation='relu'))\n",
        "layers.Dropout(0.3),\n",
        "\n",
        "model.add(layers.Dense(64, activation='relu'))\n",
        "layers.Dropout(0.3),\n",
        "\n",
        "model.add(layers.Dense(10, activation='softmax'))\n",
        "\n",
        "model.compile(optimizer='adam',\n",
        "              loss='sparse_categorical_crossentropy',\n",
        "              metrics=['accuracy'])\n",
        "model.summary()\n"
      ],
      "execution_count": null,
      "outputs": [
        {
          "output_type": "stream",
          "text": [
            "Model: \"sequential_1\"\n",
            "_________________________________________________________________\n",
            "Layer (type)                 Output Shape              Param #   \n",
            "=================================================================\n",
            "dense_5 (Dense)              (None, 512)               68096     \n",
            "_________________________________________________________________\n",
            "dense_6 (Dense)              (None, 256)               131328    \n",
            "_________________________________________________________________\n",
            "dense_7 (Dense)              (None, 128)               32896     \n",
            "_________________________________________________________________\n",
            "dense_8 (Dense)              (None, 64)                8256      \n",
            "_________________________________________________________________\n",
            "dense_9 (Dense)              (None, 10)                650       \n",
            "=================================================================\n",
            "Total params: 241,226\n",
            "Trainable params: 241,226\n",
            "Non-trainable params: 0\n",
            "_________________________________________________________________\n"
          ],
          "name": "stdout"
        }
      ]
    },
    {
      "cell_type": "code",
      "metadata": {
        "id": "1x814N0v6K9K",
        "colab": {
          "base_uri": "https://localhost:8080/"
        },
        "outputId": "1b0356be-51df-48aa-ea5a-8af70bbc2eb0"
      },
      "source": [
        "from keras.callbacks import EarlyStopping\n",
        "#set early stopping monitor so the model stops training when it won't improve anymore\n",
        "early_stopping_monitor = EarlyStopping(patience=3)\n",
        "\n",
        "\n",
        "history = model.fit(x_train,y_train,validation_data=(x_test, y_test),epochs=120,batch_size=128)"
      ],
      "execution_count": null,
      "outputs": [
        {
          "output_type": "stream",
          "text": [
            "Epoch 1/120\n",
            "63/63 [==============================] - 2s 17ms/step - loss: 1.9210 - accuracy: 0.3233 - val_loss: 1.2591 - val_accuracy: 0.5280\n",
            "Epoch 2/120\n",
            "63/63 [==============================] - 1s 9ms/step - loss: 1.2373 - accuracy: 0.5365 - val_loss: 1.1988 - val_accuracy: 0.5525\n",
            "Epoch 3/120\n",
            "63/63 [==============================] - 1s 9ms/step - loss: 1.1184 - accuracy: 0.5948 - val_loss: 1.0250 - val_accuracy: 0.6305\n",
            "Epoch 4/120\n",
            "63/63 [==============================] - 1s 9ms/step - loss: 1.0036 - accuracy: 0.6348 - val_loss: 1.0607 - val_accuracy: 0.5995\n",
            "Epoch 5/120\n",
            "63/63 [==============================] - 1s 10ms/step - loss: 0.9341 - accuracy: 0.6698 - val_loss: 0.9503 - val_accuracy: 0.6585\n",
            "Epoch 6/120\n",
            "63/63 [==============================] - 1s 10ms/step - loss: 0.8611 - accuracy: 0.6980 - val_loss: 0.8504 - val_accuracy: 0.6905\n",
            "Epoch 7/120\n",
            "63/63 [==============================] - 1s 10ms/step - loss: 0.8183 - accuracy: 0.7116 - val_loss: 0.8777 - val_accuracy: 0.6895\n",
            "Epoch 8/120\n",
            "63/63 [==============================] - 1s 10ms/step - loss: 0.7978 - accuracy: 0.7138 - val_loss: 0.8685 - val_accuracy: 0.6875\n",
            "Epoch 9/120\n",
            "63/63 [==============================] - 1s 10ms/step - loss: 0.7630 - accuracy: 0.7209 - val_loss: 0.8070 - val_accuracy: 0.7295\n",
            "Epoch 10/120\n",
            "63/63 [==============================] - 1s 10ms/step - loss: 0.7391 - accuracy: 0.7410 - val_loss: 0.7856 - val_accuracy: 0.7220\n",
            "Epoch 11/120\n",
            "63/63 [==============================] - 1s 10ms/step - loss: 0.7157 - accuracy: 0.7459 - val_loss: 0.7604 - val_accuracy: 0.7340\n",
            "Epoch 12/120\n",
            "63/63 [==============================] - 1s 10ms/step - loss: 0.6980 - accuracy: 0.7516 - val_loss: 0.6979 - val_accuracy: 0.7615\n",
            "Epoch 13/120\n",
            "63/63 [==============================] - 1s 9ms/step - loss: 0.6543 - accuracy: 0.7642 - val_loss: 0.6792 - val_accuracy: 0.7725\n",
            "Epoch 14/120\n",
            "63/63 [==============================] - 1s 10ms/step - loss: 0.6109 - accuracy: 0.7890 - val_loss: 0.7266 - val_accuracy: 0.7545\n",
            "Epoch 15/120\n",
            "63/63 [==============================] - 1s 10ms/step - loss: 0.6417 - accuracy: 0.7670 - val_loss: 0.6774 - val_accuracy: 0.7665\n",
            "Epoch 16/120\n",
            "63/63 [==============================] - 1s 10ms/step - loss: 0.6035 - accuracy: 0.7869 - val_loss: 0.6729 - val_accuracy: 0.7675\n",
            "Epoch 17/120\n",
            "63/63 [==============================] - 1s 9ms/step - loss: 0.5885 - accuracy: 0.7965 - val_loss: 0.6686 - val_accuracy: 0.7695\n",
            "Epoch 18/120\n",
            "63/63 [==============================] - 1s 10ms/step - loss: 0.5637 - accuracy: 0.7967 - val_loss: 0.6527 - val_accuracy: 0.7760\n",
            "Epoch 19/120\n",
            "63/63 [==============================] - 1s 9ms/step - loss: 0.5648 - accuracy: 0.8037 - val_loss: 0.6840 - val_accuracy: 0.7600\n",
            "Epoch 20/120\n",
            "63/63 [==============================] - 1s 10ms/step - loss: 0.5673 - accuracy: 0.8033 - val_loss: 0.6792 - val_accuracy: 0.7700\n",
            "Epoch 21/120\n",
            "63/63 [==============================] - 1s 9ms/step - loss: 0.5448 - accuracy: 0.8048 - val_loss: 0.8147 - val_accuracy: 0.7080\n",
            "Epoch 22/120\n",
            "63/63 [==============================] - 1s 9ms/step - loss: 0.5252 - accuracy: 0.8161 - val_loss: 0.5931 - val_accuracy: 0.7955\n",
            "Epoch 23/120\n",
            "63/63 [==============================] - 1s 10ms/step - loss: 0.5027 - accuracy: 0.8208 - val_loss: 0.6701 - val_accuracy: 0.7720\n",
            "Epoch 24/120\n",
            "63/63 [==============================] - 1s 9ms/step - loss: 0.5079 - accuracy: 0.8222 - val_loss: 0.6584 - val_accuracy: 0.7615\n",
            "Epoch 25/120\n",
            "63/63 [==============================] - 1s 10ms/step - loss: 0.4791 - accuracy: 0.8341 - val_loss: 0.5949 - val_accuracy: 0.7935\n",
            "Epoch 26/120\n",
            "63/63 [==============================] - 1s 9ms/step - loss: 0.4547 - accuracy: 0.8401 - val_loss: 0.6395 - val_accuracy: 0.7695\n",
            "Epoch 27/120\n",
            "63/63 [==============================] - 1s 10ms/step - loss: 0.4795 - accuracy: 0.8282 - val_loss: 0.5607 - val_accuracy: 0.8095\n",
            "Epoch 28/120\n",
            "63/63 [==============================] - 1s 10ms/step - loss: 0.4383 - accuracy: 0.8474 - val_loss: 0.5373 - val_accuracy: 0.8090\n",
            "Epoch 29/120\n",
            "63/63 [==============================] - 1s 9ms/step - loss: 0.4130 - accuracy: 0.8559 - val_loss: 0.5841 - val_accuracy: 0.7995\n",
            "Epoch 30/120\n",
            "63/63 [==============================] - 1s 10ms/step - loss: 0.4278 - accuracy: 0.8476 - val_loss: 0.5566 - val_accuracy: 0.8075\n",
            "Epoch 31/120\n",
            "63/63 [==============================] - 1s 10ms/step - loss: 0.3974 - accuracy: 0.8569 - val_loss: 0.5191 - val_accuracy: 0.8265\n",
            "Epoch 32/120\n",
            "63/63 [==============================] - 1s 10ms/step - loss: 0.3887 - accuracy: 0.8666 - val_loss: 0.5222 - val_accuracy: 0.8245\n",
            "Epoch 33/120\n",
            "63/63 [==============================] - 1s 10ms/step - loss: 0.3586 - accuracy: 0.8761 - val_loss: 0.5721 - val_accuracy: 0.8035\n",
            "Epoch 34/120\n",
            "63/63 [==============================] - 1s 10ms/step - loss: 0.3751 - accuracy: 0.8631 - val_loss: 0.5042 - val_accuracy: 0.8210\n",
            "Epoch 35/120\n",
            "63/63 [==============================] - 1s 10ms/step - loss: 0.3473 - accuracy: 0.8781 - val_loss: 0.5388 - val_accuracy: 0.8155\n",
            "Epoch 36/120\n",
            "63/63 [==============================] - 1s 10ms/step - loss: 0.3389 - accuracy: 0.8853 - val_loss: 0.4969 - val_accuracy: 0.8320\n",
            "Epoch 37/120\n",
            "63/63 [==============================] - 1s 10ms/step - loss: 0.3337 - accuracy: 0.8842 - val_loss: 0.4929 - val_accuracy: 0.8260\n",
            "Epoch 38/120\n",
            "63/63 [==============================] - 1s 11ms/step - loss: 0.3557 - accuracy: 0.8710 - val_loss: 0.5243 - val_accuracy: 0.8255\n",
            "Epoch 39/120\n",
            "63/63 [==============================] - 1s 10ms/step - loss: 0.3421 - accuracy: 0.8796 - val_loss: 0.5529 - val_accuracy: 0.8090\n",
            "Epoch 40/120\n",
            "63/63 [==============================] - 1s 10ms/step - loss: 0.3190 - accuracy: 0.8876 - val_loss: 0.4657 - val_accuracy: 0.8390\n",
            "Epoch 41/120\n",
            "63/63 [==============================] - 1s 10ms/step - loss: 0.2883 - accuracy: 0.8999 - val_loss: 0.4784 - val_accuracy: 0.8335\n",
            "Epoch 42/120\n",
            "63/63 [==============================] - 1s 10ms/step - loss: 0.3291 - accuracy: 0.8817 - val_loss: 0.4826 - val_accuracy: 0.8345\n",
            "Epoch 43/120\n",
            "63/63 [==============================] - 1s 10ms/step - loss: 0.2667 - accuracy: 0.9101 - val_loss: 0.5010 - val_accuracy: 0.8355\n",
            "Epoch 44/120\n",
            "63/63 [==============================] - 1s 10ms/step - loss: 0.2661 - accuracy: 0.9062 - val_loss: 0.4676 - val_accuracy: 0.8340\n",
            "Epoch 45/120\n",
            "63/63 [==============================] - 1s 10ms/step - loss: 0.2646 - accuracy: 0.9071 - val_loss: 0.4680 - val_accuracy: 0.8385\n",
            "Epoch 46/120\n",
            "63/63 [==============================] - 1s 10ms/step - loss: 0.2600 - accuracy: 0.9068 - val_loss: 0.4214 - val_accuracy: 0.8585\n",
            "Epoch 47/120\n",
            "63/63 [==============================] - 1s 10ms/step - loss: 0.2728 - accuracy: 0.9071 - val_loss: 0.6776 - val_accuracy: 0.7895\n",
            "Epoch 48/120\n",
            "63/63 [==============================] - 1s 10ms/step - loss: 0.3074 - accuracy: 0.8887 - val_loss: 0.4260 - val_accuracy: 0.8540\n",
            "Epoch 49/120\n",
            "63/63 [==============================] - 1s 11ms/step - loss: 0.2343 - accuracy: 0.9144 - val_loss: 0.5026 - val_accuracy: 0.8395\n",
            "Epoch 50/120\n",
            "63/63 [==============================] - 1s 10ms/step - loss: 0.2354 - accuracy: 0.9186 - val_loss: 0.4405 - val_accuracy: 0.8595\n",
            "Epoch 51/120\n",
            "63/63 [==============================] - 1s 10ms/step - loss: 0.2152 - accuracy: 0.9259 - val_loss: 0.4507 - val_accuracy: 0.8575\n",
            "Epoch 52/120\n",
            "63/63 [==============================] - 1s 10ms/step - loss: 0.2196 - accuracy: 0.9255 - val_loss: 0.4610 - val_accuracy: 0.8490\n",
            "Epoch 53/120\n",
            "63/63 [==============================] - 1s 10ms/step - loss: 0.2081 - accuracy: 0.9264 - val_loss: 0.4601 - val_accuracy: 0.8510\n",
            "Epoch 54/120\n",
            "63/63 [==============================] - 1s 10ms/step - loss: 0.1957 - accuracy: 0.9294 - val_loss: 0.4452 - val_accuracy: 0.8565\n",
            "Epoch 55/120\n",
            "63/63 [==============================] - 1s 10ms/step - loss: 0.1793 - accuracy: 0.9430 - val_loss: 0.5176 - val_accuracy: 0.8335\n",
            "Epoch 56/120\n",
            "63/63 [==============================] - 1s 9ms/step - loss: 0.1982 - accuracy: 0.9281 - val_loss: 0.4940 - val_accuracy: 0.8410\n",
            "Epoch 57/120\n",
            "63/63 [==============================] - 1s 10ms/step - loss: 0.1800 - accuracy: 0.9375 - val_loss: 0.4953 - val_accuracy: 0.8455\n",
            "Epoch 58/120\n",
            "63/63 [==============================] - 1s 10ms/step - loss: 0.1852 - accuracy: 0.9341 - val_loss: 0.4878 - val_accuracy: 0.8445\n",
            "Epoch 59/120\n",
            "63/63 [==============================] - 1s 10ms/step - loss: 0.1409 - accuracy: 0.9548 - val_loss: 0.4277 - val_accuracy: 0.8660\n",
            "Epoch 60/120\n",
            "63/63 [==============================] - 1s 10ms/step - loss: 0.1562 - accuracy: 0.9440 - val_loss: 0.4802 - val_accuracy: 0.8550\n",
            "Epoch 61/120\n",
            "63/63 [==============================] - 1s 9ms/step - loss: 0.1591 - accuracy: 0.9471 - val_loss: 0.4835 - val_accuracy: 0.8490\n",
            "Epoch 62/120\n",
            "63/63 [==============================] - 1s 10ms/step - loss: 0.1911 - accuracy: 0.9337 - val_loss: 0.4465 - val_accuracy: 0.8625\n",
            "Epoch 63/120\n",
            "63/63 [==============================] - 1s 10ms/step - loss: 0.1619 - accuracy: 0.9415 - val_loss: 0.5882 - val_accuracy: 0.8260\n",
            "Epoch 64/120\n",
            "63/63 [==============================] - 1s 10ms/step - loss: 0.1720 - accuracy: 0.9391 - val_loss: 0.4839 - val_accuracy: 0.8525\n",
            "Epoch 65/120\n",
            "63/63 [==============================] - 1s 10ms/step - loss: 0.1148 - accuracy: 0.9613 - val_loss: 0.4338 - val_accuracy: 0.8680\n",
            "Epoch 66/120\n",
            "63/63 [==============================] - 1s 10ms/step - loss: 0.1161 - accuracy: 0.9623 - val_loss: 0.4214 - val_accuracy: 0.8720\n",
            "Epoch 67/120\n",
            "63/63 [==============================] - 1s 10ms/step - loss: 0.1135 - accuracy: 0.9612 - val_loss: 0.5746 - val_accuracy: 0.8430\n",
            "Epoch 68/120\n",
            "63/63 [==============================] - 1s 11ms/step - loss: 0.1431 - accuracy: 0.9488 - val_loss: 0.4439 - val_accuracy: 0.8765\n",
            "Epoch 69/120\n",
            "63/63 [==============================] - 1s 10ms/step - loss: 0.1074 - accuracy: 0.9628 - val_loss: 0.4270 - val_accuracy: 0.8705\n",
            "Epoch 70/120\n",
            "63/63 [==============================] - 1s 11ms/step - loss: 0.1031 - accuracy: 0.9669 - val_loss: 0.4861 - val_accuracy: 0.8665\n",
            "Epoch 71/120\n",
            "63/63 [==============================] - 1s 11ms/step - loss: 0.1582 - accuracy: 0.9427 - val_loss: 0.4354 - val_accuracy: 0.8715\n",
            "Epoch 72/120\n",
            "63/63 [==============================] - 1s 10ms/step - loss: 0.1215 - accuracy: 0.9594 - val_loss: 0.4426 - val_accuracy: 0.8665\n",
            "Epoch 73/120\n",
            "63/63 [==============================] - 1s 10ms/step - loss: 0.1185 - accuracy: 0.9573 - val_loss: 0.4185 - val_accuracy: 0.8705\n",
            "Epoch 74/120\n",
            "63/63 [==============================] - 1s 11ms/step - loss: 0.1597 - accuracy: 0.9472 - val_loss: 0.4129 - val_accuracy: 0.8770\n",
            "Epoch 75/120\n",
            "63/63 [==============================] - 1s 10ms/step - loss: 0.0996 - accuracy: 0.9645 - val_loss: 0.4708 - val_accuracy: 0.8640\n",
            "Epoch 76/120\n",
            "63/63 [==============================] - 1s 11ms/step - loss: 0.1017 - accuracy: 0.9646 - val_loss: 0.3965 - val_accuracy: 0.8805\n",
            "Epoch 77/120\n",
            "63/63 [==============================] - 1s 10ms/step - loss: 0.0672 - accuracy: 0.9772 - val_loss: 0.4775 - val_accuracy: 0.8710\n",
            "Epoch 78/120\n",
            "63/63 [==============================] - 1s 10ms/step - loss: 0.0811 - accuracy: 0.9727 - val_loss: 0.4696 - val_accuracy: 0.8680\n",
            "Epoch 79/120\n",
            "63/63 [==============================] - 1s 10ms/step - loss: 0.0781 - accuracy: 0.9744 - val_loss: 0.4294 - val_accuracy: 0.8790\n",
            "Epoch 80/120\n",
            "63/63 [==============================] - 1s 10ms/step - loss: 0.0702 - accuracy: 0.9777 - val_loss: 0.5094 - val_accuracy: 0.8615\n",
            "Epoch 81/120\n",
            "63/63 [==============================] - 1s 11ms/step - loss: 0.0774 - accuracy: 0.9737 - val_loss: 0.4886 - val_accuracy: 0.8705\n",
            "Epoch 82/120\n",
            "63/63 [==============================] - 1s 11ms/step - loss: 0.0952 - accuracy: 0.9653 - val_loss: 0.4652 - val_accuracy: 0.8760\n",
            "Epoch 83/120\n",
            "63/63 [==============================] - 1s 11ms/step - loss: 0.1033 - accuracy: 0.9655 - val_loss: 0.4437 - val_accuracy: 0.8750\n",
            "Epoch 84/120\n",
            "63/63 [==============================] - 1s 10ms/step - loss: 0.0730 - accuracy: 0.9785 - val_loss: 0.4910 - val_accuracy: 0.8785\n",
            "Epoch 85/120\n",
            "63/63 [==============================] - 1s 10ms/step - loss: 0.0541 - accuracy: 0.9844 - val_loss: 0.4563 - val_accuracy: 0.8855\n",
            "Epoch 86/120\n",
            "63/63 [==============================] - 1s 11ms/step - loss: 0.0726 - accuracy: 0.9744 - val_loss: 0.4384 - val_accuracy: 0.8785\n",
            "Epoch 87/120\n",
            "63/63 [==============================] - 1s 11ms/step - loss: 0.0570 - accuracy: 0.9793 - val_loss: 0.5244 - val_accuracy: 0.8650\n",
            "Epoch 88/120\n",
            "63/63 [==============================] - 1s 10ms/step - loss: 0.0965 - accuracy: 0.9644 - val_loss: 0.5937 - val_accuracy: 0.8535\n",
            "Epoch 89/120\n",
            "63/63 [==============================] - 1s 10ms/step - loss: 0.1489 - accuracy: 0.9450 - val_loss: 0.4795 - val_accuracy: 0.8715\n",
            "Epoch 90/120\n",
            "63/63 [==============================] - 1s 10ms/step - loss: 0.0731 - accuracy: 0.9767 - val_loss: 0.4454 - val_accuracy: 0.8840\n",
            "Epoch 91/120\n",
            "63/63 [==============================] - 1s 10ms/step - loss: 0.0490 - accuracy: 0.9850 - val_loss: 0.5975 - val_accuracy: 0.8520\n",
            "Epoch 92/120\n",
            "63/63 [==============================] - 1s 10ms/step - loss: 0.0992 - accuracy: 0.9609 - val_loss: 0.5250 - val_accuracy: 0.8695\n",
            "Epoch 93/120\n",
            "63/63 [==============================] - 1s 11ms/step - loss: 0.0658 - accuracy: 0.9756 - val_loss: 0.4764 - val_accuracy: 0.8760\n",
            "Epoch 94/120\n",
            "63/63 [==============================] - 1s 10ms/step - loss: 0.0533 - accuracy: 0.9828 - val_loss: 0.4652 - val_accuracy: 0.8880\n",
            "Epoch 95/120\n",
            "63/63 [==============================] - 1s 10ms/step - loss: 0.0372 - accuracy: 0.9893 - val_loss: 0.5318 - val_accuracy: 0.8770\n",
            "Epoch 96/120\n",
            "63/63 [==============================] - 1s 10ms/step - loss: 0.1171 - accuracy: 0.9583 - val_loss: 0.7602 - val_accuracy: 0.8095\n",
            "Epoch 97/120\n",
            "63/63 [==============================] - 1s 11ms/step - loss: 0.1202 - accuracy: 0.9568 - val_loss: 0.4365 - val_accuracy: 0.8825\n",
            "Epoch 98/120\n",
            "63/63 [==============================] - 1s 11ms/step - loss: 0.0389 - accuracy: 0.9868 - val_loss: 0.4543 - val_accuracy: 0.8895\n",
            "Epoch 99/120\n",
            "63/63 [==============================] - 1s 10ms/step - loss: 0.0250 - accuracy: 0.9930 - val_loss: 0.4385 - val_accuracy: 0.8920\n",
            "Epoch 100/120\n",
            "63/63 [==============================] - 1s 11ms/step - loss: 0.0376 - accuracy: 0.9882 - val_loss: 0.4885 - val_accuracy: 0.8840\n",
            "Epoch 101/120\n",
            "63/63 [==============================] - 1s 10ms/step - loss: 0.0411 - accuracy: 0.9863 - val_loss: 0.4767 - val_accuracy: 0.8845\n",
            "Epoch 102/120\n",
            "63/63 [==============================] - 1s 11ms/step - loss: 0.0371 - accuracy: 0.9879 - val_loss: 0.5267 - val_accuracy: 0.8705\n",
            "Epoch 103/120\n",
            "63/63 [==============================] - 1s 10ms/step - loss: 0.0361 - accuracy: 0.9889 - val_loss: 0.5513 - val_accuracy: 0.8700\n",
            "Epoch 104/120\n",
            "63/63 [==============================] - 1s 10ms/step - loss: 0.0523 - accuracy: 0.9833 - val_loss: 0.4988 - val_accuracy: 0.8865\n",
            "Epoch 105/120\n",
            "63/63 [==============================] - 1s 10ms/step - loss: 0.0700 - accuracy: 0.9769 - val_loss: 0.5529 - val_accuracy: 0.8605\n",
            "Epoch 106/120\n",
            "63/63 [==============================] - 1s 11ms/step - loss: 0.0655 - accuracy: 0.9762 - val_loss: 0.4575 - val_accuracy: 0.8885\n",
            "Epoch 107/120\n",
            "63/63 [==============================] - 1s 10ms/step - loss: 0.0228 - accuracy: 0.9947 - val_loss: 0.5007 - val_accuracy: 0.8810\n",
            "Epoch 108/120\n",
            "63/63 [==============================] - 1s 10ms/step - loss: 0.0496 - accuracy: 0.9817 - val_loss: 0.5981 - val_accuracy: 0.8560\n",
            "Epoch 109/120\n",
            "63/63 [==============================] - 1s 10ms/step - loss: 0.1294 - accuracy: 0.9500 - val_loss: 0.6390 - val_accuracy: 0.8490\n",
            "Epoch 110/120\n",
            "63/63 [==============================] - 1s 10ms/step - loss: 0.1198 - accuracy: 0.9546 - val_loss: 0.5008 - val_accuracy: 0.8835\n",
            "Epoch 111/120\n",
            "63/63 [==============================] - 1s 10ms/step - loss: 0.0505 - accuracy: 0.9835 - val_loss: 0.4328 - val_accuracy: 0.8920\n",
            "Epoch 112/120\n",
            "63/63 [==============================] - 1s 11ms/step - loss: 0.0229 - accuracy: 0.9938 - val_loss: 0.5088 - val_accuracy: 0.8870\n",
            "Epoch 113/120\n",
            "63/63 [==============================] - 1s 10ms/step - loss: 0.0351 - accuracy: 0.9881 - val_loss: 0.5370 - val_accuracy: 0.8810\n",
            "Epoch 114/120\n",
            "63/63 [==============================] - 1s 10ms/step - loss: 0.1248 - accuracy: 0.9535 - val_loss: 0.6532 - val_accuracy: 0.8525\n",
            "Epoch 115/120\n",
            "63/63 [==============================] - 1s 10ms/step - loss: 0.1072 - accuracy: 0.9597 - val_loss: 0.5671 - val_accuracy: 0.8720\n",
            "Epoch 116/120\n",
            "63/63 [==============================] - 1s 10ms/step - loss: 0.0623 - accuracy: 0.9780 - val_loss: 0.4875 - val_accuracy: 0.8885\n",
            "Epoch 117/120\n",
            "63/63 [==============================] - 1s 10ms/step - loss: 0.0323 - accuracy: 0.9893 - val_loss: 0.4683 - val_accuracy: 0.8915\n",
            "Epoch 118/120\n",
            "63/63 [==============================] - 1s 11ms/step - loss: 0.0156 - accuracy: 0.9968 - val_loss: 0.4399 - val_accuracy: 0.8975\n",
            "Epoch 119/120\n",
            "63/63 [==============================] - 1s 11ms/step - loss: 0.0144 - accuracy: 0.9957 - val_loss: 0.4820 - val_accuracy: 0.8970\n",
            "Epoch 120/120\n",
            "63/63 [==============================] - 1s 10ms/step - loss: 0.0080 - accuracy: 0.9990 - val_loss: 0.5188 - val_accuracy: 0.8915\n"
          ],
          "name": "stdout"
        }
      ]
    },
    {
      "cell_type": "code",
      "metadata": {
        "id": "cZrRx5eG6Rry",
        "colab": {
          "base_uri": "https://localhost:8080/",
          "height": 294
        },
        "outputId": "499b6858-8f5a-451f-8fb5-d9048093bc4e"
      },
      "source": [
        "def plot_history(history):\n",
        "    \"\"\"Plots accuracy/loss for training/validation set as a function of the epochs\n",
        "        :param history: Training history of model\n",
        "        :return:\n",
        "    \"\"\"\n",
        "\n",
        "    fig, axs = plt.subplots(2)\n",
        "\n",
        "    # create accuracy sublpot\n",
        "    axs[0].plot(history.history[\"accuracy\"], label=\"train accuracy\")\n",
        "    axs[0].plot(history.history[\"val_accuracy\"], label=\"test accuracy\")\n",
        "    axs[0].set_ylabel(\"Accuracy\")\n",
        "    axs[0].legend(loc=\"lower right\")\n",
        "    axs[0].set_title(\"Accuracy eval\")\n",
        "\n",
        "    # create error sublpot\n",
        "    axs[1].plot(history.history[\"loss\"], label=\"train error\")\n",
        "    axs[1].plot(history.history[\"val_loss\"], label=\"test error\")\n",
        "    axs[1].set_ylabel(\"Error\")\n",
        "    axs[1].set_xlabel(\"Epoch\")\n",
        "    axs[1].legend(loc=\"upper right\")\n",
        "    axs[1].set_title(\"Error eval\")\n",
        "\n",
        "    plt.show()\n",
        "\n",
        "plot_history(history)"
      ],
      "execution_count": null,
      "outputs": [
        {
          "output_type": "display_data",
          "data": {
            "image/png": "[encoded data removed]",
            "text/plain": [
              "<Figure size 432x288 with 2 Axes>"
            ]
          },
          "metadata": {
            "tags": [],
            "needs_background": "light"
          }
        }
      ]
    },
    {
      "cell_type": "code",
      "metadata": {
        "id": "uPUHTk42ygHQ"
      },
      "source": [
        "%matplotlib inline\n",
        "from sklearn.metrics import confusion_matrix\n",
        "import itertools\n",
        "import matplotlib.pyplot as plt\n",
        "\n",
        "predictions = model.predict(\n",
        "      x=x_test\n",
        "    , batch_size=10\n",
        "    , verbose=0)  \n",
        "\n",
        "#for i in predictions:\n",
        "    #print(i)\n",
        "\n",
        "rounded_predictions = np.argmax(predictions, axis=-1)\n",
        "#for i in rounded_predictions:\n",
        "    #print(i)    "
      ],
      "execution_count": null,
      "outputs": []
    },
    {
      "cell_type": "code",
      "metadata": {
        "id": "3BhvgubAyjDQ"
      },
      "source": [
        "cm = confusion_matrix(y_true=y_test, y_pred=rounded_predictions)"
      ],
      "execution_count": null,
      "outputs": []
    },
    {
      "cell_type": "code",
      "metadata": {
        "id": "KfaDjN06yjiG"
      },
      "source": [
        "def plot_confusion_matrix(cm, classes,\n",
        "                        normalize=False,\n",
        "                        title='Confusion matrix',\n",
        "                        cmap=plt.cm.Blues):\n",
        "    \"\"\"\n",
        "    This function prints and plots the confusion matrix.\n",
        "    Normalization can be applied by setting `normalize=True`.\n",
        "    \"\"\"\n",
        "    plt.imshow(cm, interpolation='nearest', cmap=cmap)\n",
        "    plt.title(title)\n",
        "    plt.colorbar()\n",
        "    tick_marks = np.arange(len(classes))\n",
        "    plt.xticks(tick_marks, classes, rotation=45)\n",
        "    plt.yticks(tick_marks, classes)\n",
        "\n",
        "    if normalize:\n",
        "        cm = cm.astype('float') / cm.sum(axis=1)[:, np.newaxis]\n",
        "        print(\"Normalized confusion matrix\")\n",
        "    else:\n",
        "        print('Confusion matrix, without normalization')\n",
        "\n",
        "    print(cm)\n",
        "\n",
        "    thresh = cm.max() / 2.\n",
        "    for i, j in itertools.product(range(cm.shape[0]), range(cm.shape[1])):\n",
        "        plt.text(j, i, cm[i, j],\n",
        "            horizontalalignment=\"center\",\n",
        "            color=\"white\" if cm[i, j] > thresh else \"black\")\n",
        "\n",
        "    plt.tight_layout()\n",
        "    plt.ylabel('True label')\n",
        "    plt.xlabel('Predicted label')"
      ],
      "execution_count": null,
      "outputs": []
    },
    {
      "cell_type": "code",
      "metadata": {
        "colab": {
          "base_uri": "https://localhost:8080/",
          "height": 506
        },
        "id": "jQYLw7L_ymMY",
        "outputId": "9709988e-f6ba-4872-f07e-fbb7406539da"
      },
      "source": [
        "cm_plot_labels = [\"blues\", \"classical\", \"country\", \"disco\", \"hiphop\", \"jazz\", \"metal\", \"pop\", \"reggae\", \"rock\"]\n",
        "plot_confusion_matrix(cm=cm, classes=cm_plot_labels, title='Confusion Matrix')"
      ],
      "execution_count": null,
      "outputs": [
        {
          "output_type": "stream",
          "text": [
            "Confusion matrix, without normalization\n",
            "[[173   1   6   0   0   3   0   0   4   2]\n",
            " [  0 169   4   0   0   8   0   0   0   1]\n",
            " [  4   0 177   0   2   5   0   2   4   4]\n",
            " [  4   1   3 193   2   0   0   1   7   6]\n",
            " [  3   0   1   5 180   0   2   3  13   3]\n",
            " [  3   3   9   0   0 185   0   2   4   4]\n",
            " [  2   1   1   1   1   1 176   0   0  15]\n",
            " [  0   0   4   2   1   1   0 175   6   5]\n",
            " [  1   0   1   2   0   1   0   4 173   2]\n",
            " [  2   0  15   7   0   2   3   2   5 182]]\n"
          ],
          "name": "stdout"
        },
        {
          "output_type": "display_data",
          "data": {
            "image/png": "[encoded data removed]",
            "text/plain": [
              "<Figure size 432x288 with 2 Axes>"
            ]
          },
          "metadata": {
            "tags": [],
            "needs_background": "light"
          }
        }
      ]
    }
  ]
}