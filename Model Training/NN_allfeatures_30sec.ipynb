{
  "nbformat": 4,
  "nbformat_minor": 0,
  "metadata": {
    "colab": {
      "name": "NN_allfeatures_30sec.ipynb",
      "provenance": [],
      "collapsed_sections": []
    },
    "kernelspec": {
      "name": "python3",
      "display_name": "Python 3"
    }
  },
  "cells": [
    {
      "cell_type": "markdown",
      "metadata": {
        "id": "L0XSOunR9-O-"
      },
      "source": [
        "Neural Network trained on 30 second feature set"
      ]
    },
    {
      "cell_type": "code",
      "metadata": {
        "colab": {
          "base_uri": "https://localhost:8080/"
        },
        "id": "H25-lI0MmX4W",
        "outputId": "91f8a262-8972-4840-c3e3-d9ca7e197132"
      },
      "source": [
        "from google.colab import drive\n",
        "drive.mount('/content/drive')"
      ],
      "execution_count": null,
      "outputs": [
        {
          "output_type": "stream",
          "text": [
            "Drive already mounted at /content/drive; to attempt to forcibly remount, call drive.mount(\"/content/drive\", force_remount=True).\n"
          ],
          "name": "stdout"
        }
      ]
    },
    {
      "cell_type": "code",
      "metadata": {
        "id": "PHsvd22Jmac0"
      },
      "source": [
        "import pandas as pd\n",
        "import numpy as np\n",
        "import matplotlib.pyplot as plt\n",
        "import os\n",
        "import seaborn as sns\n",
        "%matplotlib inline\n",
        "import csv\n",
        "\n",
        "# sklearn\n",
        "from sklearn.model_selection import train_test_split\n",
        "from sklearn.preprocessing import LabelEncoder, StandardScaler\n",
        "from sklearn import preprocessing"
      ],
      "execution_count": null,
      "outputs": []
    },
    {
      "cell_type": "code",
      "metadata": {
        "id": "g2JMFElXmqh9"
      },
      "source": [
        "song_dir =os.listdir('/content/drive/My Drive/RP/genres')"
      ],
      "execution_count": null,
      "outputs": []
    },
    {
      "cell_type": "code",
      "metadata": {
        "id": "Zc1aOZhznA-o",
        "colab": {
          "base_uri": "https://localhost:8080/",
          "height": 253
        },
        "outputId": "df760274-7573-4a35-ee16-5da182b8fd55"
      },
      "source": [
        "dataset_path ='/content/drive/My Drive/RP/Data.csv'\n",
        "\n",
        "master_data = pd.read_csv(dataset_path) \n",
        "master_data.head()\n",
        "\n"
      ],
      "execution_count": null,
      "outputs": [
        {
          "output_type": "execute_result",
          "data": {
            "text/html": [
              "<div>\n",
              "<style scoped>\n",
              "    .dataframe tbody tr th:only-of-type {\n",
              "        vertical-align: middle;\n",
              "    }\n",
              "\n",
              "    .dataframe tbody tr th {\n",
              "        vertical-align: top;\n",
              "    }\n",
              "\n",
              "    .dataframe thead th {\n",
              "        text-align: right;\n",
              "    }\n",
              "</style>\n",
              "<table border=\"1\" class=\"dataframe\">\n",
              "  <thead>\n",
              "    <tr style=\"text-align: right;\">\n",
              "      <th></th>\n",
              "      <th>centroid_max</th>\n",
              "      <th>centroid_min</th>\n",
              "      <th>centroid_mean</th>\n",
              "      <th>centroid_std</th>\n",
              "      <th>centroid_kurtosis</th>\n",
              "      <th>centroid_skew</th>\n",
              "      <th>rolloff_max</th>\n",
              "      <th>rolloff_min</th>\n",
              "      <th>rolloff_mean</th>\n",
              "      <th>rolloff_std</th>\n",
              "      <th>rolloff_kurtosis</th>\n",
              "      <th>rolloff_skew</th>\n",
              "      <th>flux_max</th>\n",
              "      <th>flux_min</th>\n",
              "      <th>flux_mean</th>\n",
              "      <th>flux_std</th>\n",
              "      <th>flux_kurtosis</th>\n",
              "      <th>flux_skew</th>\n",
              "      <th>rmse_max</th>\n",
              "      <th>rmse_min</th>\n",
              "      <th>rmse_mean</th>\n",
              "      <th>rmse_std</th>\n",
              "      <th>rmse_kurtosis</th>\n",
              "      <th>rmse_skew</th>\n",
              "      <th>zcr_max</th>\n",
              "      <th>zcr_min</th>\n",
              "      <th>zcr_mean</th>\n",
              "      <th>zcr_std</th>\n",
              "      <th>zcr_kurtosis</th>\n",
              "      <th>zcr_skew</th>\n",
              "      <th>contrast_max</th>\n",
              "      <th>contrast_min</th>\n",
              "      <th>contrast_mean</th>\n",
              "      <th>contrast_std</th>\n",
              "      <th>contrast_kurtosis</th>\n",
              "      <th>contrast_skew</th>\n",
              "      <th>bandwidth_max</th>\n",
              "      <th>bandwidth_min</th>\n",
              "      <th>bandwidth_mean</th>\n",
              "      <th>bandwidth_std</th>\n",
              "      <th>...</th>\n",
              "      <th>mfcc_6_std</th>\n",
              "      <th>mfcc_6_kurtosis</th>\n",
              "      <th>mfcc_6_skew</th>\n",
              "      <th>mfcc_7_max</th>\n",
              "      <th>mfcc_7_min</th>\n",
              "      <th>mfcc_7_mean</th>\n",
              "      <th>mfcc_7_std</th>\n",
              "      <th>mfcc_7_kurtosis</th>\n",
              "      <th>mfcc_7_skew</th>\n",
              "      <th>mfcc_8_max</th>\n",
              "      <th>mfcc_8_min</th>\n",
              "      <th>mfcc_8_mean</th>\n",
              "      <th>mfcc_8_std</th>\n",
              "      <th>mfcc_8_kurtosis</th>\n",
              "      <th>mfcc_8_skew</th>\n",
              "      <th>mfcc_9_max</th>\n",
              "      <th>mfcc_9_min</th>\n",
              "      <th>mfcc_9_mean</th>\n",
              "      <th>mfcc_9_std</th>\n",
              "      <th>mfcc_9_kurtosis</th>\n",
              "      <th>mfcc_9_skew</th>\n",
              "      <th>mfcc_10_max</th>\n",
              "      <th>mfcc_10_min</th>\n",
              "      <th>mfcc_10_mean</th>\n",
              "      <th>mfcc_10_std</th>\n",
              "      <th>mfcc_10_kurtosis</th>\n",
              "      <th>mfcc_10_skew</th>\n",
              "      <th>mfcc_11_max</th>\n",
              "      <th>mfcc_11_min</th>\n",
              "      <th>mfcc_11_mean</th>\n",
              "      <th>mfcc_11_std</th>\n",
              "      <th>mfcc_11_kurtosis</th>\n",
              "      <th>mfcc_11_skew</th>\n",
              "      <th>mfcc_12_max</th>\n",
              "      <th>mfcc_12_min</th>\n",
              "      <th>mfcc_12_mean</th>\n",
              "      <th>mfcc_12_std</th>\n",
              "      <th>mfcc_12_kurtosis</th>\n",
              "      <th>mfcc_12_skew</th>\n",
              "      <th>genre</th>\n",
              "    </tr>\n",
              "  </thead>\n",
              "  <tbody>\n",
              "    <tr>\n",
              "      <th>0</th>\n",
              "      <td>4464.156642</td>\n",
              "      <td>849.658285</td>\n",
              "      <td>1835.494603</td>\n",
              "      <td>585.961468</td>\n",
              "      <td>1.536058</td>\n",
              "      <td>1.049734</td>\n",
              "      <td>7084.423828</td>\n",
              "      <td>1152.026367</td>\n",
              "      <td>3580.945013</td>\n",
              "      <td>1253.915665</td>\n",
              "      <td>-0.589893</td>\n",
              "      <td>0.327106</td>\n",
              "      <td>12.954988</td>\n",
              "      <td>0.0</td>\n",
              "      <td>1.644384</td>\n",
              "      <td>1.958142</td>\n",
              "      <td>6.068005</td>\n",
              "      <td>2.287192</td>\n",
              "      <td>0.288393</td>\n",
              "      <td>0.007671</td>\n",
              "      <td>0.091563</td>\n",
              "      <td>0.047996</td>\n",
              "      <td>0.646815</td>\n",
              "      <td>0.849254</td>\n",
              "      <td>0.366211</td>\n",
              "      <td>0.039551</td>\n",
              "      <td>0.101500</td>\n",
              "      <td>0.044199</td>\n",
              "      <td>5.710074</td>\n",
              "      <td>1.939640</td>\n",
              "      <td>54.526649</td>\n",
              "      <td>6.113804</td>\n",
              "      <td>21.467739</td>\n",
              "      <td>7.938795</td>\n",
              "      <td>1.252378</td>\n",
              "      <td>1.244233</td>\n",
              "      <td>2770.695509</td>\n",
              "      <td>1081.656537</td>\n",
              "      <td>1748.362448</td>\n",
              "      <td>297.432368</td>\n",
              "      <td>...</td>\n",
              "      <td>9.658838</td>\n",
              "      <td>0.572860</td>\n",
              "      <td>-0.583507</td>\n",
              "      <td>33.730677</td>\n",
              "      <td>-27.954872</td>\n",
              "      <td>0.503117</td>\n",
              "      <td>11.168602</td>\n",
              "      <td>-0.228461</td>\n",
              "      <td>0.516213</td>\n",
              "      <td>24.094106</td>\n",
              "      <td>-44.258590</td>\n",
              "      <td>-11.805831</td>\n",
              "      <td>11.400602</td>\n",
              "      <td>-0.009328</td>\n",
              "      <td>-0.184066</td>\n",
              "      <td>30.684135</td>\n",
              "      <td>-24.465716</td>\n",
              "      <td>1.206804</td>\n",
              "      <td>9.987699</td>\n",
              "      <td>-0.303852</td>\n",
              "      <td>0.183510</td>\n",
              "      <td>24.979963</td>\n",
              "      <td>-41.409291</td>\n",
              "      <td>-13.083820</td>\n",
              "      <td>8.962364</td>\n",
              "      <td>1.803803</td>\n",
              "      <td>0.596276</td>\n",
              "      <td>31.721020</td>\n",
              "      <td>-30.323239</td>\n",
              "      <td>-2.806385</td>\n",
              "      <td>9.298361</td>\n",
              "      <td>0.430402</td>\n",
              "      <td>0.456069</td>\n",
              "      <td>24.070390</td>\n",
              "      <td>-36.607308</td>\n",
              "      <td>-6.934122</td>\n",
              "      <td>9.466887</td>\n",
              "      <td>0.057029</td>\n",
              "      <td>0.132279</td>\n",
              "      <td>blues</td>\n",
              "    </tr>\n",
              "    <tr>\n",
              "      <th>1</th>\n",
              "      <td>3236.442116</td>\n",
              "      <td>318.713500</td>\n",
              "      <td>1070.119953</td>\n",
              "      <td>429.532791</td>\n",
              "      <td>1.803354</td>\n",
              "      <td>1.001449</td>\n",
              "      <td>7611.987305</td>\n",
              "      <td>387.597656</td>\n",
              "      <td>2185.028454</td>\n",
              "      <td>1222.395194</td>\n",
              "      <td>1.608416</td>\n",
              "      <td>1.245734</td>\n",
              "      <td>14.619909</td>\n",
              "      <td>0.0</td>\n",
              "      <td>1.247379</td>\n",
              "      <td>1.750351</td>\n",
              "      <td>12.675193</td>\n",
              "      <td>3.203631</td>\n",
              "      <td>0.383715</td>\n",
              "      <td>0.009310</td>\n",
              "      <td>0.141191</td>\n",
              "      <td>0.079617</td>\n",
              "      <td>-0.381391</td>\n",
              "      <td>0.525917</td>\n",
              "      <td>0.145020</td>\n",
              "      <td>0.006348</td>\n",
              "      <td>0.033309</td>\n",
              "      <td>0.020569</td>\n",
              "      <td>2.017897</td>\n",
              "      <td>1.072661</td>\n",
              "      <td>53.952526</td>\n",
              "      <td>5.438508</td>\n",
              "      <td>21.428764</td>\n",
              "      <td>7.962859</td>\n",
              "      <td>-0.023194</td>\n",
              "      <td>0.871523</td>\n",
              "      <td>3174.579278</td>\n",
              "      <td>671.098012</td>\n",
              "      <td>1596.333948</td>\n",
              "      <td>408.119547</td>\n",
              "      <td>...</td>\n",
              "      <td>12.491243</td>\n",
              "      <td>0.366743</td>\n",
              "      <td>-0.887007</td>\n",
              "      <td>30.783287</td>\n",
              "      <td>-18.335242</td>\n",
              "      <td>9.297965</td>\n",
              "      <td>9.008867</td>\n",
              "      <td>-0.251998</td>\n",
              "      <td>-0.328337</td>\n",
              "      <td>25.273713</td>\n",
              "      <td>-29.548192</td>\n",
              "      <td>-0.757741</td>\n",
              "      <td>9.601001</td>\n",
              "      <td>-0.467246</td>\n",
              "      <td>-0.325538</td>\n",
              "      <td>32.761795</td>\n",
              "      <td>-29.347543</td>\n",
              "      <td>8.149012</td>\n",
              "      <td>8.438341</td>\n",
              "      <td>1.682580</td>\n",
              "      <td>-0.656629</td>\n",
              "      <td>25.346260</td>\n",
              "      <td>-45.598267</td>\n",
              "      <td>-3.196314</td>\n",
              "      <td>10.502337</td>\n",
              "      <td>0.191071</td>\n",
              "      <td>-0.346805</td>\n",
              "      <td>40.363245</td>\n",
              "      <td>-14.122019</td>\n",
              "      <td>6.087676</td>\n",
              "      <td>6.942457</td>\n",
              "      <td>1.569782</td>\n",
              "      <td>0.613722</td>\n",
              "      <td>20.651334</td>\n",
              "      <td>-32.890564</td>\n",
              "      <td>-2.476420</td>\n",
              "      <td>7.538023</td>\n",
              "      <td>0.499351</td>\n",
              "      <td>-0.163374</td>\n",
              "      <td>blues</td>\n",
              "    </tr>\n",
              "    <tr>\n",
              "      <th>2</th>\n",
              "      <td>5444.293577</td>\n",
              "      <td>421.091729</td>\n",
              "      <td>1529.835316</td>\n",
              "      <td>613.175361</td>\n",
              "      <td>4.028086</td>\n",
              "      <td>1.339397</td>\n",
              "      <td>8085.717773</td>\n",
              "      <td>333.764648</td>\n",
              "      <td>3548.820207</td>\n",
              "      <td>1725.249654</td>\n",
              "      <td>-0.647548</td>\n",
              "      <td>0.447830</td>\n",
              "      <td>17.791127</td>\n",
              "      <td>0.0</td>\n",
              "      <td>1.444008</td>\n",
              "      <td>1.996799</td>\n",
              "      <td>12.743417</td>\n",
              "      <td>3.142622</td>\n",
              "      <td>0.271687</td>\n",
              "      <td>0.004361</td>\n",
              "      <td>0.095918</td>\n",
              "      <td>0.048718</td>\n",
              "      <td>-0.058206</td>\n",
              "      <td>0.299131</td>\n",
              "      <td>0.323730</td>\n",
              "      <td>0.006348</td>\n",
              "      <td>0.056044</td>\n",
              "      <td>0.038059</td>\n",
              "      <td>9.193445</td>\n",
              "      <td>2.362931</td>\n",
              "      <td>48.775996</td>\n",
              "      <td>5.534489</td>\n",
              "      <td>20.676334</td>\n",
              "      <td>8.239387</td>\n",
              "      <td>1.531287</td>\n",
              "      <td>1.428818</td>\n",
              "      <td>3402.554398</td>\n",
              "      <td>1046.389224</td>\n",
              "      <td>2038.617579</td>\n",
              "      <td>462.379133</td>\n",
              "      <td>...</td>\n",
              "      <td>14.177411</td>\n",
              "      <td>-0.036739</td>\n",
              "      <td>-0.257875</td>\n",
              "      <td>57.322294</td>\n",
              "      <td>-14.032229</td>\n",
              "      <td>23.358672</td>\n",
              "      <td>11.936523</td>\n",
              "      <td>-0.051591</td>\n",
              "      <td>0.107448</td>\n",
              "      <td>21.894634</td>\n",
              "      <td>-52.369707</td>\n",
              "      <td>-10.103616</td>\n",
              "      <td>12.894725</td>\n",
              "      <td>-0.527935</td>\n",
              "      <td>0.009104</td>\n",
              "      <td>40.404282</td>\n",
              "      <td>-29.546380</td>\n",
              "      <td>11.903744</td>\n",
              "      <td>10.219957</td>\n",
              "      <td>0.305566</td>\n",
              "      <td>-0.183417</td>\n",
              "      <td>24.502062</td>\n",
              "      <td>-37.257188</td>\n",
              "      <td>-5.560387</td>\n",
              "      <td>10.262492</td>\n",
              "      <td>0.172146</td>\n",
              "      <td>0.013335</td>\n",
              "      <td>37.242587</td>\n",
              "      <td>-25.349421</td>\n",
              "      <td>5.376802</td>\n",
              "      <td>9.812361</td>\n",
              "      <td>0.054883</td>\n",
              "      <td>0.154526</td>\n",
              "      <td>19.230036</td>\n",
              "      <td>-27.189579</td>\n",
              "      <td>-2.239119</td>\n",
              "      <td>8.055376</td>\n",
              "      <td>-0.182963</td>\n",
              "      <td>0.004210</td>\n",
              "      <td>blues</td>\n",
              "    </tr>\n",
              "    <tr>\n",
              "      <th>3</th>\n",
              "      <td>4499.417241</td>\n",
              "      <td>415.633570</td>\n",
              "      <td>1459.078483</td>\n",
              "      <td>661.885670</td>\n",
              "      <td>0.842177</td>\n",
              "      <td>0.967646</td>\n",
              "      <td>6761.425781</td>\n",
              "      <td>441.430664</td>\n",
              "      <td>2795.616429</td>\n",
              "      <td>1273.841376</td>\n",
              "      <td>0.133467</td>\n",
              "      <td>0.905289</td>\n",
              "      <td>16.464624</td>\n",
              "      <td>0.0</td>\n",
              "      <td>1.638620</td>\n",
              "      <td>2.383850</td>\n",
              "      <td>7.557786</td>\n",
              "      <td>2.620426</td>\n",
              "      <td>0.544812</td>\n",
              "      <td>0.002851</td>\n",
              "      <td>0.141796</td>\n",
              "      <td>0.093824</td>\n",
              "      <td>0.951191</td>\n",
              "      <td>0.969008</td>\n",
              "      <td>0.375488</td>\n",
              "      <td>0.017090</td>\n",
              "      <td>0.073028</td>\n",
              "      <td>0.043699</td>\n",
              "      <td>4.160115</td>\n",
              "      <td>1.379952</td>\n",
              "      <td>52.049604</td>\n",
              "      <td>5.271643</td>\n",
              "      <td>23.434488</td>\n",
              "      <td>7.035455</td>\n",
              "      <td>1.509991</td>\n",
              "      <td>0.936985</td>\n",
              "      <td>2682.510435</td>\n",
              "      <td>763.896690</td>\n",
              "      <td>1388.913312</td>\n",
              "      <td>430.296227</td>\n",
              "      <td>...</td>\n",
              "      <td>12.339140</td>\n",
              "      <td>0.584446</td>\n",
              "      <td>-0.145225</td>\n",
              "      <td>30.489766</td>\n",
              "      <td>-31.436108</td>\n",
              "      <td>0.270091</td>\n",
              "      <td>10.148165</td>\n",
              "      <td>-0.064685</td>\n",
              "      <td>0.240794</td>\n",
              "      <td>22.762749</td>\n",
              "      <td>-50.762742</td>\n",
              "      <td>-6.489760</td>\n",
              "      <td>11.446632</td>\n",
              "      <td>0.680415</td>\n",
              "      <td>-0.586795</td>\n",
              "      <td>33.897971</td>\n",
              "      <td>-54.016615</td>\n",
              "      <td>-5.517093</td>\n",
              "      <td>12.392673</td>\n",
              "      <td>1.727890</td>\n",
              "      <td>-0.460252</td>\n",
              "      <td>24.801148</td>\n",
              "      <td>-46.061145</td>\n",
              "      <td>-7.840328</td>\n",
              "      <td>9.354566</td>\n",
              "      <td>1.244315</td>\n",
              "      <td>-0.457440</td>\n",
              "      <td>31.054307</td>\n",
              "      <td>-33.639619</td>\n",
              "      <td>-3.125678</td>\n",
              "      <td>8.015257</td>\n",
              "      <td>0.758695</td>\n",
              "      <td>0.205187</td>\n",
              "      <td>31.352491</td>\n",
              "      <td>-42.875398</td>\n",
              "      <td>-6.593118</td>\n",
              "      <td>8.897778</td>\n",
              "      <td>3.038824</td>\n",
              "      <td>-0.381277</td>\n",
              "      <td>blues</td>\n",
              "    </tr>\n",
              "    <tr>\n",
              "      <th>4</th>\n",
              "      <td>5399.377714</td>\n",
              "      <td>645.881662</td>\n",
              "      <td>1831.942368</td>\n",
              "      <td>1015.509231</td>\n",
              "      <td>0.887410</td>\n",
              "      <td>1.272556</td>\n",
              "      <td>7698.120117</td>\n",
              "      <td>775.195312</td>\n",
              "      <td>3480.937285</td>\n",
              "      <td>1810.117381</td>\n",
              "      <td>-1.087560</td>\n",
              "      <td>0.435534</td>\n",
              "      <td>15.215705</td>\n",
              "      <td>0.0</td>\n",
              "      <td>1.517771</td>\n",
              "      <td>2.252673</td>\n",
              "      <td>9.583442</td>\n",
              "      <td>2.935710</td>\n",
              "      <td>0.459728</td>\n",
              "      <td>0.004380</td>\n",
              "      <td>0.103468</td>\n",
              "      <td>0.063109</td>\n",
              "      <td>5.219640</td>\n",
              "      <td>1.869818</td>\n",
              "      <td>0.481934</td>\n",
              "      <td>0.016113</td>\n",
              "      <td>0.094040</td>\n",
              "      <td>0.078976</td>\n",
              "      <td>6.398650</td>\n",
              "      <td>2.423608</td>\n",
              "      <td>55.906395</td>\n",
              "      <td>6.173007</td>\n",
              "      <td>22.547453</td>\n",
              "      <td>8.180264</td>\n",
              "      <td>1.760446</td>\n",
              "      <td>1.287359</td>\n",
              "      <td>2827.733353</td>\n",
              "      <td>940.593017</td>\n",
              "      <td>1729.483241</td>\n",
              "      <td>449.475456</td>\n",
              "      <td>...</td>\n",
              "      <td>13.033185</td>\n",
              "      <td>1.286688</td>\n",
              "      <td>-0.749924</td>\n",
              "      <td>43.949002</td>\n",
              "      <td>-23.334754</td>\n",
              "      <td>3.180597</td>\n",
              "      <td>11.566774</td>\n",
              "      <td>0.013199</td>\n",
              "      <td>0.355449</td>\n",
              "      <td>27.564396</td>\n",
              "      <td>-50.194057</td>\n",
              "      <td>-8.583484</td>\n",
              "      <td>13.128410</td>\n",
              "      <td>0.428007</td>\n",
              "      <td>-0.576735</td>\n",
              "      <td>36.070025</td>\n",
              "      <td>-23.615067</td>\n",
              "      <td>-0.936488</td>\n",
              "      <td>10.009262</td>\n",
              "      <td>0.072946</td>\n",
              "      <td>0.552714</td>\n",
              "      <td>8.917015</td>\n",
              "      <td>-52.496094</td>\n",
              "      <td>-11.776273</td>\n",
              "      <td>8.751357</td>\n",
              "      <td>1.705669</td>\n",
              "      <td>-0.900154</td>\n",
              "      <td>34.333175</td>\n",
              "      <td>-36.482569</td>\n",
              "      <td>-2.420615</td>\n",
              "      <td>8.859221</td>\n",
              "      <td>0.858618</td>\n",
              "      <td>0.092247</td>\n",
              "      <td>21.219854</td>\n",
              "      <td>-32.542820</td>\n",
              "      <td>-9.339365</td>\n",
              "      <td>8.962608</td>\n",
              "      <td>0.314011</td>\n",
              "      <td>0.551345</td>\n",
              "      <td>blues</td>\n",
              "    </tr>\n",
              "  </tbody>\n",
              "</table>\n",
              "<p>5 rows × 133 columns</p>\n",
              "</div>"
            ],
            "text/plain": [
              "   centroid_max  centroid_min  ...  mfcc_12_skew  genre\n",
              "0   4464.156642    849.658285  ...      0.132279  blues\n",
              "1   3236.442116    318.713500  ...     -0.163374  blues\n",
              "2   5444.293577    421.091729  ...      0.004210  blues\n",
              "3   4499.417241    415.633570  ...     -0.381277  blues\n",
              "4   5399.377714    645.881662  ...      0.551345  blues\n",
              "\n",
              "[5 rows x 133 columns]"
            ]
          },
          "metadata": {
            "tags": []
          },
          "execution_count": 15
        }
      ]
    },
    {
      "cell_type": "code",
      "metadata": {
        "id": "36fHAQ4EjiNc",
        "colab": {
          "base_uri": "https://localhost:8080/"
        },
        "outputId": "53bc53db-b556-4cb9-9348-2b2fea501961"
      },
      "source": [
        "master_data.shape"
      ],
      "execution_count": null,
      "outputs": [
        {
          "output_type": "execute_result",
          "data": {
            "text/plain": [
              "(1000, 133)"
            ]
          },
          "metadata": {
            "tags": []
          },
          "execution_count": 16
        }
      ]
    },
    {
      "cell_type": "code",
      "metadata": {
        "id": "U4-L9iN_qRFs"
      },
      "source": [
        "y = master_data['genre']\n",
        "X = master_data.drop(columns=['genre'])"
      ],
      "execution_count": null,
      "outputs": []
    },
    {
      "cell_type": "code",
      "metadata": {
        "id": "7INBvnhtRs2j"
      },
      "source": [
        "#scaling data\n",
        "\n",
        "#scale = StandardScaler()\n",
        "#x_scaled = pd.DataFrame(scale.fit_transform(X), columns = X.columns)\n",
        "\n",
        "#transform all the values in range between (0 to 1) .... x = [(value - min)/(Max- Min)]\n",
        "\n",
        "min_max_scaler = preprocessing.MinMaxScaler()\n",
        "x_scaled = pd.DataFrame(min_max_scaler.fit_transform(X))"
      ],
      "execution_count": null,
      "outputs": []
    },
    {
      "cell_type": "code",
      "metadata": {
        "id": "rLhMdtCLRuzw"
      },
      "source": [
        "#x_scaled.head()"
      ],
      "execution_count": null,
      "outputs": []
    },
    {
      "cell_type": "code",
      "metadata": {
        "id": "jdxgROsLkdrm"
      },
      "source": [
        "#encode the genres:\n",
        "encoder = LabelEncoder()\n",
        "y_enc = encoder.fit_transform(y)"
      ],
      "execution_count": null,
      "outputs": []
    },
    {
      "cell_type": "code",
      "metadata": {
        "id": "ETYrt7IS-vLj"
      },
      "source": [
        "#y_enc\n",
        "#genre_list.head()"
      ],
      "execution_count": null,
      "outputs": []
    },
    {
      "cell_type": "code",
      "metadata": {
        "id": "m5svzLb1q6D3"
      },
      "source": [
        "x_train, x_test, y_train, y_test = train_test_split(x_scaled, y_enc, test_size=0.2)"
      ],
      "execution_count": null,
      "outputs": []
    },
    {
      "cell_type": "code",
      "metadata": {
        "id": "hA-LbIsvrBo2",
        "colab": {
          "base_uri": "https://localhost:8080/"
        },
        "outputId": "71bca822-50f8-45ae-f561-368a6ea43e8c"
      },
      "source": [
        "len(y_train)"
      ],
      "execution_count": null,
      "outputs": [
        {
          "output_type": "execute_result",
          "data": {
            "text/plain": [
              "800"
            ]
          },
          "metadata": {
            "tags": []
          },
          "execution_count": 23
        }
      ]
    },
    {
      "cell_type": "code",
      "metadata": {
        "id": "YAqE_brSrCJ-",
        "colab": {
          "base_uri": "https://localhost:8080/"
        },
        "outputId": "cd424ca8-618e-49f4-8170-7e66124747c5"
      },
      "source": [
        "len(y_test)"
      ],
      "execution_count": null,
      "outputs": [
        {
          "output_type": "execute_result",
          "data": {
            "text/plain": [
              "200"
            ]
          },
          "metadata": {
            "tags": []
          },
          "execution_count": 24
        }
      ]
    },
    {
      "cell_type": "markdown",
      "metadata": {
        "id": "kACSLWomTzGN"
      },
      "source": [
        "Implementing Neural Network\n"
      ]
    },
    {
      "cell_type": "code",
      "metadata": {
        "id": "xm7iS4g0T4zp"
      },
      "source": [
        "from keras import models\n",
        "from keras import layers\n",
        "\n",
        "model = models.Sequential()\n",
        "model.add(layers.Dense(512, activation='relu', input_shape=(x_train.shape[1],)))\n",
        "\n",
        "model.add(layers.Dense(256, activation='relu'))\n",
        "\n",
        "model.add(layers.Dense(128, activation='relu'))\n",
        "\n",
        "model.add(layers.Dense(64, activation='relu'))\n",
        "\n",
        "model.add(layers.Dense(10, activation='softmax'))\n",
        "\n",
        "#activation - ‘softmax’ (makes the output sum up to 1)\n"
      ],
      "execution_count": null,
      "outputs": []
    },
    {
      "cell_type": "code",
      "metadata": {
        "id": "rzhm3PtYXLb5",
        "colab": {
          "base_uri": "https://localhost:8080/"
        },
        "outputId": "64d5f543-3e42-4160-e563-a089750b4ebf"
      },
      "source": [
        "model.compile(optimizer='adam',\n",
        "              loss='sparse_categorical_crossentropy',\n",
        "              metrics=['accuracy'])\n",
        "model.summary()"
      ],
      "execution_count": null,
      "outputs": [
        {
          "output_type": "stream",
          "text": [
            "Model: \"sequential\"\n",
            "_________________________________________________________________\n",
            "Layer (type)                 Output Shape              Param #   \n",
            "=================================================================\n",
            "dense (Dense)                (None, 512)               68096     \n",
            "_________________________________________________________________\n",
            "dense_1 (Dense)              (None, 256)               131328    \n",
            "_________________________________________________________________\n",
            "dense_2 (Dense)              (None, 128)               32896     \n",
            "_________________________________________________________________\n",
            "dense_3 (Dense)              (None, 64)                8256      \n",
            "_________________________________________________________________\n",
            "dense_4 (Dense)              (None, 10)                650       \n",
            "=================================================================\n",
            "Total params: 241,226\n",
            "Trainable params: 241,226\n",
            "Non-trainable params: 0\n",
            "_________________________________________________________________\n"
          ],
          "name": "stdout"
        }
      ]
    },
    {
      "cell_type": "code",
      "metadata": {
        "id": "U2-exYF7X7-7",
        "colab": {
          "base_uri": "https://localhost:8080/"
        },
        "outputId": "f4ac1be3-e276-4921-bd8a-82d085994e47"
      },
      "source": [
        "from keras.callbacks import EarlyStopping\n",
        "#set early stopping monitor so the model stops training when it won't improve anymore\n",
        "early_stopping_monitor = EarlyStopping(patience=3)\n",
        "\n",
        "history = model.fit(x_train,y_train,validation_data=(x_test, y_test),epochs=30,batch_size=32, callbacks=[early_stopping_monitor])"
      ],
      "execution_count": null,
      "outputs": [
        {
          "output_type": "stream",
          "text": [
            "Epoch 1/30\n",
            "25/25 [==============================] - 1s 25ms/step - loss: 2.2204 - accuracy: 0.2339 - val_loss: 1.8877 - val_accuracy: 0.3750\n",
            "Epoch 2/30\n",
            "25/25 [==============================] - 0s 6ms/step - loss: 1.7021 - accuracy: 0.4117 - val_loss: 1.4846 - val_accuracy: 0.4650\n",
            "Epoch 3/30\n",
            "25/25 [==============================] - 0s 11ms/step - loss: 1.3898 - accuracy: 0.4606 - val_loss: 1.3027 - val_accuracy: 0.5100\n",
            "Epoch 4/30\n",
            "25/25 [==============================] - 0s 6ms/step - loss: 1.2024 - accuracy: 0.5406 - val_loss: 1.2213 - val_accuracy: 0.5100\n",
            "Epoch 5/30\n",
            "25/25 [==============================] - 0s 7ms/step - loss: 1.1158 - accuracy: 0.5765 - val_loss: 1.2187 - val_accuracy: 0.5250\n",
            "Epoch 6/30\n",
            "25/25 [==============================] - 0s 5ms/step - loss: 1.1014 - accuracy: 0.5828 - val_loss: 1.2070 - val_accuracy: 0.5100\n",
            "Epoch 7/30\n",
            "25/25 [==============================] - 0s 6ms/step - loss: 0.9621 - accuracy: 0.6390 - val_loss: 0.9882 - val_accuracy: 0.6650\n",
            "Epoch 8/30\n",
            "25/25 [==============================] - 0s 5ms/step - loss: 0.9092 - accuracy: 0.6734 - val_loss: 0.9965 - val_accuracy: 0.6100\n",
            "Epoch 9/30\n",
            "25/25 [==============================] - 0s 5ms/step - loss: 0.8504 - accuracy: 0.7021 - val_loss: 0.9881 - val_accuracy: 0.6250\n",
            "Epoch 10/30\n",
            "25/25 [==============================] - 0s 6ms/step - loss: 0.7998 - accuracy: 0.6811 - val_loss: 1.0262 - val_accuracy: 0.6550\n",
            "Epoch 11/30\n",
            "25/25 [==============================] - 0s 5ms/step - loss: 0.8138 - accuracy: 0.7013 - val_loss: 0.9194 - val_accuracy: 0.7100\n",
            "Epoch 12/30\n",
            "25/25 [==============================] - 0s 6ms/step - loss: 0.7142 - accuracy: 0.7796 - val_loss: 0.9117 - val_accuracy: 0.6750\n",
            "Epoch 13/30\n",
            "25/25 [==============================] - 0s 5ms/step - loss: 0.6868 - accuracy: 0.7622 - val_loss: 0.8875 - val_accuracy: 0.7200\n",
            "Epoch 14/30\n",
            "25/25 [==============================] - 0s 5ms/step - loss: 0.6668 - accuracy: 0.7829 - val_loss: 0.8877 - val_accuracy: 0.6850\n",
            "Epoch 15/30\n",
            "25/25 [==============================] - 0s 6ms/step - loss: 0.6664 - accuracy: 0.7554 - val_loss: 0.9833 - val_accuracy: 0.6550\n",
            "Epoch 16/30\n",
            "25/25 [==============================] - 0s 5ms/step - loss: 0.6261 - accuracy: 0.7768 - val_loss: 0.9199 - val_accuracy: 0.6600\n"
          ],
          "name": "stdout"
        }
      ]
    },
    {
      "cell_type": "code",
      "metadata": {
        "id": "S96eH81ffS-p",
        "colab": {
          "base_uri": "https://localhost:8080/",
          "height": 295
        },
        "outputId": "0a9ee3af-4e92-4c81-da7c-ba7ce2daf792"
      },
      "source": [
        "def plot_history(history):\n",
        "    \"\"\"Plots accuracy/loss for training/validation set as a function of the epochs\n",
        "        :param history: Training history of model\n",
        "        :return:\n",
        "    \"\"\"\n",
        "\n",
        "    fig, axs = plt.subplots(2)\n",
        "\n",
        "    # create accuracy sublpot\n",
        "    axs[0].plot(history.history[\"accuracy\"], label=\"train accuracy\")\n",
        "    axs[0].plot(history.history[\"val_accuracy\"], label=\"test accuracy\")\n",
        "    axs[0].set_ylabel(\"Accuracy\")\n",
        "    axs[0].legend(loc=\"lower right\")\n",
        "    axs[0].set_title(\"Accuracy eval\")\n",
        "\n",
        "    # create error sublpot\n",
        "    axs[1].plot(history.history[\"loss\"], label=\"train error\")\n",
        "    axs[1].plot(history.history[\"val_loss\"], label=\"test error\")\n",
        "    axs[1].set_ylabel(\"Error\")\n",
        "    axs[1].set_xlabel(\"Epoch\")\n",
        "    axs[1].legend(loc=\"upper right\")\n",
        "    axs[1].set_title(\"Error eval\")\n",
        "\n",
        "    plt.show()\n",
        "\n",
        "plot_history(history)"
      ],
      "execution_count": null,
      "outputs": [
        {
          "output_type": "display_data",
          "data": {
            "image/png": "[encoded data removed]",
            "text/plain": [
              "<Figure size 432x288 with 2 Axes>"
            ]
          },
          "metadata": {
            "tags": [],
            "needs_background": "light"
          }
        }
      ]
    },
    {
      "cell_type": "markdown",
      "metadata": {
        "id": "CNayylbl9n4Q"
      },
      "source": [
        "Improvise model and check for overfitting"
      ]
    },
    {
      "cell_type": "code",
      "metadata": {
        "id": "ss1nUI184cfK",
        "colab": {
          "base_uri": "https://localhost:8080/"
        },
        "outputId": "37c44018-9ea5-4074-d888-7e2b9daa5343"
      },
      "source": [
        "from keras import models, layers, regularizers\n",
        "from keras import layers\n",
        "\n",
        "model = models.Sequential()\n",
        "model.add(layers.Dense(512, activation='relu', input_shape=(x_train.shape[1],)))\n",
        "layers.Dropout(0.2),\n",
        "\n",
        "model.add(layers.Dense(256, activation='relu'))\n",
        "layers.Dropout(0.2),\n",
        "\n",
        "model.add(layers.Dense(128, activation='relu'))\n",
        "layers.Dropout(0.2),\n",
        "\n",
        "model.add(layers.Dense(64, activation='relu'))\n",
        "layers.Dropout(0.2),\n",
        "\n",
        "model.add(layers.Dense(10, activation='softmax'))\n",
        "\n",
        "model.compile(optimizer='adam',\n",
        "              loss='sparse_categorical_crossentropy',\n",
        "              metrics=['accuracy'])\n",
        "model.summary()\n"
      ],
      "execution_count": null,
      "outputs": [
        {
          "output_type": "stream",
          "text": [
            "Model: \"sequential_1\"\n",
            "_________________________________________________________________\n",
            "Layer (type)                 Output Shape              Param #   \n",
            "=================================================================\n",
            "dense_5 (Dense)              (None, 512)               68096     \n",
            "_________________________________________________________________\n",
            "dense_6 (Dense)              (None, 256)               131328    \n",
            "_________________________________________________________________\n",
            "dense_7 (Dense)              (None, 128)               32896     \n",
            "_________________________________________________________________\n",
            "dense_8 (Dense)              (None, 64)                8256      \n",
            "_________________________________________________________________\n",
            "dense_9 (Dense)              (None, 10)                650       \n",
            "=================================================================\n",
            "Total params: 241,226\n",
            "Trainable params: 241,226\n",
            "Non-trainable params: 0\n",
            "_________________________________________________________________\n"
          ],
          "name": "stdout"
        }
      ]
    },
    {
      "cell_type": "code",
      "metadata": {
        "id": "1x814N0v6K9K",
        "colab": {
          "base_uri": "https://localhost:8080/"
        },
        "outputId": "bf5a778f-9a34-4aac-f5c6-11c99aca1ae1"
      },
      "source": [
        "history = model.fit(x_train,y_train,validation_data=(x_test, y_test),epochs=50,batch_size=128)"
      ],
      "execution_count": null,
      "outputs": [
        {
          "output_type": "stream",
          "text": [
            "Epoch 1/50\n",
            "7/7 [==============================] - 1s 53ms/step - loss: 2.2504 - accuracy: 0.1830 - val_loss: 2.0644 - val_accuracy: 0.3500\n",
            "Epoch 2/50\n",
            "7/7 [==============================] - 0s 13ms/step - loss: 2.0105 - accuracy: 0.4015 - val_loss: 1.8328 - val_accuracy: 0.3600\n",
            "Epoch 3/50\n",
            "7/7 [==============================] - 0s 16ms/step - loss: 1.7674 - accuracy: 0.3976 - val_loss: 1.6387 - val_accuracy: 0.4200\n",
            "Epoch 4/50\n",
            "7/7 [==============================] - 0s 14ms/step - loss: 1.5093 - accuracy: 0.4737 - val_loss: 1.4523 - val_accuracy: 0.4600\n",
            "Epoch 5/50\n",
            "7/7 [==============================] - 0s 12ms/step - loss: 1.3551 - accuracy: 0.5336 - val_loss: 1.3378 - val_accuracy: 0.5050\n",
            "Epoch 6/50\n",
            "7/7 [==============================] - 0s 13ms/step - loss: 1.1925 - accuracy: 0.5670 - val_loss: 1.2277 - val_accuracy: 0.5750\n",
            "Epoch 7/50\n",
            "7/7 [==============================] - 0s 13ms/step - loss: 1.1619 - accuracy: 0.5718 - val_loss: 1.2513 - val_accuracy: 0.5050\n",
            "Epoch 8/50\n",
            "7/7 [==============================] - 0s 12ms/step - loss: 1.0871 - accuracy: 0.5808 - val_loss: 1.1716 - val_accuracy: 0.5200\n",
            "Epoch 9/50\n",
            "7/7 [==============================] - 0s 13ms/step - loss: 1.0404 - accuracy: 0.5962 - val_loss: 1.1279 - val_accuracy: 0.5950\n",
            "Epoch 10/50\n",
            "7/7 [==============================] - 0s 13ms/step - loss: 0.9981 - accuracy: 0.6254 - val_loss: 1.1671 - val_accuracy: 0.5400\n",
            "Epoch 11/50\n",
            "7/7 [==============================] - 0s 12ms/step - loss: 1.0011 - accuracy: 0.6308 - val_loss: 0.9943 - val_accuracy: 0.6350\n",
            "Epoch 12/50\n",
            "7/7 [==============================] - 0s 13ms/step - loss: 0.8775 - accuracy: 0.6769 - val_loss: 1.0335 - val_accuracy: 0.6450\n",
            "Epoch 13/50\n",
            "7/7 [==============================] - 0s 14ms/step - loss: 0.9579 - accuracy: 0.6622 - val_loss: 1.0099 - val_accuracy: 0.6200\n",
            "Epoch 14/50\n",
            "7/7 [==============================] - 0s 16ms/step - loss: 0.8767 - accuracy: 0.6746 - val_loss: 0.9556 - val_accuracy: 0.6400\n",
            "Epoch 15/50\n",
            "7/7 [==============================] - 0s 15ms/step - loss: 0.7989 - accuracy: 0.7051 - val_loss: 0.9897 - val_accuracy: 0.6200\n",
            "Epoch 16/50\n",
            "7/7 [==============================] - 0s 13ms/step - loss: 0.8012 - accuracy: 0.6934 - val_loss: 0.9907 - val_accuracy: 0.6300\n",
            "Epoch 17/50\n",
            "7/7 [==============================] - 0s 13ms/step - loss: 0.7530 - accuracy: 0.7186 - val_loss: 0.9211 - val_accuracy: 0.6850\n",
            "Epoch 18/50\n",
            "7/7 [==============================] - 0s 14ms/step - loss: 0.7413 - accuracy: 0.7359 - val_loss: 0.8964 - val_accuracy: 0.6650\n",
            "Epoch 19/50\n",
            "7/7 [==============================] - 0s 14ms/step - loss: 0.7622 - accuracy: 0.7331 - val_loss: 0.9124 - val_accuracy: 0.6900\n",
            "Epoch 20/50\n",
            "7/7 [==============================] - 0s 13ms/step - loss: 0.7277 - accuracy: 0.7422 - val_loss: 0.8664 - val_accuracy: 0.6900\n",
            "Epoch 21/50\n",
            "7/7 [==============================] - 0s 13ms/step - loss: 0.6896 - accuracy: 0.7601 - val_loss: 0.9491 - val_accuracy: 0.6450\n",
            "Epoch 22/50\n",
            "7/7 [==============================] - 0s 13ms/step - loss: 0.7080 - accuracy: 0.7350 - val_loss: 1.0100 - val_accuracy: 0.6650\n",
            "Epoch 23/50\n",
            "7/7 [==============================] - 0s 34ms/step - loss: 0.7553 - accuracy: 0.7187 - val_loss: 0.9935 - val_accuracy: 0.6700\n",
            "Epoch 24/50\n",
            "7/7 [==============================] - 0s 12ms/step - loss: 0.6951 - accuracy: 0.7645 - val_loss: 0.8361 - val_accuracy: 0.7350\n",
            "Epoch 25/50\n",
            "7/7 [==============================] - 0s 12ms/step - loss: 0.6037 - accuracy: 0.7891 - val_loss: 0.8274 - val_accuracy: 0.7200\n",
            "Epoch 26/50\n",
            "7/7 [==============================] - 0s 13ms/step - loss: 0.5850 - accuracy: 0.7897 - val_loss: 0.8428 - val_accuracy: 0.7500\n",
            "Epoch 27/50\n",
            "7/7 [==============================] - 0s 12ms/step - loss: 0.5985 - accuracy: 0.7823 - val_loss: 0.8449 - val_accuracy: 0.7150\n",
            "Epoch 28/50\n",
            "7/7 [==============================] - 0s 12ms/step - loss: 0.5689 - accuracy: 0.8001 - val_loss: 0.8349 - val_accuracy: 0.7000\n",
            "Epoch 29/50\n",
            "7/7 [==============================] - 0s 13ms/step - loss: 0.5886 - accuracy: 0.7912 - val_loss: 0.8547 - val_accuracy: 0.7050\n",
            "Epoch 30/50\n",
            "7/7 [==============================] - 0s 12ms/step - loss: 0.5538 - accuracy: 0.8272 - val_loss: 0.7945 - val_accuracy: 0.7400\n",
            "Epoch 31/50\n",
            "7/7 [==============================] - 0s 13ms/step - loss: 0.5094 - accuracy: 0.8328 - val_loss: 0.8051 - val_accuracy: 0.7450\n",
            "Epoch 32/50\n",
            "7/7 [==============================] - 0s 12ms/step - loss: 0.5419 - accuracy: 0.8253 - val_loss: 0.7679 - val_accuracy: 0.7700\n",
            "Epoch 33/50\n",
            "7/7 [==============================] - 0s 12ms/step - loss: 0.4652 - accuracy: 0.8491 - val_loss: 0.7901 - val_accuracy: 0.7400\n",
            "Epoch 34/50\n",
            "7/7 [==============================] - 0s 12ms/step - loss: 0.5417 - accuracy: 0.7988 - val_loss: 0.8267 - val_accuracy: 0.7400\n",
            "Epoch 35/50\n",
            "7/7 [==============================] - 0s 15ms/step - loss: 0.5288 - accuracy: 0.8236 - val_loss: 0.8895 - val_accuracy: 0.7400\n",
            "Epoch 36/50\n",
            "7/7 [==============================] - 0s 14ms/step - loss: 0.5595 - accuracy: 0.8127 - val_loss: 0.8517 - val_accuracy: 0.7450\n",
            "Epoch 37/50\n",
            "7/7 [==============================] - 0s 12ms/step - loss: 0.5318 - accuracy: 0.7836 - val_loss: 0.8169 - val_accuracy: 0.7400\n",
            "Epoch 38/50\n",
            "7/7 [==============================] - 0s 12ms/step - loss: 0.5359 - accuracy: 0.8133 - val_loss: 0.8065 - val_accuracy: 0.7450\n",
            "Epoch 39/50\n",
            "7/7 [==============================] - 0s 12ms/step - loss: 0.4648 - accuracy: 0.8451 - val_loss: 0.7387 - val_accuracy: 0.7750\n",
            "Epoch 40/50\n",
            "7/7 [==============================] - 0s 13ms/step - loss: 0.4124 - accuracy: 0.8638 - val_loss: 0.7957 - val_accuracy: 0.7550\n",
            "Epoch 41/50\n",
            "7/7 [==============================] - 0s 13ms/step - loss: 0.4335 - accuracy: 0.8523 - val_loss: 0.8885 - val_accuracy: 0.7250\n",
            "Epoch 42/50\n",
            "7/7 [==============================] - 0s 13ms/step - loss: 0.4543 - accuracy: 0.8402 - val_loss: 0.8602 - val_accuracy: 0.7250\n",
            "Epoch 43/50\n",
            "7/7 [==============================] - 0s 12ms/step - loss: 0.4823 - accuracy: 0.8397 - val_loss: 0.8754 - val_accuracy: 0.7100\n",
            "Epoch 44/50\n",
            "7/7 [==============================] - 0s 14ms/step - loss: 0.4601 - accuracy: 0.8495 - val_loss: 0.8231 - val_accuracy: 0.7300\n",
            "Epoch 45/50\n",
            "7/7 [==============================] - 0s 12ms/step - loss: 0.5171 - accuracy: 0.8162 - val_loss: 0.7428 - val_accuracy: 0.7800\n",
            "Epoch 46/50\n",
            "7/7 [==============================] - 0s 13ms/step - loss: 0.4754 - accuracy: 0.8162 - val_loss: 0.8197 - val_accuracy: 0.7450\n",
            "Epoch 47/50\n",
            "7/7 [==============================] - 0s 13ms/step - loss: 0.4388 - accuracy: 0.8315 - val_loss: 0.8593 - val_accuracy: 0.7450\n",
            "Epoch 48/50\n",
            "7/7 [==============================] - 0s 13ms/step - loss: 0.4078 - accuracy: 0.8568 - val_loss: 0.7763 - val_accuracy: 0.7650\n",
            "Epoch 49/50\n",
            "7/7 [==============================] - 0s 13ms/step - loss: 0.3554 - accuracy: 0.8874 - val_loss: 0.7367 - val_accuracy: 0.7700\n",
            "Epoch 50/50\n",
            "7/7 [==============================] - 0s 12ms/step - loss: 0.3358 - accuracy: 0.8810 - val_loss: 0.7338 - val_accuracy: 0.7900\n"
          ],
          "name": "stdout"
        }
      ]
    },
    {
      "cell_type": "code",
      "metadata": {
        "id": "cZrRx5eG6Rry",
        "colab": {
          "base_uri": "https://localhost:8080/",
          "height": 295
        },
        "outputId": "2fea0ddf-8e15-45eb-a08f-9f51961e172a"
      },
      "source": [
        "def plot_history(history):\n",
        "    \"\"\"Plots accuracy/loss for training/validation set as a function of the epochs\n",
        "        :param history: Training history of model\n",
        "        :return:\n",
        "    \"\"\"\n",
        "\n",
        "    fig, axs = plt.subplots(2)\n",
        "\n",
        "    # create accuracy sublpot\n",
        "    axs[0].plot(history.history[\"accuracy\"], label=\"train accuracy\")\n",
        "    axs[0].plot(history.history[\"val_accuracy\"], label=\"test accuracy\")\n",
        "    axs[0].set_ylabel(\"Accuracy\")\n",
        "    axs[0].legend(loc=\"lower right\")\n",
        "    axs[0].set_title(\"Accuracy eval\")\n",
        "\n",
        "    # create error sublpot\n",
        "    axs[1].plot(history.history[\"loss\"], label=\"train error\")\n",
        "    axs[1].plot(history.history[\"val_loss\"], label=\"test error\")\n",
        "    axs[1].set_ylabel(\"Error\")\n",
        "    axs[1].set_xlabel(\"Epoch\")\n",
        "    axs[1].legend(loc=\"upper right\")\n",
        "    axs[1].set_title(\"Error eval\")\n",
        "\n",
        "    plt.show()\n",
        "\n",
        "plot_history(history)"
      ],
      "execution_count": null,
      "outputs": [
        {
          "output_type": "display_data",
          "data": {
            "image/png": "[encoded data removed]",
            "text/plain": [
              "<Figure size 432x288 with 2 Axes>"
            ]
          },
          "metadata": {
            "tags": [],
            "needs_background": "light"
          }
        }
      ]
    }
  ]
}