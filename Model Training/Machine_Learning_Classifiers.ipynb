{
  "nbformat": 4,
  "nbformat_minor": 0,
  "metadata": {
    "colab": {
      "name": "Machine Learning Classifiers.ipynb",
      "provenance": [],
      "collapsed_sections": []
    },
    "kernelspec": {
      "name": "python3",
      "display_name": "Python 3"
    }
  },
  "cells": [
    {
      "cell_type": "markdown",
      "metadata": {
        "id": "ZmxXPrqCmYfc"
      },
      "source": [
        "1. Feature extraction for 30sc of song performed\n",
        "2. Using this data, ML algos are implemented - kNN and Random Forest\n",
        "\n"
      ]
    },
    {
      "cell_type": "code",
      "metadata": {
        "colab": {
          "base_uri": "https://localhost:8080/"
        },
        "id": "H25-lI0MmX4W",
        "outputId": "edd4d7e1-b24e-445d-b37e-76fa7131dc01"
      },
      "source": [
        "from google.colab import drive\n",
        "drive.mount('/content/drive')"
      ],
      "execution_count": null,
      "outputs": [
        {
          "output_type": "stream",
          "text": [
            "Drive already mounted at /content/drive; to attempt to forcibly remount, call drive.mount(\"/content/drive\", force_remount=True).\n"
          ],
          "name": "stdout"
        }
      ]
    },
    {
      "cell_type": "code",
      "metadata": {
        "id": "PHsvd22Jmac0"
      },
      "source": [
        "import pandas as pd\n",
        "import numpy as np\n",
        "import matplotlib.pyplot as plt\n",
        "import os\n",
        "import seaborn as sns\n",
        "%matplotlib inline\n",
        "import csv\n",
        "\n",
        "# sklearn\n",
        "from sklearn.model_selection import train_test_split\n",
        "from sklearn.preprocessing import LabelEncoder, StandardScaler\n",
        "from sklearn.neighbors import KNeighborsClassifier\n",
        "from sklearn.ensemble import RandomForestClassifier\n",
        "from sklearn.metrics import accuracy_score, confusion_matrix, f1_score, plot_confusion_matrix\n",
        "from sklearn import preprocessing"
      ],
      "execution_count": null,
      "outputs": []
    },
    {
      "cell_type": "code",
      "metadata": {
        "id": "g2JMFElXmqh9"
      },
      "source": [
        "song_dir =os.listdir('/content/drive/My Drive/RP/genres')"
      ],
      "execution_count": null,
      "outputs": []
    },
    {
      "cell_type": "code",
      "metadata": {
        "colab": {
          "base_uri": "https://localhost:8080/",
          "height": 246
        },
        "id": "Zc1aOZhznA-o",
        "outputId": "a713b31c-df69-4ca7-948f-902703705da7"
      },
      "source": [
        "dataset_path ='/content/drive/My Drive/RP/Data.csv'\n",
        "\n",
        "master_data = pd.read_csv(dataset_path) \n",
        "master_data.head()\n",
        "\n"
      ],
      "execution_count": null,
      "outputs": [
        {
          "output_type": "execute_result",
          "data": {
            "text/html": [
              "<div>\n",
              "<style scoped>\n",
              "    .dataframe tbody tr th:only-of-type {\n",
              "        vertical-align: middle;\n",
              "    }\n",
              "\n",
              "    .dataframe tbody tr th {\n",
              "        vertical-align: top;\n",
              "    }\n",
              "\n",
              "    .dataframe thead th {\n",
              "        text-align: right;\n",
              "    }\n",
              "</style>\n",
              "<table border=\"1\" class=\"dataframe\">\n",
              "  <thead>\n",
              "    <tr style=\"text-align: right;\">\n",
              "      <th></th>\n",
              "      <th>centroid_max</th>\n",
              "      <th>centroid_min</th>\n",
              "      <th>centroid_mean</th>\n",
              "      <th>centroid_std</th>\n",
              "      <th>centroid_kurtosis</th>\n",
              "      <th>centroid_skew</th>\n",
              "      <th>rolloff_max</th>\n",
              "      <th>rolloff_min</th>\n",
              "      <th>rolloff_mean</th>\n",
              "      <th>rolloff_std</th>\n",
              "      <th>rolloff_kurtosis</th>\n",
              "      <th>rolloff_skew</th>\n",
              "      <th>flux_max</th>\n",
              "      <th>flux_min</th>\n",
              "      <th>flux_mean</th>\n",
              "      <th>flux_std</th>\n",
              "      <th>flux_kurtosis</th>\n",
              "      <th>flux_skew</th>\n",
              "      <th>rmse_max</th>\n",
              "      <th>rmse_min</th>\n",
              "      <th>rmse_mean</th>\n",
              "      <th>rmse_std</th>\n",
              "      <th>rmse_kurtosis</th>\n",
              "      <th>rmse_skew</th>\n",
              "      <th>zcr_max</th>\n",
              "      <th>zcr_min</th>\n",
              "      <th>zcr_mean</th>\n",
              "      <th>zcr_std</th>\n",
              "      <th>zcr_kurtosis</th>\n",
              "      <th>zcr_skew</th>\n",
              "      <th>contrast_max</th>\n",
              "      <th>contrast_min</th>\n",
              "      <th>contrast_mean</th>\n",
              "      <th>contrast_std</th>\n",
              "      <th>contrast_kurtosis</th>\n",
              "      <th>contrast_skew</th>\n",
              "      <th>bandwidth_max</th>\n",
              "      <th>bandwidth_min</th>\n",
              "      <th>bandwidth_mean</th>\n",
              "      <th>bandwidth_std</th>\n",
              "      <th>...</th>\n",
              "      <th>mfcc_6_std</th>\n",
              "      <th>mfcc_6_kurtosis</th>\n",
              "      <th>mfcc_6_skew</th>\n",
              "      <th>mfcc_7_max</th>\n",
              "      <th>mfcc_7_min</th>\n",
              "      <th>mfcc_7_mean</th>\n",
              "      <th>mfcc_7_std</th>\n",
              "      <th>mfcc_7_kurtosis</th>\n",
              "      <th>mfcc_7_skew</th>\n",
              "      <th>mfcc_8_max</th>\n",
              "      <th>mfcc_8_min</th>\n",
              "      <th>mfcc_8_mean</th>\n",
              "      <th>mfcc_8_std</th>\n",
              "      <th>mfcc_8_kurtosis</th>\n",
              "      <th>mfcc_8_skew</th>\n",
              "      <th>mfcc_9_max</th>\n",
              "      <th>mfcc_9_min</th>\n",
              "      <th>mfcc_9_mean</th>\n",
              "      <th>mfcc_9_std</th>\n",
              "      <th>mfcc_9_kurtosis</th>\n",
              "      <th>mfcc_9_skew</th>\n",
              "      <th>mfcc_10_max</th>\n",
              "      <th>mfcc_10_min</th>\n",
              "      <th>mfcc_10_mean</th>\n",
              "      <th>mfcc_10_std</th>\n",
              "      <th>mfcc_10_kurtosis</th>\n",
              "      <th>mfcc_10_skew</th>\n",
              "      <th>mfcc_11_max</th>\n",
              "      <th>mfcc_11_min</th>\n",
              "      <th>mfcc_11_mean</th>\n",
              "      <th>mfcc_11_std</th>\n",
              "      <th>mfcc_11_kurtosis</th>\n",
              "      <th>mfcc_11_skew</th>\n",
              "      <th>mfcc_12_max</th>\n",
              "      <th>mfcc_12_min</th>\n",
              "      <th>mfcc_12_mean</th>\n",
              "      <th>mfcc_12_std</th>\n",
              "      <th>mfcc_12_kurtosis</th>\n",
              "      <th>mfcc_12_skew</th>\n",
              "      <th>genre</th>\n",
              "    </tr>\n",
              "  </thead>\n",
              "  <tbody>\n",
              "    <tr>\n",
              "      <th>0</th>\n",
              "      <td>4464.156642</td>\n",
              "      <td>849.658285</td>\n",
              "      <td>1835.494603</td>\n",
              "      <td>585.961468</td>\n",
              "      <td>1.536058</td>\n",
              "      <td>1.049734</td>\n",
              "      <td>7084.423828</td>\n",
              "      <td>1152.026367</td>\n",
              "      <td>3580.945013</td>\n",
              "      <td>1253.915665</td>\n",
              "      <td>-0.589893</td>\n",
              "      <td>0.327106</td>\n",
              "      <td>12.954988</td>\n",
              "      <td>0.0</td>\n",
              "      <td>1.644384</td>\n",
              "      <td>1.958142</td>\n",
              "      <td>6.068005</td>\n",
              "      <td>2.287192</td>\n",
              "      <td>0.288393</td>\n",
              "      <td>0.007671</td>\n",
              "      <td>0.091563</td>\n",
              "      <td>0.047996</td>\n",
              "      <td>0.646815</td>\n",
              "      <td>0.849254</td>\n",
              "      <td>0.366211</td>\n",
              "      <td>0.039551</td>\n",
              "      <td>0.101500</td>\n",
              "      <td>0.044199</td>\n",
              "      <td>5.710074</td>\n",
              "      <td>1.939640</td>\n",
              "      <td>54.526649</td>\n",
              "      <td>6.113804</td>\n",
              "      <td>21.467739</td>\n",
              "      <td>7.938795</td>\n",
              "      <td>1.252378</td>\n",
              "      <td>1.244233</td>\n",
              "      <td>2770.695509</td>\n",
              "      <td>1081.656537</td>\n",
              "      <td>1748.362448</td>\n",
              "      <td>297.432368</td>\n",
              "      <td>...</td>\n",
              "      <td>9.658838</td>\n",
              "      <td>0.572860</td>\n",
              "      <td>-0.583507</td>\n",
              "      <td>33.730677</td>\n",
              "      <td>-27.954872</td>\n",
              "      <td>0.503117</td>\n",
              "      <td>11.168602</td>\n",
              "      <td>-0.228461</td>\n",
              "      <td>0.516213</td>\n",
              "      <td>24.094106</td>\n",
              "      <td>-44.258590</td>\n",
              "      <td>-11.805831</td>\n",
              "      <td>11.400602</td>\n",
              "      <td>-0.009328</td>\n",
              "      <td>-0.184066</td>\n",
              "      <td>30.684135</td>\n",
              "      <td>-24.465716</td>\n",
              "      <td>1.206804</td>\n",
              "      <td>9.987699</td>\n",
              "      <td>-0.303852</td>\n",
              "      <td>0.183510</td>\n",
              "      <td>24.979963</td>\n",
              "      <td>-41.409291</td>\n",
              "      <td>-13.083820</td>\n",
              "      <td>8.962364</td>\n",
              "      <td>1.803803</td>\n",
              "      <td>0.596276</td>\n",
              "      <td>31.721020</td>\n",
              "      <td>-30.323239</td>\n",
              "      <td>-2.806385</td>\n",
              "      <td>9.298361</td>\n",
              "      <td>0.430402</td>\n",
              "      <td>0.456069</td>\n",
              "      <td>24.070390</td>\n",
              "      <td>-36.607308</td>\n",
              "      <td>-6.934122</td>\n",
              "      <td>9.466887</td>\n",
              "      <td>0.057029</td>\n",
              "      <td>0.132279</td>\n",
              "      <td>blues</td>\n",
              "    </tr>\n",
              "    <tr>\n",
              "      <th>1</th>\n",
              "      <td>3236.442116</td>\n",
              "      <td>318.713500</td>\n",
              "      <td>1070.119953</td>\n",
              "      <td>429.532791</td>\n",
              "      <td>1.803354</td>\n",
              "      <td>1.001449</td>\n",
              "      <td>7611.987305</td>\n",
              "      <td>387.597656</td>\n",
              "      <td>2185.028454</td>\n",
              "      <td>1222.395194</td>\n",
              "      <td>1.608416</td>\n",
              "      <td>1.245734</td>\n",
              "      <td>14.619909</td>\n",
              "      <td>0.0</td>\n",
              "      <td>1.247379</td>\n",
              "      <td>1.750351</td>\n",
              "      <td>12.675193</td>\n",
              "      <td>3.203631</td>\n",
              "      <td>0.383715</td>\n",
              "      <td>0.009310</td>\n",
              "      <td>0.141191</td>\n",
              "      <td>0.079617</td>\n",
              "      <td>-0.381391</td>\n",
              "      <td>0.525917</td>\n",
              "      <td>0.145020</td>\n",
              "      <td>0.006348</td>\n",
              "      <td>0.033309</td>\n",
              "      <td>0.020569</td>\n",
              "      <td>2.017897</td>\n",
              "      <td>1.072661</td>\n",
              "      <td>53.952526</td>\n",
              "      <td>5.438508</td>\n",
              "      <td>21.428764</td>\n",
              "      <td>7.962859</td>\n",
              "      <td>-0.023194</td>\n",
              "      <td>0.871523</td>\n",
              "      <td>3174.579278</td>\n",
              "      <td>671.098012</td>\n",
              "      <td>1596.333948</td>\n",
              "      <td>408.119547</td>\n",
              "      <td>...</td>\n",
              "      <td>12.491243</td>\n",
              "      <td>0.366743</td>\n",
              "      <td>-0.887007</td>\n",
              "      <td>30.783287</td>\n",
              "      <td>-18.335242</td>\n",
              "      <td>9.297965</td>\n",
              "      <td>9.008867</td>\n",
              "      <td>-0.251998</td>\n",
              "      <td>-0.328337</td>\n",
              "      <td>25.273713</td>\n",
              "      <td>-29.548192</td>\n",
              "      <td>-0.757741</td>\n",
              "      <td>9.601001</td>\n",
              "      <td>-0.467246</td>\n",
              "      <td>-0.325538</td>\n",
              "      <td>32.761795</td>\n",
              "      <td>-29.347543</td>\n",
              "      <td>8.149012</td>\n",
              "      <td>8.438341</td>\n",
              "      <td>1.682580</td>\n",
              "      <td>-0.656629</td>\n",
              "      <td>25.346260</td>\n",
              "      <td>-45.598267</td>\n",
              "      <td>-3.196314</td>\n",
              "      <td>10.502337</td>\n",
              "      <td>0.191071</td>\n",
              "      <td>-0.346805</td>\n",
              "      <td>40.363245</td>\n",
              "      <td>-14.122019</td>\n",
              "      <td>6.087676</td>\n",
              "      <td>6.942457</td>\n",
              "      <td>1.569782</td>\n",
              "      <td>0.613722</td>\n",
              "      <td>20.651334</td>\n",
              "      <td>-32.890564</td>\n",
              "      <td>-2.476420</td>\n",
              "      <td>7.538023</td>\n",
              "      <td>0.499351</td>\n",
              "      <td>-0.163374</td>\n",
              "      <td>blues</td>\n",
              "    </tr>\n",
              "    <tr>\n",
              "      <th>2</th>\n",
              "      <td>5444.293577</td>\n",
              "      <td>421.091729</td>\n",
              "      <td>1529.835316</td>\n",
              "      <td>613.175361</td>\n",
              "      <td>4.028086</td>\n",
              "      <td>1.339397</td>\n",
              "      <td>8085.717773</td>\n",
              "      <td>333.764648</td>\n",
              "      <td>3548.820207</td>\n",
              "      <td>1725.249654</td>\n",
              "      <td>-0.647548</td>\n",
              "      <td>0.447830</td>\n",
              "      <td>17.791127</td>\n",
              "      <td>0.0</td>\n",
              "      <td>1.444008</td>\n",
              "      <td>1.996799</td>\n",
              "      <td>12.743417</td>\n",
              "      <td>3.142622</td>\n",
              "      <td>0.271687</td>\n",
              "      <td>0.004361</td>\n",
              "      <td>0.095918</td>\n",
              "      <td>0.048718</td>\n",
              "      <td>-0.058206</td>\n",
              "      <td>0.299131</td>\n",
              "      <td>0.323730</td>\n",
              "      <td>0.006348</td>\n",
              "      <td>0.056044</td>\n",
              "      <td>0.038059</td>\n",
              "      <td>9.193445</td>\n",
              "      <td>2.362931</td>\n",
              "      <td>48.775996</td>\n",
              "      <td>5.534489</td>\n",
              "      <td>20.676334</td>\n",
              "      <td>8.239387</td>\n",
              "      <td>1.531287</td>\n",
              "      <td>1.428818</td>\n",
              "      <td>3402.554398</td>\n",
              "      <td>1046.389224</td>\n",
              "      <td>2038.617579</td>\n",
              "      <td>462.379133</td>\n",
              "      <td>...</td>\n",
              "      <td>14.177411</td>\n",
              "      <td>-0.036739</td>\n",
              "      <td>-0.257875</td>\n",
              "      <td>57.322294</td>\n",
              "      <td>-14.032229</td>\n",
              "      <td>23.358672</td>\n",
              "      <td>11.936523</td>\n",
              "      <td>-0.051591</td>\n",
              "      <td>0.107448</td>\n",
              "      <td>21.894634</td>\n",
              "      <td>-52.369707</td>\n",
              "      <td>-10.103616</td>\n",
              "      <td>12.894725</td>\n",
              "      <td>-0.527935</td>\n",
              "      <td>0.009104</td>\n",
              "      <td>40.404282</td>\n",
              "      <td>-29.546380</td>\n",
              "      <td>11.903744</td>\n",
              "      <td>10.219957</td>\n",
              "      <td>0.305566</td>\n",
              "      <td>-0.183417</td>\n",
              "      <td>24.502062</td>\n",
              "      <td>-37.257188</td>\n",
              "      <td>-5.560387</td>\n",
              "      <td>10.262492</td>\n",
              "      <td>0.172146</td>\n",
              "      <td>0.013335</td>\n",
              "      <td>37.242587</td>\n",
              "      <td>-25.349421</td>\n",
              "      <td>5.376802</td>\n",
              "      <td>9.812361</td>\n",
              "      <td>0.054883</td>\n",
              "      <td>0.154526</td>\n",
              "      <td>19.230036</td>\n",
              "      <td>-27.189579</td>\n",
              "      <td>-2.239119</td>\n",
              "      <td>8.055376</td>\n",
              "      <td>-0.182963</td>\n",
              "      <td>0.004210</td>\n",
              "      <td>blues</td>\n",
              "    </tr>\n",
              "    <tr>\n",
              "      <th>3</th>\n",
              "      <td>4499.417241</td>\n",
              "      <td>415.633570</td>\n",
              "      <td>1459.078483</td>\n",
              "      <td>661.885670</td>\n",
              "      <td>0.842177</td>\n",
              "      <td>0.967646</td>\n",
              "      <td>6761.425781</td>\n",
              "      <td>441.430664</td>\n",
              "      <td>2795.616429</td>\n",
              "      <td>1273.841376</td>\n",
              "      <td>0.133467</td>\n",
              "      <td>0.905289</td>\n",
              "      <td>16.464624</td>\n",
              "      <td>0.0</td>\n",
              "      <td>1.638620</td>\n",
              "      <td>2.383850</td>\n",
              "      <td>7.557786</td>\n",
              "      <td>2.620426</td>\n",
              "      <td>0.544812</td>\n",
              "      <td>0.002851</td>\n",
              "      <td>0.141796</td>\n",
              "      <td>0.093824</td>\n",
              "      <td>0.951191</td>\n",
              "      <td>0.969008</td>\n",
              "      <td>0.375488</td>\n",
              "      <td>0.017090</td>\n",
              "      <td>0.073028</td>\n",
              "      <td>0.043699</td>\n",
              "      <td>4.160115</td>\n",
              "      <td>1.379952</td>\n",
              "      <td>52.049604</td>\n",
              "      <td>5.271643</td>\n",
              "      <td>23.434488</td>\n",
              "      <td>7.035455</td>\n",
              "      <td>1.509991</td>\n",
              "      <td>0.936985</td>\n",
              "      <td>2682.510435</td>\n",
              "      <td>763.896690</td>\n",
              "      <td>1388.913312</td>\n",
              "      <td>430.296227</td>\n",
              "      <td>...</td>\n",
              "      <td>12.339140</td>\n",
              "      <td>0.584446</td>\n",
              "      <td>-0.145225</td>\n",
              "      <td>30.489766</td>\n",
              "      <td>-31.436108</td>\n",
              "      <td>0.270091</td>\n",
              "      <td>10.148165</td>\n",
              "      <td>-0.064685</td>\n",
              "      <td>0.240794</td>\n",
              "      <td>22.762749</td>\n",
              "      <td>-50.762742</td>\n",
              "      <td>-6.489760</td>\n",
              "      <td>11.446632</td>\n",
              "      <td>0.680415</td>\n",
              "      <td>-0.586795</td>\n",
              "      <td>33.897971</td>\n",
              "      <td>-54.016615</td>\n",
              "      <td>-5.517093</td>\n",
              "      <td>12.392673</td>\n",
              "      <td>1.727890</td>\n",
              "      <td>-0.460252</td>\n",
              "      <td>24.801148</td>\n",
              "      <td>-46.061145</td>\n",
              "      <td>-7.840328</td>\n",
              "      <td>9.354566</td>\n",
              "      <td>1.244315</td>\n",
              "      <td>-0.457440</td>\n",
              "      <td>31.054307</td>\n",
              "      <td>-33.639619</td>\n",
              "      <td>-3.125678</td>\n",
              "      <td>8.015257</td>\n",
              "      <td>0.758695</td>\n",
              "      <td>0.205187</td>\n",
              "      <td>31.352491</td>\n",
              "      <td>-42.875398</td>\n",
              "      <td>-6.593118</td>\n",
              "      <td>8.897778</td>\n",
              "      <td>3.038824</td>\n",
              "      <td>-0.381277</td>\n",
              "      <td>blues</td>\n",
              "    </tr>\n",
              "    <tr>\n",
              "      <th>4</th>\n",
              "      <td>5399.377714</td>\n",
              "      <td>645.881662</td>\n",
              "      <td>1831.942368</td>\n",
              "      <td>1015.509231</td>\n",
              "      <td>0.887410</td>\n",
              "      <td>1.272556</td>\n",
              "      <td>7698.120117</td>\n",
              "      <td>775.195312</td>\n",
              "      <td>3480.937285</td>\n",
              "      <td>1810.117381</td>\n",
              "      <td>-1.087560</td>\n",
              "      <td>0.435534</td>\n",
              "      <td>15.215705</td>\n",
              "      <td>0.0</td>\n",
              "      <td>1.517771</td>\n",
              "      <td>2.252673</td>\n",
              "      <td>9.583442</td>\n",
              "      <td>2.935710</td>\n",
              "      <td>0.459728</td>\n",
              "      <td>0.004380</td>\n",
              "      <td>0.103468</td>\n",
              "      <td>0.063109</td>\n",
              "      <td>5.219640</td>\n",
              "      <td>1.869818</td>\n",
              "      <td>0.481934</td>\n",
              "      <td>0.016113</td>\n",
              "      <td>0.094040</td>\n",
              "      <td>0.078976</td>\n",
              "      <td>6.398650</td>\n",
              "      <td>2.423608</td>\n",
              "      <td>55.906395</td>\n",
              "      <td>6.173007</td>\n",
              "      <td>22.547453</td>\n",
              "      <td>8.180264</td>\n",
              "      <td>1.760446</td>\n",
              "      <td>1.287359</td>\n",
              "      <td>2827.733353</td>\n",
              "      <td>940.593017</td>\n",
              "      <td>1729.483241</td>\n",
              "      <td>449.475456</td>\n",
              "      <td>...</td>\n",
              "      <td>13.033185</td>\n",
              "      <td>1.286688</td>\n",
              "      <td>-0.749924</td>\n",
              "      <td>43.949002</td>\n",
              "      <td>-23.334754</td>\n",
              "      <td>3.180597</td>\n",
              "      <td>11.566774</td>\n",
              "      <td>0.013199</td>\n",
              "      <td>0.355449</td>\n",
              "      <td>27.564396</td>\n",
              "      <td>-50.194057</td>\n",
              "      <td>-8.583484</td>\n",
              "      <td>13.128410</td>\n",
              "      <td>0.428007</td>\n",
              "      <td>-0.576735</td>\n",
              "      <td>36.070025</td>\n",
              "      <td>-23.615067</td>\n",
              "      <td>-0.936488</td>\n",
              "      <td>10.009262</td>\n",
              "      <td>0.072946</td>\n",
              "      <td>0.552714</td>\n",
              "      <td>8.917015</td>\n",
              "      <td>-52.496094</td>\n",
              "      <td>-11.776273</td>\n",
              "      <td>8.751357</td>\n",
              "      <td>1.705669</td>\n",
              "      <td>-0.900154</td>\n",
              "      <td>34.333175</td>\n",
              "      <td>-36.482569</td>\n",
              "      <td>-2.420615</td>\n",
              "      <td>8.859221</td>\n",
              "      <td>0.858618</td>\n",
              "      <td>0.092247</td>\n",
              "      <td>21.219854</td>\n",
              "      <td>-32.542820</td>\n",
              "      <td>-9.339365</td>\n",
              "      <td>8.962608</td>\n",
              "      <td>0.314011</td>\n",
              "      <td>0.551345</td>\n",
              "      <td>blues</td>\n",
              "    </tr>\n",
              "  </tbody>\n",
              "</table>\n",
              "<p>5 rows × 133 columns</p>\n",
              "</div>"
            ],
            "text/plain": [
              "   centroid_max  centroid_min  ...  mfcc_12_skew  genre\n",
              "0   4464.156642    849.658285  ...      0.132279  blues\n",
              "1   3236.442116    318.713500  ...     -0.163374  blues\n",
              "2   5444.293577    421.091729  ...      0.004210  blues\n",
              "3   4499.417241    415.633570  ...     -0.381277  blues\n",
              "4   5399.377714    645.881662  ...      0.551345  blues\n",
              "\n",
              "[5 rows x 133 columns]"
            ]
          },
          "metadata": {
            "tags": []
          },
          "execution_count": 24
        }
      ]
    },
    {
      "cell_type": "code",
      "metadata": {
        "colab": {
          "base_uri": "https://localhost:8080/"
        },
        "id": "36fHAQ4EjiNc",
        "outputId": "5139acb5-ce07-4159-a65c-4c8fa7582aaf"
      },
      "source": [
        "master_data.shape"
      ],
      "execution_count": null,
      "outputs": [
        {
          "output_type": "execute_result",
          "data": {
            "text/plain": [
              "(1000, 133)"
            ]
          },
          "metadata": {
            "tags": []
          },
          "execution_count": 25
        }
      ]
    },
    {
      "cell_type": "code",
      "metadata": {
        "id": "U4-L9iN_qRFs"
      },
      "source": [
        "\n",
        "y = master_data['genre']\n",
        "X = master_data.drop(columns=['genre'])"
      ],
      "execution_count": null,
      "outputs": []
    },
    {
      "cell_type": "code",
      "metadata": {
        "id": "7INBvnhtRs2j"
      },
      "source": [
        "#scaling data\n",
        "\n",
        "min_max_scaler = preprocessing.MinMaxScaler()\n",
        "x_scaled = pd.DataFrame(min_max_scaler.fit_transform(X))"
      ],
      "execution_count": null,
      "outputs": []
    },
    {
      "cell_type": "code",
      "metadata": {
        "id": "rLhMdtCLRuzw"
      },
      "source": [
        "#x_scaled.head()"
      ],
      "execution_count": null,
      "outputs": []
    },
    {
      "cell_type": "code",
      "metadata": {
        "id": "jdxgROsLkdrm"
      },
      "source": [
        "#encode the genres:\n",
        "encoder = LabelEncoder()\n",
        "y_enc = encoder.fit_transform(y)"
      ],
      "execution_count": null,
      "outputs": []
    },
    {
      "cell_type": "code",
      "metadata": {
        "id": "ETYrt7IS-vLj"
      },
      "source": [
        "#y_enc\n",
        "#genre_list.head()"
      ],
      "execution_count": null,
      "outputs": []
    },
    {
      "cell_type": "code",
      "metadata": {
        "id": "m5svzLb1q6D3"
      },
      "source": [
        "x_train, x_test, y_train, y_test = train_test_split(x_scaled, y_enc, test_size=0.25)"
      ],
      "execution_count": null,
      "outputs": []
    },
    {
      "cell_type": "code",
      "metadata": {
        "colab": {
          "base_uri": "https://localhost:8080/"
        },
        "id": "hA-LbIsvrBo2",
        "outputId": "246d82af-eb31-44df-e035-1934ec13787f"
      },
      "source": [
        "len(y_train)"
      ],
      "execution_count": null,
      "outputs": [
        {
          "output_type": "execute_result",
          "data": {
            "text/plain": [
              "750"
            ]
          },
          "metadata": {
            "tags": []
          },
          "execution_count": 32
        }
      ]
    },
    {
      "cell_type": "code",
      "metadata": {
        "id": "YAqE_brSrCJ-",
        "colab": {
          "base_uri": "https://localhost:8080/"
        },
        "outputId": "8f6ad0b7-52c3-4d2b-bdfe-ba69c406c344"
      },
      "source": [
        "len(y_test)"
      ],
      "execution_count": null,
      "outputs": [
        {
          "output_type": "execute_result",
          "data": {
            "text/plain": [
              "250"
            ]
          },
          "metadata": {
            "tags": []
          },
          "execution_count": 33
        }
      ]
    },
    {
      "cell_type": "code",
      "metadata": {
        "id": "oKSN-Ae_rKDR"
      },
      "source": [
        "def checkmodel(model, title = \"Default\"):\n",
        "  model.fit(x_train, y_train)\n",
        "  pred = model.predict(x_test)  # unlabeled observations , returns predicted labels y\n",
        "  pred1 = model.predict(x_train)\n",
        "  #print(confusion_matrix(y_test, pred)) #truth vs prediction\n",
        "  print('Test Set Accuracy =  {0:.2f}'.format(accuracy_score(y_test, pred)))\n",
        "  print('Train Set Accuracy =  {0:.2f}'.format(accuracy_score(y_train, pred1)))\n",
        "  print('Test Set F-score =  {0:.2f}'.format(f1_score(y_test, pred, average='macro')))\n",
        "  # Confusion Matrix\n",
        "  confmatrix = confusion_matrix(y_test, pred) \n",
        "  plt.figure(figsize = (10, 5))\n",
        "  sns.heatmap(confmatrix, cmap=\"Blues\", annot=True, \n",
        "            xticklabels = [\"blues\", \"classical\", \"country\", \"disco\", \"hiphop\", \"jazz\", \"metal\", \"pop\", \"reggae\", \"rock\"],\n",
        "           yticklabels=[\"blues\", \"classical\", \"country\", \"disco\", \"hiphop\", \"jazz\", \"metal\", \"pop\", \"reggae\", \"rock\"]);\n",
        "  plt.ylabel('truth')\n",
        "  plt.xlabel('predicted')\n",
        "  \n"
      ],
      "execution_count": null,
      "outputs": []
    },
    {
      "cell_type": "code",
      "metadata": {
        "colab": {
          "base_uri": "https://localhost:8080/",
          "height": 387
        },
        "id": "X80lnV9CrLNW",
        "outputId": "fe462fe8-fd02-4f89-9b6a-7299aa38034a"
      },
      "source": [
        "# KNN\n",
        "knn = KNeighborsClassifier(n_neighbors=7)\n",
        "checkmodel(knn, \"KNN\")\n"
      ],
      "execution_count": null,
      "outputs": [
        {
          "output_type": "stream",
          "text": [
            "Test Set Accuracy =  0.71\n",
            "Train Set Accuracy =  0.79\n",
            "Test Set F-score =  0.70\n"
          ],
          "name": "stdout"
        },
        {
          "output_type": "display_data",
          "data": {
            "image/png": "[encoded data removed]",
            "text/plain": [
              "<Figure size 720x360 with 2 Axes>"
            ]
          },
          "metadata": {
            "tags": [],
            "needs_background": "light"
          }
        }
      ]
    },
    {
      "cell_type": "code",
      "metadata": {
        "colab": {
          "base_uri": "https://localhost:8080/",
          "height": 422
        },
        "id": "5bLlEU1bk_yd",
        "outputId": "bfa49370-af15-4393-b4ff-652b6c0a3b5a"
      },
      "source": [
        "#to check optimal value of k : plotting k vs error graph\n",
        "\n",
        "error_rate = []\n",
        "for i in range(1,40):\n",
        " knn = KNeighborsClassifier(n_neighbors=i)\n",
        " knn.fit(x_train,y_train)\n",
        " pred_i = knn.predict(x_test)\n",
        " error_rate.append(np.mean(pred_i != y_test))\n",
        "\n",
        "plt.figure(figsize=(10,6))\n",
        "plt.plot(range(1,40),error_rate,color='blue', linestyle='dashed', \n",
        "         marker='o',markerfacecolor='red', markersize=10)\n",
        "plt.title('Error Rate vs. K Value')\n",
        "plt.xlabel('K')\n",
        "plt.ylabel('Error Rate')\n",
        "print(\"Minimum error:-\",min(error_rate),\"at K =\",error_rate.index(min(error_rate)))"
      ],
      "execution_count": null,
      "outputs": [
        {
          "output_type": "stream",
          "text": [
            "Minimum error:- 0.268 at K = 7\n"
          ],
          "name": "stdout"
        },
        {
          "output_type": "display_data",
          "data": {
            "image/png": "[encoded data removed]",
            "text/plain": [
              "<Figure size 720x432 with 1 Axes>"
            ]
          },
          "metadata": {
            "tags": [],
            "needs_background": "light"
          }
        }
      ]
    },
    {
      "cell_type": "code",
      "metadata": {
        "colab": {
          "base_uri": "https://localhost:8080/",
          "height": 312
        },
        "id": "rZWYcuSPlyp1",
        "outputId": "a606f34e-c69e-4a3d-dc9b-8246828f7dbe"
      },
      "source": [
        "acc = []\n",
        "\n",
        "from sklearn import metrics\n",
        "for i in range(1,40):\n",
        "    neigh = KNeighborsClassifier(n_neighbors = i).fit(x_train,y_train)\n",
        "    yhat = neigh.predict(x_test)\n",
        "    acc.append(metrics.accuracy_score(y_test, yhat))\n",
        "    \n",
        "plt.figure(figsize=(7,4))\n",
        "plt.plot(range(1,40),acc,color = 'blue',linestyle='dashed', \n",
        "         marker='o',markerfacecolor='red', markersize=10)\n",
        "plt.title('accuracy vs. K Value')\n",
        "plt.xlabel('K')\n",
        "plt.ylabel('Accuracy')\n",
        "print(\"Maximum accuracy:-\",max(acc),\"at K =\",acc.index(max(acc)))"
      ],
      "execution_count": null,
      "outputs": [
        {
          "output_type": "stream",
          "text": [
            "Maximum accuracy:- 0.732 at K = 7\n"
          ],
          "name": "stdout"
        },
        {
          "output_type": "display_data",
          "data": {
            "image/png": "[encoded data removed]",
            "text/plain": [
              "<Figure size 504x288 with 1 Axes>"
            ]
          },
          "metadata": {
            "tags": [],
            "needs_background": "light"
          }
        }
      ]
    },
    {
      "cell_type": "code",
      "metadata": {
        "id": "d1U4adJ3PNM2",
        "colab": {
          "base_uri": "https://localhost:8080/",
          "height": 391
        },
        "outputId": "2575e238-38b5-4fa7-efe2-b31279f0c1ad"
      },
      "source": [
        "\n",
        "randomforest = RandomForestClassifier(n_estimators=1000, max_depth=10, random_state=10) #10random trees\n",
        "checkmodel(randomforest,  \"Random Forest Classifier\")\n",
        "#randomforest.score(x_test,y_test)  #model accuracy\n",
        "\n"
      ],
      "execution_count": null,
      "outputs": [
        {
          "output_type": "stream",
          "text": [
            "Test Set Accuracy =  0.78\n",
            "Train Set Accuracy =  1.00\n",
            "Test Set F-score =  0.78\n"
          ],
          "name": "stdout"
        },
        {
          "output_type": "display_data",
          "data": {
            "image/png": "[encoded data removed]",
            "text/plain": [
              "<Figure size 720x360 with 2 Axes>"
            ]
          },
          "metadata": {
            "tags": [],
            "needs_background": "light"
          }
        }
      ]
    }
  ]
}