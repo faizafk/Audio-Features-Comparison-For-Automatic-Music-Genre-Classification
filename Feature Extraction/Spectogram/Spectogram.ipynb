{
  "nbformat": 4,
  "nbformat_minor": 0,
  "metadata": {
    "colab": {
      "name": "Spectogram.ipynb",
      "provenance": [],
      "collapsed_sections": []
    },
    "kernelspec": {
      "name": "python3",
      "display_name": "Python 3"
    }
  },
  "cells": [
    {
      "cell_type": "markdown",
      "metadata": {
        "id": "QzNXEDSUxAwy"
      },
      "source": [
        "1. Extract spectogram of all audio files into a folder\n",
        "2. Using split-folder, divide all images of each genre into test and train in a 80-20 ratio\n"
      ]
    },
    {
      "cell_type": "code",
      "metadata": {
        "colab": {
          "base_uri": "https://localhost:8080/"
        },
        "id": "H25-lI0MmX4W",
        "outputId": "7781096b-8bde-4853-bfd4-605878148905"
      },
      "source": [
        "from google.colab import drive\n",
        "drive.mount('/content/drive')"
      ],
      "execution_count": null,
      "outputs": [
        {
          "output_type": "stream",
          "text": [
            "Mounted at /content/drive\n"
          ],
          "name": "stdout"
        }
      ]
    },
    {
      "cell_type": "code",
      "metadata": {
        "id": "PHsvd22Jmac0"
      },
      "source": [
        "import pandas as pd\n",
        "import numpy as np\n",
        "from numpy import argmax\n",
        "import matplotlib.pyplot as plt\n",
        "%matplotlib inline\n",
        "import librosa\n",
        "import librosa.display\n",
        "import IPython.display\n",
        "import random\n",
        "import os\n",
        "from PIL import Image\n",
        "import pathlib\n",
        "import csv\n",
        "from matplotlib import cm\n",
        "from sklearn.model_selection import train_test_split\n",
        "import warnings\n",
        "warnings.filterwarnings('ignore')"
      ],
      "execution_count": null,
      "outputs": []
    },
    {
      "cell_type": "code",
      "metadata": {
        "id": "KVIXVzaOlRGi"
      },
      "source": [
        "song_dir =os.listdir('/content/drive/My Drive/RP/genres')\n"
      ],
      "execution_count": null,
      "outputs": []
    },
    {
      "cell_type": "code",
      "metadata": {
        "id": "GDFNh2wYlOg8"
      },
      "source": [
        "#loop through all folders of each genre and plot spectogram of each song\n",
        "genres = 'blues classical country disco hiphop jazz metal pop reggae rock'.split()\n",
        "for g in genres:\n",
        "    pathlib.Path(f'img_data/{g}').mkdir(parents=True, exist_ok=True)\n",
        "    for filename in os.listdir(f'/content/drive/My Drive/RP/genres/{g}'):\n",
        "        songname = f'/content/drive/My Drive/RP/genres/{g}/{filename}'\n",
        "        y, sr = librosa.load(songname, mono=True, duration=30)\n",
        "        print(y.shape)\n",
        "        plt.specgram(y, NFFT=2048, Fs=2, Fc=0, noverlap=128, cmap=cm.jet, sides='default', mode='default', scale='dB'); #spectogram plot\n",
        "        plt.axis('off');\n",
        "        plt.savefig(f'img_data/{g}/{filename[:-3].replace(\".\", \"\")}.png') #save and rename \n",
        "        plt.clf()"
      ],
      "execution_count": null,
      "outputs": []
    },
    {
      "cell_type": "code",
      "metadata": {
        "id": "g2JMFElXmqh9"
      },
      "source": [
        "!zip -r aspec.zip /content/img_data/ "
      ],
      "execution_count": null,
      "outputs": []
    },
    {
      "cell_type": "code",
      "metadata": {
        "id": "SKaGtUKqq8KQ"
      },
      "source": [
        "pip install split_folders"
      ],
      "execution_count": null,
      "outputs": []
    },
    {
      "cell_type": "code",
      "metadata": {
        "id": "6XMdKAEIrBOr"
      },
      "source": [
        "import splitfolders\n",
        "# split into training and test set using a ratio of 80-20 %\n",
        "splitfolders.ratio('./img_data/', output=\"./data\", seed=1337, ratio=(.8, .2)) "
      ],
      "execution_count": null,
      "outputs": []
    },
    {
      "cell_type": "code",
      "metadata": {
        "id": "HGtWq262rPI_"
      },
      "source": [
        "#final folder consisting separate test and train dataset\n",
        "!zip -r data.zip /content/data/"
      ],
      "execution_count": null,
      "outputs": []
    }
  ]
}